{
 "cells": [
  {
   "cell_type": "code",
   "execution_count": 12,
   "metadata": {},
   "outputs": [
    {
     "name": "stdout",
     "output_type": "stream",
     "text": [
      "cuda\n"
     ]
    },
    {
     "ename": "RuntimeError",
     "evalue": "CUDA error: unspecified launch failure\nCUDA kernel errors might be asynchronously reported at some other API call, so the stacktrace below might be incorrect.\nFor debugging consider passing CUDA_LAUNCH_BLOCKING=1\nCompile with `TORCH_USE_CUDA_DSA` to enable device-side assertions.\n",
     "output_type": "error",
     "traceback": [
      "\u001b[0;31m---------------------------------------------------------------------------\u001b[0m",
      "\u001b[0;31mRuntimeError\u001b[0m                              Traceback (most recent call last)",
      "Cell \u001b[0;32mIn[12], line 102\u001b[0m\n\u001b[1;32m    100\u001b[0m \u001b[38;5;28mprint\u001b[39m(device)\n\u001b[1;32m    101\u001b[0m env        \u001b[38;5;241m=\u001b[39m InventoryEnv(min_inv, max_inv, T)\n\u001b[0;32m--> 102\u001b[0m policy_net\u001b[38;5;241m=\u001b[39m DQN(state_dim, num_actions)\u001b[38;5;241m.\u001b[39mto(device)\n\u001b[1;32m    103\u001b[0m target_net\u001b[38;5;241m=\u001b[39m DQN(state_dim, num_actions)\u001b[38;5;241m.\u001b[39mto(device)\n\u001b[1;32m    104\u001b[0m target_net\u001b[38;5;241m.\u001b[39mload_state_dict(policy_net\u001b[38;5;241m.\u001b[39mstate_dict())\n",
      "File \u001b[0;32m~/Downloads/ENTER/lib/python3.12/site-packages/torch/nn/modules/module.py:1343\u001b[0m, in \u001b[0;36mModule.to\u001b[0;34m(self, *args, **kwargs)\u001b[0m\n\u001b[1;32m   1340\u001b[0m         \u001b[38;5;28;01melse\u001b[39;00m:\n\u001b[1;32m   1341\u001b[0m             \u001b[38;5;28;01mraise\u001b[39;00m\n\u001b[0;32m-> 1343\u001b[0m \u001b[38;5;28;01mreturn\u001b[39;00m \u001b[38;5;28mself\u001b[39m\u001b[38;5;241m.\u001b[39m_apply(convert)\n",
      "File \u001b[0;32m~/Downloads/ENTER/lib/python3.12/site-packages/torch/nn/modules/module.py:903\u001b[0m, in \u001b[0;36mModule._apply\u001b[0;34m(self, fn, recurse)\u001b[0m\n\u001b[1;32m    901\u001b[0m \u001b[38;5;28;01mif\u001b[39;00m recurse:\n\u001b[1;32m    902\u001b[0m     \u001b[38;5;28;01mfor\u001b[39;00m module \u001b[38;5;129;01min\u001b[39;00m \u001b[38;5;28mself\u001b[39m\u001b[38;5;241m.\u001b[39mchildren():\n\u001b[0;32m--> 903\u001b[0m         module\u001b[38;5;241m.\u001b[39m_apply(fn)\n\u001b[1;32m    905\u001b[0m \u001b[38;5;28;01mdef\u001b[39;00m \u001b[38;5;21mcompute_should_use_set_data\u001b[39m(tensor, tensor_applied):\n\u001b[1;32m    906\u001b[0m     \u001b[38;5;28;01mif\u001b[39;00m torch\u001b[38;5;241m.\u001b[39m_has_compatible_shallow_copy_type(tensor, tensor_applied):\n\u001b[1;32m    907\u001b[0m         \u001b[38;5;66;03m# If the new tensor has compatible tensor type as the existing tensor,\u001b[39;00m\n\u001b[1;32m    908\u001b[0m         \u001b[38;5;66;03m# the current behavior is to change the tensor in-place using `.data =`,\u001b[39;00m\n\u001b[0;32m   (...)\u001b[0m\n\u001b[1;32m    913\u001b[0m         \u001b[38;5;66;03m# global flag to let the user control whether they want the future\u001b[39;00m\n\u001b[1;32m    914\u001b[0m         \u001b[38;5;66;03m# behavior of overwriting the existing tensor or not.\u001b[39;00m\n",
      "File \u001b[0;32m~/Downloads/ENTER/lib/python3.12/site-packages/torch/nn/modules/module.py:903\u001b[0m, in \u001b[0;36mModule._apply\u001b[0;34m(self, fn, recurse)\u001b[0m\n\u001b[1;32m    901\u001b[0m \u001b[38;5;28;01mif\u001b[39;00m recurse:\n\u001b[1;32m    902\u001b[0m     \u001b[38;5;28;01mfor\u001b[39;00m module \u001b[38;5;129;01min\u001b[39;00m \u001b[38;5;28mself\u001b[39m\u001b[38;5;241m.\u001b[39mchildren():\n\u001b[0;32m--> 903\u001b[0m         module\u001b[38;5;241m.\u001b[39m_apply(fn)\n\u001b[1;32m    905\u001b[0m \u001b[38;5;28;01mdef\u001b[39;00m \u001b[38;5;21mcompute_should_use_set_data\u001b[39m(tensor, tensor_applied):\n\u001b[1;32m    906\u001b[0m     \u001b[38;5;28;01mif\u001b[39;00m torch\u001b[38;5;241m.\u001b[39m_has_compatible_shallow_copy_type(tensor, tensor_applied):\n\u001b[1;32m    907\u001b[0m         \u001b[38;5;66;03m# If the new tensor has compatible tensor type as the existing tensor,\u001b[39;00m\n\u001b[1;32m    908\u001b[0m         \u001b[38;5;66;03m# the current behavior is to change the tensor in-place using `.data =`,\u001b[39;00m\n\u001b[0;32m   (...)\u001b[0m\n\u001b[1;32m    913\u001b[0m         \u001b[38;5;66;03m# global flag to let the user control whether they want the future\u001b[39;00m\n\u001b[1;32m    914\u001b[0m         \u001b[38;5;66;03m# behavior of overwriting the existing tensor or not.\u001b[39;00m\n",
      "File \u001b[0;32m~/Downloads/ENTER/lib/python3.12/site-packages/torch/nn/modules/module.py:930\u001b[0m, in \u001b[0;36mModule._apply\u001b[0;34m(self, fn, recurse)\u001b[0m\n\u001b[1;32m    926\u001b[0m \u001b[38;5;66;03m# Tensors stored in modules are graph leaves, and we don't want to\u001b[39;00m\n\u001b[1;32m    927\u001b[0m \u001b[38;5;66;03m# track autograd history of `param_applied`, so we have to use\u001b[39;00m\n\u001b[1;32m    928\u001b[0m \u001b[38;5;66;03m# `with torch.no_grad():`\u001b[39;00m\n\u001b[1;32m    929\u001b[0m \u001b[38;5;28;01mwith\u001b[39;00m torch\u001b[38;5;241m.\u001b[39mno_grad():\n\u001b[0;32m--> 930\u001b[0m     param_applied \u001b[38;5;241m=\u001b[39m fn(param)\n\u001b[1;32m    931\u001b[0m p_should_use_set_data \u001b[38;5;241m=\u001b[39m compute_should_use_set_data(param, param_applied)\n\u001b[1;32m    933\u001b[0m \u001b[38;5;66;03m# subclasses may have multiple child tensors so we need to use swap_tensors\u001b[39;00m\n",
      "File \u001b[0;32m~/Downloads/ENTER/lib/python3.12/site-packages/torch/nn/modules/module.py:1329\u001b[0m, in \u001b[0;36mModule.to.<locals>.convert\u001b[0;34m(t)\u001b[0m\n\u001b[1;32m   1322\u001b[0m     \u001b[38;5;28;01mif\u001b[39;00m convert_to_format \u001b[38;5;129;01mis\u001b[39;00m \u001b[38;5;129;01mnot\u001b[39;00m \u001b[38;5;28;01mNone\u001b[39;00m \u001b[38;5;129;01mand\u001b[39;00m t\u001b[38;5;241m.\u001b[39mdim() \u001b[38;5;129;01min\u001b[39;00m (\u001b[38;5;241m4\u001b[39m, \u001b[38;5;241m5\u001b[39m):\n\u001b[1;32m   1323\u001b[0m         \u001b[38;5;28;01mreturn\u001b[39;00m t\u001b[38;5;241m.\u001b[39mto(\n\u001b[1;32m   1324\u001b[0m             device,\n\u001b[1;32m   1325\u001b[0m             dtype \u001b[38;5;28;01mif\u001b[39;00m t\u001b[38;5;241m.\u001b[39mis_floating_point() \u001b[38;5;129;01mor\u001b[39;00m t\u001b[38;5;241m.\u001b[39mis_complex() \u001b[38;5;28;01melse\u001b[39;00m \u001b[38;5;28;01mNone\u001b[39;00m,\n\u001b[1;32m   1326\u001b[0m             non_blocking,\n\u001b[1;32m   1327\u001b[0m             memory_format\u001b[38;5;241m=\u001b[39mconvert_to_format,\n\u001b[1;32m   1328\u001b[0m         )\n\u001b[0;32m-> 1329\u001b[0m     \u001b[38;5;28;01mreturn\u001b[39;00m t\u001b[38;5;241m.\u001b[39mto(\n\u001b[1;32m   1330\u001b[0m         device,\n\u001b[1;32m   1331\u001b[0m         dtype \u001b[38;5;28;01mif\u001b[39;00m t\u001b[38;5;241m.\u001b[39mis_floating_point() \u001b[38;5;129;01mor\u001b[39;00m t\u001b[38;5;241m.\u001b[39mis_complex() \u001b[38;5;28;01melse\u001b[39;00m \u001b[38;5;28;01mNone\u001b[39;00m,\n\u001b[1;32m   1332\u001b[0m         non_blocking,\n\u001b[1;32m   1333\u001b[0m     )\n\u001b[1;32m   1334\u001b[0m \u001b[38;5;28;01mexcept\u001b[39;00m \u001b[38;5;167;01mNotImplementedError\u001b[39;00m \u001b[38;5;28;01mas\u001b[39;00m e:\n\u001b[1;32m   1335\u001b[0m     \u001b[38;5;28;01mif\u001b[39;00m \u001b[38;5;28mstr\u001b[39m(e) \u001b[38;5;241m==\u001b[39m \u001b[38;5;124m\"\u001b[39m\u001b[38;5;124mCannot copy out of meta tensor; no data!\u001b[39m\u001b[38;5;124m\"\u001b[39m:\n",
      "\u001b[0;31mRuntimeError\u001b[0m: CUDA error: unspecified launch failure\nCUDA kernel errors might be asynchronously reported at some other API call, so the stacktrace below might be incorrect.\nFor debugging consider passing CUDA_LAUNCH_BLOCKING=1\nCompile with `TORCH_USE_CUDA_DSA` to enable device-side assertions.\n"
     ]
    }
   ],
   "source": [
    "import os, random, imageio\n",
    "from collections import deque\n",
    "\n",
    "import numpy as np\n",
    "import torch\n",
    "import torch.nn as nn\n",
    "import torch.optim as optim\n",
    "import matplotlib.pyplot as plt\n",
    "from tqdm import trange\n",
    "\n",
    "# -----------------------\n",
    "# 1) ENVIRONMENT\n",
    "# -----------------------\n",
    "class InventoryEnv:\n",
    "    def __init__(self, min_inv=-10, max_inv=10, T=50):\n",
    "        self.min_inv = min_inv\n",
    "        self.max_inv = max_inv\n",
    "        self.T       = T\n",
    "        self.reset()\n",
    "\n",
    "    def reset(self):\n",
    "        # start at a random inventory within bounds\n",
    "        self.s = random.randint(self.min_inv, self.max_inv)\n",
    "        self.t = 0\n",
    "        return np.array([self.s, self.t], dtype=np.float32)\n",
    "\n",
    "    def step(self, a):\n",
    "        # a in {0,1,2} ...\n",
    "        # random demand:\n",
    "        w = random.randint(0, 10)\n",
    "        s2 = self.s + a - w\n",
    "        s2 = max(self.min_inv, min(self.max_inv, s2))\n",
    "\n",
    "        # cost structure\n",
    "        p, a_cost, b_cost = 1, 1, 2\n",
    "        order_cost = p * a\n",
    "        inv_cost   = a_cost * s2 if s2 >= 0 else b_cost * (-s2)\n",
    "        cost       = order_cost + inv_cost\n",
    "\n",
    "        # reward = negative cost\n",
    "        r = cost\n",
    "\n",
    "        # advance time\n",
    "        self.t += 1\n",
    "        done = (self.t >= self.T)\n",
    "\n",
    "        # next state\n",
    "        self.s = s2\n",
    "        obs = np.array([self.s, self.t if not done else 0], dtype=np.float32)\n",
    "        return obs, r, done\n",
    "\n",
    "# -----------------------\n",
    "# 2) Q-NETWORK\n",
    "# -----------------------\n",
    "class DQN(nn.Module):\n",
    "    def __init__(self, state_dim, num_actions):\n",
    "        super().__init__()\n",
    "        self.net = nn.Sequential(\n",
    "            nn.Linear(state_dim, num_actions), \n",
    "            nn.ReLU(),\n",
    "            nn.Linear(64, 64),        \n",
    "            nn.ReLU(),\n",
    "            nn.Linear(64, num_actions)\n",
    "        )\n",
    "    def forward(self, x):\n",
    "        return self.net(x)\n",
    "\n",
    "# -----------------------\n",
    "# 3) REPLAY BUFFER\n",
    "# -----------------------\n",
    "class ReplayBuffer:\n",
    "    def __init__(self, cap): self.buf = deque(maxlen=cap)\n",
    "    def push(self, *args):    self.buf.append(tuple(args))\n",
    "    def sample(self, k):\n",
    "        batch = random.sample(self.buf, k)\n",
    "        return zip(*batch)\n",
    "    def __len__(self): return len(self.buf)\n",
    "\n",
    "# -----------------------\n",
    "# 4) HYPERPARAMETERS\n",
    "# -----------------------\n",
    "num_actions      = 3\n",
    "state_dim        = 2        # [inventory, time]\n",
    "T                = 50\n",
    "min_inv, max_inv = -10, 10\n",
    "gamma            = 1.0\n",
    "eps_start        = 0.9\n",
    "eps_end          = 0.05\n",
    "eps_decay        = 5000\n",
    "buffer_cap       = 50_000\n",
    "batch_size       = 32\n",
    "lr               = 1e-3\n",
    "target_update    = 10      # steps\n",
    "episodes         = 2000\n",
    "\n",
    "# -----------------------\n",
    "# 5) SETUP\n",
    "# -----------------------\n",
    "device     = torch.device(\"cuda\" if torch.cuda.is_available() else \"cpu\")\n",
    "print(device)\n",
    "env        = InventoryEnv(min_inv, max_inv, T)\n",
    "policy_net= DQN(state_dim, num_actions).to(device)\n",
    "target_net= DQN(state_dim, num_actions).to(device)\n",
    "target_net.load_state_dict(policy_net.state_dict())\n",
    "opt        = optim.Adam(policy_net.parameters(), lr=lr)\n",
    "buf        = ReplayBuffer(buffer_cap)\n",
    "\n",
    "step_count = 0\n",
    "eps        = eps_start\n",
    "\n",
    "# -----------------------\n",
    "# 6) TRAIN\n",
    "# -----------------------\n",
    "for ep in trange(episodes, desc=\"Training\"):\n",
    "    obs = env.reset()\n",
    "    done= False\n",
    "    while not done:\n",
    "        # ε-greedy\n",
    "        if random.random() < eps:\n",
    "            a = random.randrange(num_actions)\n",
    "        else:\n",
    "            st = torch.FloatTensor(obs).unsqueeze(0).to(device)\n",
    "            qv = policy_net(st)\n",
    "            a  = int(qv.argmin(dim=1).item())\n",
    "\n",
    "        # step\n",
    "        obs2, r, done = env.step(a)\n",
    "        buf.push(obs, a, r, obs2, done)\n",
    "        obs = obs2\n",
    "\n",
    "        # learn\n",
    "        if len(buf) >= batch_size:\n",
    "            s_batch, a_batch, r_batch, s2_batch, d_batch = buf.sample(batch_size)\n",
    "            s_v  = torch.FloatTensor(s_batch).to(device)\n",
    "            a_v  = torch.LongTensor(a_batch).to(device)\n",
    "            r_v  = torch.FloatTensor(r_batch).to(device)\n",
    "            s2_v = torch.FloatTensor(s2_batch).to(device)\n",
    "            d_v  = torch.FloatTensor(d_batch).to(device)\n",
    "\n",
    "            q_vals = policy_net(s_v).gather(1, a_v.unsqueeze(-1)).squeeze(-1)\n",
    "            with torch.no_grad():\n",
    "                q2 = target_net(s2_v)\n",
    "                q2_min = q2.min(dim=1)[0]\n",
    "                target = r_v + gamma * q2_min * (1 - d_v)\n",
    "\n",
    "            loss = nn.MSELoss()(q_vals, target)\n",
    "            opt.zero_grad(); loss.backward(); opt.step()\n",
    "\n",
    "            step_count += 1\n",
    "            if step_count % target_update == 0:\n",
    "                target_net.load_state_dict(policy_net.state_dict())\n",
    "\n",
    "    # decay ε\n",
    "    # eps = eps_end + (eps_start - eps_end) * np.exp(-ep/eps_decay)\n",
    "    # dont decay ε \n",
    "    eps = eps\n",
    "\n",
    "print(\" Training complete\")\n",
    "\n",
    "# -----------------------\n",
    "# 7) EXTRACT Q-TABLE & V(s,t)\n",
    "# -----------------------\n",
    "policy_net.eval()\n",
    "num_states = max_inv - min_inv + 1\n",
    "Q_tab  = np.zeros((T, num_states, num_actions), dtype=np.float32)\n",
    "V_tab  = np.zeros((T, num_states), dtype=np.float32)\n",
    "pi_tab = np.zeros((T, num_states), dtype=int)\n",
    "\n",
    "with torch.no_grad():\n",
    "    for t in range(T):\n",
    "        for i, s in enumerate(range(min_inv, max_inv+1)):\n",
    "            st = torch.FloatTensor([[s, t]]).to(device)\n",
    "            qs = policy_net(st).cpu().numpy()[0]\n",
    "            Q_tab[t, i] = qs\n",
    "            a_opt = int(np.argmin(qs))\n",
    "            pi_tab[t, i] = a_opt\n",
    "            V_tab[t, i] = qs[a_opt]\n",
    "\n",
    "# -----------------------\n",
    "# 8) COMPUTE σ_t\n",
    "# -----------------------\n",
    "# sigma = []\n",
    "# for t in range(T):\n",
    "#     row = pi_tab[t]\n",
    "#     th  = max_inv\n",
    "#     for i,a in enumerate(row):\n",
    "#         if a == 0:\n",
    "#             th = i + min_inv\n",
    "#             break\n",
    "#     sigma.append(th)\n",
    "\n",
    "# print(\"\\nLearned base‐stock thresholds σ_t (first 20):\")\n",
    "# for t in range(20):\n",
    "#     print(f\" t={t:3d}  σ_t = {sigma[t]:4d}\")\n",
    "# print(\"  ...\")\n",
    "\n",
    "# -----------------------\n",
    "# 9) ROLLOUT DEMO\n",
    "# -----------------------\n",
    "print(\"\\nTime | Inv | Demand | Action\")\n",
    "print(\"------------------------------------\")\n",
    "s = 0\n",
    "for t in range(T):\n",
    "    w = random.randint(0,10)\n",
    "    a = pi_tab[t, s-min_inv]\n",
    "    print(f\"{t:4d} | {s:4d} | {w:6d} | {a:6d}\")\n",
    "    s = max(min_inv, min(max_inv, s + a - w))\n",
    "\n",
    "# -----------------------\n",
    "# 10) PLOT SLICES of V(s)\n",
    "# -----------------------\n",
    "states = np.arange(min_inv, max_inv+1)\n",
    "# for t in [0, 25, 50, 75, 99]:\n",
    "#     plt.figure(figsize=(6,4))\n",
    "#     plt.plot(states, V_tab[t], marker='o')\n",
    "#     plt.title(f\"V(s) at t={t}\"); plt.xlabel(\"Inventory\"); plt.ylabel(\"Value\")\n",
    "#     plt.grid(); plt.show()\n",
    "\n",
    "# -----------------------\n",
    "# 11) GIF of V(s) over t\n",
    "# -----------------------\n",
    "os.makedirs(\"frames\", exist_ok=True)\n",
    "for t in range(T):\n",
    "    plt.figure(figsize=(4,3))\n",
    "    plt.plot(states, V_tab[t], marker='o')\n",
    "    plt.title(f\"t={t}\"); plt.tight_layout()\n",
    "    fn = f\"frames/{t:03d}.png\"\n",
    "    plt.savefig(fn); plt.close()\n",
    "\n",
    "with imageio.get_writer(\"vf_evolution_ar_6.gif\", mode=\"I\", duration=0.1) as w:\n",
    "    for t in range(T):\n",
    "        w.append_data(imageio.imread(f\"frames/{t:03d}.png\"))\n",
    "\n",
    "import shutil; shutil.rmtree(\"frames\")\n",
    "print(\"GIF saved as vf_evolution_ar_6.gif\")\n"
   ]
  },
  {
   "cell_type": "markdown",
   "metadata": {},
   "source": [
    "## Same code as above, just added code for monitoring Q-Values"
   ]
  },
  {
   "cell_type": "code",
   "execution_count": 16,
   "metadata": {},
   "outputs": [
    {
     "name": "stdout",
     "output_type": "stream",
     "text": [
      "cuda\n"
     ]
    },
    {
     "name": "stderr",
     "output_type": "stream",
     "text": [
      "Training:   0%|          | 0/3000 [00:00<?, ?it/s]"
     ]
    },
    {
     "name": "stderr",
     "output_type": "stream",
     "text": [
      "Training:   2%|▏         | 52/3000 [00:07<06:40,  7.35it/s]"
     ]
    },
    {
     "name": "stdout",
     "output_type": "stream",
     "text": [
      "[Episode 50] Max Q-value diff at t=0: 1334.623657\n"
     ]
    },
    {
     "name": "stderr",
     "output_type": "stream",
     "text": [
      "Training:   3%|▎         | 102/3000 [00:13<06:35,  7.33it/s]"
     ]
    },
    {
     "name": "stdout",
     "output_type": "stream",
     "text": [
      "[Episode 100] Max Q-value diff at t=0: 256.351562\n"
     ]
    },
    {
     "name": "stderr",
     "output_type": "stream",
     "text": [
      "Training:   5%|▌         | 152/3000 [00:19<05:59,  7.92it/s]"
     ]
    },
    {
     "name": "stdout",
     "output_type": "stream",
     "text": [
      "[Episode 150] Max Q-value diff at t=0: 90.700745\n"
     ]
    },
    {
     "name": "stderr",
     "output_type": "stream",
     "text": [
      "Training:   7%|▋         | 202/3000 [00:25<06:27,  7.21it/s]"
     ]
    },
    {
     "name": "stdout",
     "output_type": "stream",
     "text": [
      "[Episode 200] Max Q-value diff at t=0: 127.403809\n"
     ]
    },
    {
     "name": "stderr",
     "output_type": "stream",
     "text": [
      "Training:   8%|▊         | 252/3000 [00:32<06:16,  7.31it/s]"
     ]
    },
    {
     "name": "stdout",
     "output_type": "stream",
     "text": [
      "[Episode 250] Max Q-value diff at t=0: 60.177612\n"
     ]
    },
    {
     "name": "stderr",
     "output_type": "stream",
     "text": [
      "Training:  10%|█         | 302/3000 [00:39<06:12,  7.24it/s]"
     ]
    },
    {
     "name": "stdout",
     "output_type": "stream",
     "text": [
      "[Episode 300] Max Q-value diff at t=0: 62.432129\n"
     ]
    },
    {
     "name": "stderr",
     "output_type": "stream",
     "text": [
      "Training:  12%|█▏        | 352/3000 [00:45<06:06,  7.23it/s]"
     ]
    },
    {
     "name": "stdout",
     "output_type": "stream",
     "text": [
      "[Episode 350] Max Q-value diff at t=0: 61.157166\n"
     ]
    },
    {
     "name": "stderr",
     "output_type": "stream",
     "text": [
      "Training:  13%|█▎        | 402/3000 [00:51<04:43,  9.16it/s]"
     ]
    },
    {
     "name": "stdout",
     "output_type": "stream",
     "text": [
      "[Episode 400] Max Q-value diff at t=0: 109.991333\n"
     ]
    },
    {
     "name": "stderr",
     "output_type": "stream",
     "text": [
      "Training:  15%|█▌        | 452/3000 [00:57<05:51,  7.25it/s]"
     ]
    },
    {
     "name": "stdout",
     "output_type": "stream",
     "text": [
      "[Episode 450] Max Q-value diff at t=0: 95.103394\n"
     ]
    },
    {
     "name": "stderr",
     "output_type": "stream",
     "text": [
      "Training:  17%|█▋        | 502/3000 [01:03<05:46,  7.21it/s]"
     ]
    },
    {
     "name": "stdout",
     "output_type": "stream",
     "text": [
      "[Episode 500] Max Q-value diff at t=0: 90.485413\n"
     ]
    },
    {
     "name": "stderr",
     "output_type": "stream",
     "text": [
      "Training:  18%|█▊        | 552/3000 [01:10<05:42,  7.16it/s]"
     ]
    },
    {
     "name": "stdout",
     "output_type": "stream",
     "text": [
      "[Episode 550] Max Q-value diff at t=0: 96.133423\n"
     ]
    },
    {
     "name": "stderr",
     "output_type": "stream",
     "text": [
      "Training:  20%|██        | 602/3000 [01:17<05:35,  7.14it/s]"
     ]
    },
    {
     "name": "stdout",
     "output_type": "stream",
     "text": [
      "[Episode 600] Max Q-value diff at t=0: 86.837402\n"
     ]
    },
    {
     "name": "stderr",
     "output_type": "stream",
     "text": [
      "Training:  22%|██▏       | 652/3000 [01:24<05:58,  6.55it/s]"
     ]
    },
    {
     "name": "stdout",
     "output_type": "stream",
     "text": [
      "[Episode 650] Max Q-value diff at t=0: 139.234009\n"
     ]
    },
    {
     "name": "stderr",
     "output_type": "stream",
     "text": [
      "Training:  23%|██▎       | 702/3000 [01:31<05:46,  6.62it/s]"
     ]
    },
    {
     "name": "stdout",
     "output_type": "stream",
     "text": [
      "[Episode 700] Max Q-value diff at t=0: 172.970520\n"
     ]
    },
    {
     "name": "stderr",
     "output_type": "stream",
     "text": [
      "Training:  25%|██▌       | 752/3000 [01:39<05:29,  6.82it/s]"
     ]
    },
    {
     "name": "stdout",
     "output_type": "stream",
     "text": [
      "[Episode 750] Max Q-value diff at t=0: 140.715942\n"
     ]
    },
    {
     "name": "stderr",
     "output_type": "stream",
     "text": [
      "Training:  27%|██▋       | 802/3000 [01:46<05:08,  7.11it/s]"
     ]
    },
    {
     "name": "stdout",
     "output_type": "stream",
     "text": [
      "[Episode 800] Max Q-value diff at t=0: 143.508789\n"
     ]
    },
    {
     "name": "stderr",
     "output_type": "stream",
     "text": [
      "Training:  28%|██▊       | 852/3000 [01:53<04:59,  7.18it/s]"
     ]
    },
    {
     "name": "stdout",
     "output_type": "stream",
     "text": [
      "[Episode 850] Max Q-value diff at t=0: 56.324402\n"
     ]
    },
    {
     "name": "stderr",
     "output_type": "stream",
     "text": [
      "Training:  30%|███       | 902/3000 [01:59<04:53,  7.16it/s]"
     ]
    },
    {
     "name": "stdout",
     "output_type": "stream",
     "text": [
      "[Episode 900] Max Q-value diff at t=0: 70.671875\n"
     ]
    },
    {
     "name": "stderr",
     "output_type": "stream",
     "text": [
      "Training:  32%|███▏      | 952/3000 [02:06<04:44,  7.19it/s]"
     ]
    },
    {
     "name": "stdout",
     "output_type": "stream",
     "text": [
      "[Episode 950] Max Q-value diff at t=0: 52.410767\n"
     ]
    },
    {
     "name": "stderr",
     "output_type": "stream",
     "text": [
      "Training:  33%|███▎      | 1002/3000 [02:13<04:38,  7.18it/s]"
     ]
    },
    {
     "name": "stdout",
     "output_type": "stream",
     "text": [
      "[Episode 1000] Max Q-value diff at t=0: 145.805298\n"
     ]
    },
    {
     "name": "stderr",
     "output_type": "stream",
     "text": [
      "Training:  35%|███▌      | 1052/3000 [02:19<04:32,  7.16it/s]"
     ]
    },
    {
     "name": "stdout",
     "output_type": "stream",
     "text": [
      "[Episode 1050] Max Q-value diff at t=0: 274.505615\n"
     ]
    },
    {
     "name": "stderr",
     "output_type": "stream",
     "text": [
      "Training:  37%|███▋      | 1102/3000 [02:26<04:25,  7.14it/s]"
     ]
    },
    {
     "name": "stdout",
     "output_type": "stream",
     "text": [
      "[Episode 1100] Max Q-value diff at t=0: 50.272339\n"
     ]
    },
    {
     "name": "stderr",
     "output_type": "stream",
     "text": [
      "Training:  38%|███▊      | 1152/3000 [02:33<04:20,  7.09it/s]"
     ]
    },
    {
     "name": "stdout",
     "output_type": "stream",
     "text": [
      "[Episode 1150] Max Q-value diff at t=0: 66.356995\n"
     ]
    },
    {
     "name": "stderr",
     "output_type": "stream",
     "text": [
      "Training:  40%|████      | 1202/3000 [02:40<04:13,  7.09it/s]"
     ]
    },
    {
     "name": "stdout",
     "output_type": "stream",
     "text": [
      "[Episode 1200] Max Q-value diff at t=0: 110.987305\n"
     ]
    },
    {
     "name": "stderr",
     "output_type": "stream",
     "text": [
      "Training:  42%|████▏     | 1252/3000 [02:47<04:04,  7.14it/s]"
     ]
    },
    {
     "name": "stdout",
     "output_type": "stream",
     "text": [
      "[Episode 1250] Max Q-value diff at t=0: 61.845886\n"
     ]
    },
    {
     "name": "stderr",
     "output_type": "stream",
     "text": [
      "Training:  43%|████▎     | 1302/3000 [02:53<03:57,  7.14it/s]"
     ]
    },
    {
     "name": "stdout",
     "output_type": "stream",
     "text": [
      "[Episode 1300] Max Q-value diff at t=0: 51.946960\n"
     ]
    },
    {
     "name": "stderr",
     "output_type": "stream",
     "text": [
      "Training:  45%|████▌     | 1352/3000 [03:00<03:53,  7.06it/s]"
     ]
    },
    {
     "name": "stdout",
     "output_type": "stream",
     "text": [
      "[Episode 1350] Max Q-value diff at t=0: 77.501404\n"
     ]
    },
    {
     "name": "stderr",
     "output_type": "stream",
     "text": [
      "Training:  47%|████▋     | 1402/3000 [03:07<03:41,  7.20it/s]"
     ]
    },
    {
     "name": "stdout",
     "output_type": "stream",
     "text": [
      "[Episode 1400] Max Q-value diff at t=0: 108.556152\n"
     ]
    },
    {
     "name": "stderr",
     "output_type": "stream",
     "text": [
      "Training:  48%|████▊     | 1452/3000 [03:14<03:36,  7.15it/s]"
     ]
    },
    {
     "name": "stdout",
     "output_type": "stream",
     "text": [
      "[Episode 1450] Max Q-value diff at t=0: 142.064453\n"
     ]
    },
    {
     "name": "stderr",
     "output_type": "stream",
     "text": [
      "Training:  50%|█████     | 1502/3000 [03:21<03:30,  7.13it/s]"
     ]
    },
    {
     "name": "stdout",
     "output_type": "stream",
     "text": [
      "[Episode 1500] Max Q-value diff at t=0: 97.299927\n"
     ]
    },
    {
     "name": "stderr",
     "output_type": "stream",
     "text": [
      "Training:  52%|█████▏    | 1552/3000 [03:27<03:23,  7.10it/s]"
     ]
    },
    {
     "name": "stdout",
     "output_type": "stream",
     "text": [
      "[Episode 1550] Max Q-value diff at t=0: 47.451904\n"
     ]
    },
    {
     "name": "stderr",
     "output_type": "stream",
     "text": [
      "Training:  53%|█████▎    | 1602/3000 [03:34<03:15,  7.14it/s]"
     ]
    },
    {
     "name": "stdout",
     "output_type": "stream",
     "text": [
      "[Episode 1600] Max Q-value diff at t=0: 149.066101\n"
     ]
    },
    {
     "name": "stderr",
     "output_type": "stream",
     "text": [
      "Training:  55%|█████▌    | 1652/3000 [03:40<03:10,  7.08it/s]"
     ]
    },
    {
     "name": "stdout",
     "output_type": "stream",
     "text": [
      "[Episode 1650] Max Q-value diff at t=0: 78.296936\n"
     ]
    },
    {
     "name": "stderr",
     "output_type": "stream",
     "text": [
      "Training:  57%|█████▋    | 1702/3000 [03:47<03:00,  7.20it/s]"
     ]
    },
    {
     "name": "stdout",
     "output_type": "stream",
     "text": [
      "[Episode 1700] Max Q-value diff at t=0: 122.596802\n"
     ]
    },
    {
     "name": "stderr",
     "output_type": "stream",
     "text": [
      "Training:  58%|█████▊    | 1752/3000 [03:54<02:55,  7.09it/s]"
     ]
    },
    {
     "name": "stdout",
     "output_type": "stream",
     "text": [
      "[Episode 1750] Max Q-value diff at t=0: 64.429688\n"
     ]
    },
    {
     "name": "stderr",
     "output_type": "stream",
     "text": [
      "Training:  60%|██████    | 1802/3000 [04:00<02:13,  8.97it/s]"
     ]
    },
    {
     "name": "stdout",
     "output_type": "stream",
     "text": [
      "[Episode 1800] Max Q-value diff at t=0: 43.922485\n"
     ]
    },
    {
     "name": "stderr",
     "output_type": "stream",
     "text": [
      "Training:  62%|██████▏   | 1852/3000 [04:05<02:10,  8.81it/s]"
     ]
    },
    {
     "name": "stdout",
     "output_type": "stream",
     "text": [
      "[Episode 1850] Max Q-value diff at t=0: 163.776794\n"
     ]
    },
    {
     "name": "stderr",
     "output_type": "stream",
     "text": [
      "Training:  63%|██████▎   | 1902/3000 [04:10<02:02,  8.98it/s]"
     ]
    },
    {
     "name": "stdout",
     "output_type": "stream",
     "text": [
      "[Episode 1900] Max Q-value diff at t=0: 184.184509\n"
     ]
    },
    {
     "name": "stderr",
     "output_type": "stream",
     "text": [
      "Training:  65%|██████▌   | 1952/3000 [04:17<02:27,  7.11it/s]"
     ]
    },
    {
     "name": "stdout",
     "output_type": "stream",
     "text": [
      "[Episode 1950] Max Q-value diff at t=0: 76.496704\n"
     ]
    },
    {
     "name": "stderr",
     "output_type": "stream",
     "text": [
      "Training:  67%|██████▋   | 2002/3000 [04:24<02:19,  7.13it/s]"
     ]
    },
    {
     "name": "stdout",
     "output_type": "stream",
     "text": [
      "[Episode 2000] Max Q-value diff at t=0: 73.406921\n"
     ]
    },
    {
     "name": "stderr",
     "output_type": "stream",
     "text": [
      "Training:  68%|██████▊   | 2052/3000 [04:31<02:13,  7.11it/s]"
     ]
    },
    {
     "name": "stdout",
     "output_type": "stream",
     "text": [
      "[Episode 2050] Max Q-value diff at t=0: 55.971375\n"
     ]
    },
    {
     "name": "stderr",
     "output_type": "stream",
     "text": [
      "Training:  70%|███████   | 2102/3000 [04:37<02:05,  7.16it/s]"
     ]
    },
    {
     "name": "stdout",
     "output_type": "stream",
     "text": [
      "[Episode 2100] Max Q-value diff at t=0: 85.391968\n"
     ]
    },
    {
     "name": "stderr",
     "output_type": "stream",
     "text": [
      "Training:  72%|███████▏  | 2152/3000 [04:44<01:58,  7.14it/s]"
     ]
    },
    {
     "name": "stdout",
     "output_type": "stream",
     "text": [
      "[Episode 2150] Max Q-value diff at t=0: 99.891357\n"
     ]
    },
    {
     "name": "stderr",
     "output_type": "stream",
     "text": [
      "Training:  73%|███████▎  | 2202/3000 [04:51<01:52,  7.12it/s]"
     ]
    },
    {
     "name": "stdout",
     "output_type": "stream",
     "text": [
      "[Episode 2200] Max Q-value diff at t=0: 126.333252\n"
     ]
    },
    {
     "name": "stderr",
     "output_type": "stream",
     "text": [
      "Training:  75%|███████▌  | 2252/3000 [04:58<01:45,  7.11it/s]"
     ]
    },
    {
     "name": "stdout",
     "output_type": "stream",
     "text": [
      "[Episode 2250] Max Q-value diff at t=0: 31.623901\n"
     ]
    },
    {
     "name": "stderr",
     "output_type": "stream",
     "text": [
      "Training:  77%|███████▋  | 2302/3000 [05:04<01:37,  7.15it/s]"
     ]
    },
    {
     "name": "stdout",
     "output_type": "stream",
     "text": [
      "[Episode 2300] Max Q-value diff at t=0: 159.464722\n"
     ]
    },
    {
     "name": "stderr",
     "output_type": "stream",
     "text": [
      "Training:  78%|███████▊  | 2352/3000 [05:11<01:30,  7.19it/s]"
     ]
    },
    {
     "name": "stdout",
     "output_type": "stream",
     "text": [
      "[Episode 2350] Max Q-value diff at t=0: 184.880127\n"
     ]
    },
    {
     "name": "stderr",
     "output_type": "stream",
     "text": [
      "Training:  80%|████████  | 2402/3000 [05:18<01:24,  7.09it/s]"
     ]
    },
    {
     "name": "stdout",
     "output_type": "stream",
     "text": [
      "[Episode 2400] Max Q-value diff at t=0: 50.062744\n"
     ]
    },
    {
     "name": "stderr",
     "output_type": "stream",
     "text": [
      "Training:  82%|████████▏ | 2452/3000 [05:25<01:07,  8.08it/s]"
     ]
    },
    {
     "name": "stdout",
     "output_type": "stream",
     "text": [
      "[Episode 2450] Max Q-value diff at t=0: 177.298828\n"
     ]
    },
    {
     "name": "stderr",
     "output_type": "stream",
     "text": [
      "Training:  83%|████████▎ | 2502/3000 [05:31<01:10,  7.09it/s]"
     ]
    },
    {
     "name": "stdout",
     "output_type": "stream",
     "text": [
      "[Episode 2500] Max Q-value diff at t=0: 133.057373\n"
     ]
    },
    {
     "name": "stderr",
     "output_type": "stream",
     "text": [
      "Training:  85%|████████▌ | 2552/3000 [05:38<01:02,  7.13it/s]"
     ]
    },
    {
     "name": "stdout",
     "output_type": "stream",
     "text": [
      "[Episode 2550] Max Q-value diff at t=0: 56.086304\n"
     ]
    },
    {
     "name": "stderr",
     "output_type": "stream",
     "text": [
      "Training:  87%|████████▋ | 2602/3000 [05:45<00:55,  7.13it/s]"
     ]
    },
    {
     "name": "stdout",
     "output_type": "stream",
     "text": [
      "[Episode 2600] Max Q-value diff at t=0: 78.437927\n"
     ]
    },
    {
     "name": "stderr",
     "output_type": "stream",
     "text": [
      "Training:  88%|████████▊ | 2652/3000 [05:52<00:48,  7.15it/s]"
     ]
    },
    {
     "name": "stdout",
     "output_type": "stream",
     "text": [
      "[Episode 2650] Max Q-value diff at t=0: 76.972656\n"
     ]
    },
    {
     "name": "stderr",
     "output_type": "stream",
     "text": [
      "Training:  90%|█████████ | 2702/3000 [05:59<00:41,  7.19it/s]"
     ]
    },
    {
     "name": "stdout",
     "output_type": "stream",
     "text": [
      "[Episode 2700] Max Q-value diff at t=0: 96.571899\n"
     ]
    },
    {
     "name": "stderr",
     "output_type": "stream",
     "text": [
      "Training:  92%|█████████▏| 2752/3000 [06:05<00:34,  7.19it/s]"
     ]
    },
    {
     "name": "stdout",
     "output_type": "stream",
     "text": [
      "[Episode 2750] Max Q-value diff at t=0: 133.134399\n"
     ]
    },
    {
     "name": "stderr",
     "output_type": "stream",
     "text": [
      "Training:  93%|█████████▎| 2802/3000 [06:12<00:27,  7.19it/s]"
     ]
    },
    {
     "name": "stdout",
     "output_type": "stream",
     "text": [
      "[Episode 2800] Max Q-value diff at t=0: 63.192200\n"
     ]
    },
    {
     "name": "stderr",
     "output_type": "stream",
     "text": [
      "Training:  95%|█████████▌| 2852/3000 [06:19<00:20,  7.25it/s]"
     ]
    },
    {
     "name": "stdout",
     "output_type": "stream",
     "text": [
      "[Episode 2850] Max Q-value diff at t=0: 52.848999\n"
     ]
    },
    {
     "name": "stderr",
     "output_type": "stream",
     "text": [
      "Training:  97%|█████████▋| 2902/3000 [06:25<00:13,  7.15it/s]"
     ]
    },
    {
     "name": "stdout",
     "output_type": "stream",
     "text": [
      "[Episode 2900] Max Q-value diff at t=0: 110.560852\n"
     ]
    },
    {
     "name": "stderr",
     "output_type": "stream",
     "text": [
      "Training:  98%|█████████▊| 2952/3000 [06:32<00:06,  7.06it/s]"
     ]
    },
    {
     "name": "stdout",
     "output_type": "stream",
     "text": [
      "[Episode 2950] Max Q-value diff at t=0: 89.894409\n"
     ]
    },
    {
     "name": "stderr",
     "output_type": "stream",
     "text": [
      "Training: 100%|██████████| 3000/3000 [06:39<00:00,  7.52it/s]\n"
     ]
    },
    {
     "name": "stdout",
     "output_type": "stream",
     "text": [
      "Training complete\n"
     ]
    },
    {
     "data": {
      "image/png": "[encoded data removed]",
      "text/plain": [
       "<Figure size 600x400 with 1 Axes>"
      ]
     },
     "metadata": {},
     "output_type": "display_data"
    },
    {
     "name": "stdout",
     "output_type": "stream",
     "text": [
      "\n",
      "Time | Inv | Demand | Action\n",
      "------------------------------------\n",
      "   0 |    0 |     10 |      8\n",
      "   1 |   -2 |      6 |      8\n",
      "   2 |    0 |      5 |      8\n",
      "   3 |    3 |      5 |      8\n",
      "   4 |    6 |      4 |      8\n",
      "   5 |   10 |      7 |      1\n",
      "   6 |    4 |      4 |      8\n",
      "   7 |    8 |      4 |      8\n",
      "   8 |   12 |      6 |      1\n",
      "   9 |    7 |      2 |      8\n",
      "  10 |   13 |     10 |      1\n",
      "  11 |    4 |      7 |      8\n",
      "  12 |    5 |      8 |      8\n",
      "  13 |    5 |      6 |      8\n",
      "  14 |    7 |      4 |      8\n",
      "  15 |   11 |      5 |      1\n",
      "  16 |    7 |      4 |      8\n",
      "  17 |   11 |      4 |      1\n",
      "  18 |    8 |      0 |      1\n",
      "  19 |    9 |      5 |      1\n",
      "  20 |    5 |      1 |      8\n",
      "  21 |   12 |      5 |      1\n",
      "  22 |    8 |      3 |      1\n",
      "  23 |    6 |     10 |      8\n",
      "  24 |    4 |      3 |      8\n",
      "  25 |    9 |      3 |      1\n",
      "  26 |    7 |      7 |      3\n",
      "  27 |    3 |      3 |      8\n",
      "  28 |    8 |      1 |      1\n",
      "  29 |    8 |     10 |      1\n",
      "  30 |   -1 |      7 |      8\n",
      "  31 |    0 |     10 |      8\n",
      "  32 |   -2 |      2 |      8\n",
      "  33 |    4 |      6 |      8\n",
      "  34 |    6 |     10 |      3\n",
      "  35 |   -1 |      2 |      8\n",
      "  36 |    5 |      1 |      3\n",
      "  37 |    7 |      9 |      3\n",
      "  38 |    1 |      5 |      8\n",
      "  39 |    4 |      6 |      5\n",
      "  40 |    3 |      0 |      5\n",
      "  41 |    8 |      3 |      1\n",
      "  42 |    6 |      9 |      3\n",
      "  43 |    0 |      0 |      8\n",
      "  44 |    8 |      0 |      3\n",
      "  45 |   11 |      0 |      0\n",
      "  46 |   11 |      5 |      0\n",
      "  47 |    6 |      0 |      3\n",
      "  48 |    9 |      7 |      0\n",
      "  49 |    2 |      8 |      6\n"
     ]
    },
    {
     "name": "stderr",
     "output_type": "stream",
     "text": [
      "/tmp/ipykernel_37148/1719437843.py:226: DeprecationWarning: Starting with ImageIO v3 the behavior of this function will switch to that of iio.v3.imread. To keep the current behavior (and make this warning disappear) use `import imageio.v2 as imageio` or call `imageio.v2.imread` directly.\n",
      "  w.append_data(imageio.imread(f\"frames/{t:03d}.png\"))\n"
     ]
    },
    {
     "name": "stdout",
     "output_type": "stream",
     "text": [
      "GIF saved as vf_evolution_ar_12.gif\n"
     ]
    }
   ],
   "source": [
    "import os, random, imageio, shutil\n",
    "from collections import deque\n",
    "\n",
    "import numpy as np\n",
    "import torch\n",
    "import torch.nn as nn\n",
    "import torch.optim as optim\n",
    "import matplotlib.pyplot as plt\n",
    "from tqdm import trange\n",
    "\n",
    "# -----------------------\n",
    "# 1) ENVIRONMENT\n",
    "# -----------------------\n",
    "class InventoryEnv:\n",
    "    def __init__(self, min_inv=-50, max_inv=50, T=50):\n",
    "        self.min_inv = min_inv\n",
    "        self.max_inv = max_inv\n",
    "        self.T       = T\n",
    "        self.reset()\n",
    "\n",
    "    def reset(self):\n",
    "        self.s = random.randint(self.min_inv, self.max_inv)\n",
    "        self.t = 0\n",
    "        return np.array([self.s, self.t], dtype=np.float32)\n",
    "\n",
    "    def step(self, a):\n",
    "        w = random.randint(0, 10)\n",
    "        s2 = self.s + a - w\n",
    "        s2 = max(self.min_inv, min(self.max_inv, s2))\n",
    "\n",
    "        p, a_cost, b_cost = 1, 1, 2\n",
    "        order_cost = p * a\n",
    "        inv_cost   = a_cost * s2 if s2 >= 0 else b_cost * (-s2)\n",
    "        cost       = order_cost + inv_cost\n",
    "        r = cost\n",
    "\n",
    "        self.t += 1\n",
    "        done = (self.t >= self.T)\n",
    "        self.s = s2\n",
    "        obs = np.array([self.s, self.t if not done else 0], dtype=np.float32)\n",
    "        return obs, r, done\n",
    "\n",
    "# -----------------------\n",
    "# 2) Q-NETWORK\n",
    "# -----------------------\n",
    "class DQN(nn.Module):\n",
    "    def __init__(self, state_dim, num_actions):\n",
    "        super().__init__()\n",
    "        self.net = nn.Sequential(\n",
    "            nn.Linear(state_dim, 64),\n",
    "            nn.ReLU(),\n",
    "            nn.Linear(64, 64),\n",
    "            nn.ReLU(),\n",
    "            nn.Linear(64, num_actions)\n",
    "        )\n",
    "    def forward(self, x):\n",
    "        return self.net(x)\n",
    "\n",
    "# -----------------------\n",
    "# 3) REPLAY BUFFER\n",
    "# -----------------------\n",
    "class ReplayBuffer:\n",
    "    def __init__(self, cap): self.buf = deque(maxlen=cap)\n",
    "    def push(self, *args):    self.buf.append(tuple(args))\n",
    "    def sample(self, k):\n",
    "        batch = random.sample(self.buf, k)\n",
    "        return zip(*batch)\n",
    "    def __len__(self): return len(self.buf)\n",
    "\n",
    "# -----------------------\n",
    "# 4) HYPERPARAMETERS\n",
    "# -----------------------\n",
    "num_actions      = 10\n",
    "state_dim        = 2\n",
    "T                = 50\n",
    "min_inv, max_inv = -50, 50\n",
    "gamma            = 1.0\n",
    "eps_start        = 0.9\n",
    "eps_end          = 0.05\n",
    "eps_decay        = 5000\n",
    "buffer_cap       = 50_000\n",
    "batch_size       = 32\n",
    "lr               = 1e-3\n",
    "target_update    = 10\n",
    "episodes         = 3000\n",
    "\n",
    "# -----------------------\n",
    "# 5) SETUP\n",
    "# -----------------------\n",
    "device     = torch.device(\"cuda\" if torch.cuda.is_available() else \"cpu\")\n",
    "print(device)\n",
    "env        = InventoryEnv(min_inv, max_inv, T)\n",
    "policy_net = DQN(state_dim, num_actions).to(device)\n",
    "target_net = DQN(state_dim, num_actions).to(device)\n",
    "target_net.load_state_dict(policy_net.state_dict())\n",
    "opt        = optim.Adam(policy_net.parameters(), lr=lr)\n",
    "buf        = ReplayBuffer(buffer_cap)\n",
    "\n",
    "step_count = 0\n",
    "eps        = eps_start\n",
    "\n",
    "# For Q-value convergence check\n",
    "q_convergence = []\n",
    "prev_q_snapshot = None\n",
    "check_convergence_interval = 50\n",
    "\n",
    "# -----------------------\n",
    "# 6) TRAIN\n",
    "# -----------------------\n",
    "for ep in trange(episodes, desc=\"Training\"):\n",
    "    obs = env.reset()\n",
    "    done= False\n",
    "    while not done:\n",
    "        if random.random() < eps:\n",
    "            a = random.randrange(num_actions)\n",
    "        else:\n",
    "            st = torch.FloatTensor(obs).unsqueeze(0).to(device)\n",
    "            qv = policy_net(st)\n",
    "            a  = int(qv.argmin(dim=1).item())\n",
    "\n",
    "        obs2, r, done = env.step(a)\n",
    "        buf.push(obs, a, r, obs2, done)\n",
    "        obs = obs2\n",
    "\n",
    "        if len(buf) >= batch_size:\n",
    "            s_batch, a_batch, r_batch, s2_batch, d_batch = buf.sample(batch_size)\n",
    "            s_v  = torch.FloatTensor(s_batch).to(device)\n",
    "            a_v  = torch.LongTensor(a_batch).to(device)\n",
    "            r_v  = torch.FloatTensor(r_batch).to(device)\n",
    "            s2_v = torch.FloatTensor(s2_batch).to(device)\n",
    "            d_v  = torch.FloatTensor(d_batch).to(device)\n",
    "\n",
    "            q_vals = policy_net(s_v).gather(1, a_v.unsqueeze(-1)).squeeze(-1)\n",
    "            with torch.no_grad():\n",
    "                q2 = target_net(s2_v)\n",
    "                q2_min = q2.min(dim=1)[0]\n",
    "                target = r_v + gamma * q2_min * (1 - d_v)\n",
    "\n",
    "            loss = nn.MSELoss()(q_vals, target)\n",
    "            opt.zero_grad(); loss.backward(); opt.step()\n",
    "\n",
    "            step_count += 1\n",
    "            if step_count % target_update == 0:\n",
    "                target_net.load_state_dict(policy_net.state_dict())\n",
    "\n",
    "    # Don't decay ε\n",
    "    eps = eps\n",
    "\n",
    "    # Check Q-value convergence\n",
    "    if ep % check_convergence_interval == 0:\n",
    "        with torch.no_grad():\n",
    "            q_snapshot = []\n",
    "            for i, s in enumerate(range(min_inv, max_inv+1)):\n",
    "                st = torch.FloatTensor([[s, 0]]).to(device)\n",
    "                qs = policy_net(st).cpu().numpy()[0]\n",
    "                q_snapshot.append(qs)\n",
    "            q_snapshot = np.array(q_snapshot)\n",
    "\n",
    "        if prev_q_snapshot is not None:\n",
    "            diff = np.abs(prev_q_snapshot - q_snapshot)\n",
    "            max_diff = np.max(diff)\n",
    "            q_convergence.append(max_diff)\n",
    "            print(f\"[Episode {ep}] Max Q-value diff at t=0: {max_diff:.6f}\")\n",
    "        prev_q_snapshot = q_snapshot\n",
    "\n",
    "print(\"Training complete\")\n",
    "\n",
    "# -----------------------\n",
    "# Plot Q-value convergence\n",
    "# -----------------------\n",
    "if q_convergence:\n",
    "    plt.figure(figsize=(6, 4))\n",
    "    plt.plot(np.arange(len(q_convergence)) * check_convergence_interval, q_convergence, marker='o')\n",
    "    plt.xlabel(\"Episode\")\n",
    "    plt.ylabel(\"Max ΔQ at t=0\")\n",
    "    plt.title(\"Q-value Convergence\")\n",
    "    plt.grid()\n",
    "    plt.tight_layout()\n",
    "    plt.show()\n",
    "\n",
    "# -----------------------\n",
    "# 7) EXTRACT Q-TABLE & V(s,t)\n",
    "# -----------------------\n",
    "policy_net.eval()\n",
    "num_states = max_inv - min_inv + 1\n",
    "Q_tab  = np.zeros((T, num_states, num_actions), dtype=np.float32)\n",
    "V_tab  = np.zeros((T, num_states), dtype=np.float32)\n",
    "pi_tab = np.zeros((T, num_states), dtype=int)\n",
    "\n",
    "with torch.no_grad():\n",
    "    for t in range(T):\n",
    "        for i, s in enumerate(range(min_inv, max_inv+1)):\n",
    "            st = torch.FloatTensor([[s, t]]).to(device)\n",
    "            qs = policy_net(st).cpu().numpy()[0]\n",
    "            Q_tab[t, i] = qs\n",
    "            a_opt = int(np.argmin(qs))\n",
    "            pi_tab[t, i] = a_opt\n",
    "            V_tab[t, i] = qs[a_opt]\n",
    "\n",
    "# -----------------------\n",
    "# 9) ROLLOUT DEMO\n",
    "# -----------------------\n",
    "print(\"\\nTime | Inv | Demand | Action\")\n",
    "print(\"------------------------------------\")\n",
    "s = 0\n",
    "for t in range(T):\n",
    "    w = random.randint(0,10)\n",
    "    a = pi_tab[t, s-min_inv]\n",
    "    print(f\"{t:4d} | {s:4d} | {w:6d} | {a:6d}\")\n",
    "    s = max(min_inv, min(max_inv, s + a - w))\n",
    "\n",
    "# -----------------------\n",
    "# 11) GIF of V(s) over t\n",
    "# -----------------------\n",
    "states = np.arange(min_inv, max_inv+1)\n",
    "os.makedirs(\"frames\", exist_ok=True)\n",
    "for t in range(T):\n",
    "    plt.figure(figsize=(4,3))\n",
    "    plt.plot(states, V_tab[t], marker='o')\n",
    "    plt.title(f\"t={t}\"); plt.tight_layout()\n",
    "    fn = f\"frames/{t:03d}.png\"\n",
    "    plt.savefig(fn); plt.close()\n",
    "\n",
    "with imageio.get_writer(\"vf_evolution_ar_12.gif\", mode=\"I\", duration=0.1) as w:\n",
    "    for t in range(T):\n",
    "        w.append_data(imageio.imread(f\"frames/{t:03d}.png\"))\n",
    "\n",
    "shutil.rmtree(\"frames\")\n",
    "\n",
    "print(\"GIF saved as vf_evolution_ar_12.gif\")"
   ]
  },
  {
   "cell_type": "markdown",
   "metadata": {},
   "source": [
    "## Experimenting with neural network architecture"
   ]
  },
  {
   "cell_type": "code",
   "execution_count": null,
   "metadata": {},
   "outputs": [
    {
     "name": "stdout",
     "output_type": "stream",
     "text": [
      "cuda\n"
     ]
    },
    {
     "name": "stderr",
     "output_type": "stream",
     "text": [
      "Training:   1%|          | 52/10000 [00:05<19:05,  8.69it/s]"
     ]
    },
    {
     "name": "stdout",
     "output_type": "stream",
     "text": [
      "[Episode 50] Max Q-value diff at t=0: 77.840805\n"
     ]
    },
    {
     "name": "stderr",
     "output_type": "stream",
     "text": [
      "Training:   1%|          | 103/10000 [00:10<14:48, 11.14it/s]"
     ]
    },
    {
     "name": "stdout",
     "output_type": "stream",
     "text": [
      "[Episode 100] Max Q-value diff at t=0: 74.547173\n"
     ]
    },
    {
     "name": "stderr",
     "output_type": "stream",
     "text": [
      "Training:   2%|▏         | 152/10000 [00:15<13:08, 12.49it/s]"
     ]
    },
    {
     "name": "stdout",
     "output_type": "stream",
     "text": [
      "[Episode 150] Max Q-value diff at t=0: 59.975639\n"
     ]
    },
    {
     "name": "stderr",
     "output_type": "stream",
     "text": [
      "Training:   2%|▏         | 205/10000 [00:17<04:22, 37.27it/s]"
     ]
    },
    {
     "name": "stdout",
     "output_type": "stream",
     "text": [
      "[Episode 200] Max Q-value diff at t=0: 51.147369\n"
     ]
    },
    {
     "name": "stderr",
     "output_type": "stream",
     "text": [
      "Training:   3%|▎         | 254/10000 [00:20<09:04, 17.91it/s]"
     ]
    },
    {
     "name": "stdout",
     "output_type": "stream",
     "text": [
      "[Episode 250] Max Q-value diff at t=0: 42.701813\n"
     ]
    },
    {
     "name": "stderr",
     "output_type": "stream",
     "text": [
      "Training:   3%|▎         | 306/10000 [00:23<06:19, 25.56it/s]"
     ]
    },
    {
     "name": "stdout",
     "output_type": "stream",
     "text": [
      "[Episode 300] Max Q-value diff at t=0: 38.953430\n"
     ]
    },
    {
     "name": "stderr",
     "output_type": "stream",
     "text": [
      "Training:   4%|▎         | 355/10000 [00:26<04:33, 35.29it/s]"
     ]
    },
    {
     "name": "stdout",
     "output_type": "stream",
     "text": [
      "[Episode 350] Max Q-value diff at t=0: 33.941101\n"
     ]
    },
    {
     "name": "stderr",
     "output_type": "stream",
     "text": [
      "Training:   4%|▍         | 402/10000 [00:29<13:11, 12.13it/s]"
     ]
    },
    {
     "name": "stdout",
     "output_type": "stream",
     "text": [
      "[Episode 400] Max Q-value diff at t=0: 35.711548\n"
     ]
    },
    {
     "name": "stderr",
     "output_type": "stream",
     "text": [
      "Training:   5%|▍         | 453/10000 [00:33<12:04, 13.17it/s]"
     ]
    },
    {
     "name": "stdout",
     "output_type": "stream",
     "text": [
      "[Episode 450] Max Q-value diff at t=0: 32.242798\n"
     ]
    },
    {
     "name": "stderr",
     "output_type": "stream",
     "text": [
      "Training:   5%|▌         | 504/10000 [00:37<10:16, 15.42it/s]"
     ]
    },
    {
     "name": "stdout",
     "output_type": "stream",
     "text": [
      "[Episode 500] Max Q-value diff at t=0: 28.672943\n"
     ]
    },
    {
     "name": "stderr",
     "output_type": "stream",
     "text": [
      "Training:   6%|▌         | 555/10000 [00:38<04:09, 37.91it/s]"
     ]
    },
    {
     "name": "stdout",
     "output_type": "stream",
     "text": [
      "[Episode 550] Max Q-value diff at t=0: 28.847992\n"
     ]
    },
    {
     "name": "stderr",
     "output_type": "stream",
     "text": [
      "Training:   6%|▌         | 607/10000 [00:40<04:30, 34.69it/s]"
     ]
    },
    {
     "name": "stdout",
     "output_type": "stream",
     "text": [
      "[Episode 600] Max Q-value diff at t=0: 28.168030\n"
     ]
    },
    {
     "name": "stderr",
     "output_type": "stream",
     "text": [
      "Training:   7%|▋         | 652/10000 [00:43<13:38, 11.43it/s]"
     ]
    },
    {
     "name": "stdout",
     "output_type": "stream",
     "text": [
      "[Episode 650] Max Q-value diff at t=0: 25.352844\n"
     ]
    },
    {
     "name": "stderr",
     "output_type": "stream",
     "text": [
      "Training:   7%|▋         | 703/10000 [00:47<11:12, 13.83it/s]"
     ]
    },
    {
     "name": "stdout",
     "output_type": "stream",
     "text": [
      "[Episode 700] Max Q-value diff at t=0: 25.890137\n"
     ]
    },
    {
     "name": "stderr",
     "output_type": "stream",
     "text": [
      "Training:   8%|▊         | 758/10000 [00:51<05:54, 26.10it/s]"
     ]
    },
    {
     "name": "stdout",
     "output_type": "stream",
     "text": [
      "[Episode 750] Max Q-value diff at t=0: 23.345703\n"
     ]
    },
    {
     "name": "stderr",
     "output_type": "stream",
     "text": [
      "Training:   8%|▊         | 806/10000 [00:52<04:43, 32.45it/s]"
     ]
    },
    {
     "name": "stdout",
     "output_type": "stream",
     "text": [
      "[Episode 800] Max Q-value diff at t=0: 17.353577\n"
     ]
    },
    {
     "name": "stderr",
     "output_type": "stream",
     "text": [
      "Training:   9%|▊         | 858/10000 [00:54<04:03, 37.54it/s]"
     ]
    },
    {
     "name": "stdout",
     "output_type": "stream",
     "text": [
      "[Episode 850] Max Q-value diff at t=0: 16.939575\n"
     ]
    },
    {
     "name": "stderr",
     "output_type": "stream",
     "text": [
      "Training:   9%|▉         | 902/10000 [00:57<11:10, 13.57it/s]"
     ]
    },
    {
     "name": "stdout",
     "output_type": "stream",
     "text": [
      "[Episode 900] Max Q-value diff at t=0: 16.088623\n"
     ]
    },
    {
     "name": "stderr",
     "output_type": "stream",
     "text": [
      "Training:  10%|▉         | 952/10000 [01:01<12:41, 11.88it/s]"
     ]
    },
    {
     "name": "stdout",
     "output_type": "stream",
     "text": [
      "[Episode 950] Max Q-value diff at t=0: 19.351135\n"
     ]
    },
    {
     "name": "stderr",
     "output_type": "stream",
     "text": [
      "Training:  10%|█         | 1007/10000 [01:03<04:03, 36.97it/s]"
     ]
    },
    {
     "name": "stdout",
     "output_type": "stream",
     "text": [
      "[Episode 1000] Max Q-value diff at t=0: 16.382263\n"
     ]
    },
    {
     "name": "stderr",
     "output_type": "stream",
     "text": [
      "Training:  11%|█         | 1052/10000 [01:06<11:31, 12.94it/s]"
     ]
    },
    {
     "name": "stdout",
     "output_type": "stream",
     "text": [
      "[Episode 1050] Max Q-value diff at t=0: 14.336731\n"
     ]
    },
    {
     "name": "stderr",
     "output_type": "stream",
     "text": [
      "Training:  11%|█         | 1102/10000 [01:10<12:37, 11.75it/s]"
     ]
    },
    {
     "name": "stdout",
     "output_type": "stream",
     "text": [
      "[Episode 1100] Max Q-value diff at t=0: 14.665710\n"
     ]
    },
    {
     "name": "stderr",
     "output_type": "stream",
     "text": [
      "Training:  12%|█▏        | 1155/10000 [01:13<04:13, 34.84it/s]"
     ]
    },
    {
     "name": "stdout",
     "output_type": "stream",
     "text": [
      "[Episode 1150] Max Q-value diff at t=0: 8.977966\n"
     ]
    },
    {
     "name": "stderr",
     "output_type": "stream",
     "text": [
      "Training:  12%|█▏        | 1205/10000 [01:15<07:34, 19.35it/s]"
     ]
    },
    {
     "name": "stdout",
     "output_type": "stream",
     "text": [
      "[Episode 1200] Max Q-value diff at t=0: 13.494629\n"
     ]
    },
    {
     "name": "stderr",
     "output_type": "stream",
     "text": [
      "Training:  13%|█▎        | 1257/10000 [01:16<03:55, 37.05it/s]"
     ]
    },
    {
     "name": "stdout",
     "output_type": "stream",
     "text": [
      "[Episode 1250] Max Q-value diff at t=0: 12.884521\n"
     ]
    },
    {
     "name": "stderr",
     "output_type": "stream",
     "text": [
      "Training:  13%|█▎        | 1305/10000 [01:17<03:58, 36.43it/s]"
     ]
    },
    {
     "name": "stdout",
     "output_type": "stream",
     "text": [
      "[Episode 1300] Max Q-value diff at t=0: 10.992920\n"
     ]
    },
    {
     "name": "stderr",
     "output_type": "stream",
     "text": [
      "Training:  14%|█▎        | 1352/10000 [01:19<04:19, 33.32it/s]"
     ]
    },
    {
     "name": "stdout",
     "output_type": "stream",
     "text": [
      "[Episode 1350] Max Q-value diff at t=0: 5.356812\n"
     ]
    },
    {
     "name": "stderr",
     "output_type": "stream",
     "text": [
      "Training:  14%|█▍        | 1403/10000 [01:23<11:51, 12.08it/s]"
     ]
    },
    {
     "name": "stdout",
     "output_type": "stream",
     "text": [
      "[Episode 1400] Max Q-value diff at t=0: 11.561279\n"
     ]
    },
    {
     "name": "stderr",
     "output_type": "stream",
     "text": [
      "Training:  15%|█▍        | 1453/10000 [01:27<12:11, 11.69it/s]"
     ]
    },
    {
     "name": "stdout",
     "output_type": "stream",
     "text": [
      "[Episode 1450] Max Q-value diff at t=0: 5.480835\n"
     ]
    },
    {
     "name": "stderr",
     "output_type": "stream",
     "text": [
      "Training:  15%|█▌        | 1503/10000 [01:31<10:35, 13.37it/s]"
     ]
    },
    {
     "name": "stdout",
     "output_type": "stream",
     "text": [
      "[Episode 1500] Max Q-value diff at t=0: 8.020386\n"
     ]
    },
    {
     "name": "stderr",
     "output_type": "stream",
     "text": [
      "Training:  16%|█▌        | 1552/10000 [01:35<11:28, 12.27it/s]"
     ]
    },
    {
     "name": "stdout",
     "output_type": "stream",
     "text": [
      "[Episode 1550] Max Q-value diff at t=0: 4.801331\n"
     ]
    },
    {
     "name": "stderr",
     "output_type": "stream",
     "text": [
      "Training:  16%|█▌        | 1603/10000 [01:39<07:24, 18.88it/s]"
     ]
    },
    {
     "name": "stdout",
     "output_type": "stream",
     "text": [
      "[Episode 1600] Max Q-value diff at t=0: 3.348511\n"
     ]
    },
    {
     "name": "stderr",
     "output_type": "stream",
     "text": [
      "Training:  17%|█▋        | 1652/10000 [01:43<12:08, 11.45it/s]"
     ]
    },
    {
     "name": "stdout",
     "output_type": "stream",
     "text": [
      "[Episode 1650] Max Q-value diff at t=0: 4.484863\n"
     ]
    },
    {
     "name": "stderr",
     "output_type": "stream",
     "text": [
      "Training:  17%|█▋        | 1706/10000 [01:44<04:10, 33.06it/s]"
     ]
    },
    {
     "name": "stdout",
     "output_type": "stream",
     "text": [
      "[Episode 1700] Max Q-value diff at t=0: 5.863831\n"
     ]
    },
    {
     "name": "stderr",
     "output_type": "stream",
     "text": [
      "Training:  18%|█▊        | 1758/10000 [01:46<03:45, 36.49it/s]"
     ]
    },
    {
     "name": "stdout",
     "output_type": "stream",
     "text": [
      "[Episode 1750] Max Q-value diff at t=0: 7.320312\n"
     ]
    },
    {
     "name": "stderr",
     "output_type": "stream",
     "text": [
      "Training:  18%|█▊        | 1804/10000 [01:48<04:34, 29.88it/s]"
     ]
    },
    {
     "name": "stdout",
     "output_type": "stream",
     "text": [
      "[Episode 1800] Max Q-value diff at t=0: 7.524902\n"
     ]
    },
    {
     "name": "stderr",
     "output_type": "stream",
     "text": [
      "Training:  19%|█▊        | 1852/10000 [01:52<15:07,  8.98it/s]"
     ]
    },
    {
     "name": "stdout",
     "output_type": "stream",
     "text": [
      "[Episode 1850] Max Q-value diff at t=0: 9.616455\n"
     ]
    },
    {
     "name": "stderr",
     "output_type": "stream",
     "text": [
      "Training:  19%|█▉        | 1905/10000 [01:56<07:19, 18.41it/s]"
     ]
    },
    {
     "name": "stdout",
     "output_type": "stream",
     "text": [
      "[Episode 1900] Max Q-value diff at t=0: 3.234558\n"
     ]
    },
    {
     "name": "stderr",
     "output_type": "stream",
     "text": [
      "Training:  20%|█▉        | 1953/10000 [01:59<05:43, 23.40it/s]"
     ]
    },
    {
     "name": "stdout",
     "output_type": "stream",
     "text": [
      "[Episode 1950] Max Q-value diff at t=0: 5.931335\n"
     ]
    },
    {
     "name": "stderr",
     "output_type": "stream",
     "text": [
      "Training:  20%|██        | 2004/10000 [02:01<05:37, 23.71it/s]"
     ]
    },
    {
     "name": "stdout",
     "output_type": "stream",
     "text": [
      "[Episode 2000] Max Q-value diff at t=0: 5.934021\n"
     ]
    },
    {
     "name": "stderr",
     "output_type": "stream",
     "text": [
      "Training:  21%|██        | 2054/10000 [02:03<05:51, 22.59it/s]"
     ]
    },
    {
     "name": "stdout",
     "output_type": "stream",
     "text": [
      "[Episode 2050] Max Q-value diff at t=0: 7.013977\n"
     ]
    },
    {
     "name": "stderr",
     "output_type": "stream",
     "text": [
      "Training:  21%|██        | 2103/10000 [02:06<09:05, 14.47it/s]"
     ]
    },
    {
     "name": "stdout",
     "output_type": "stream",
     "text": [
      "[Episode 2100] Max Q-value diff at t=0: 5.380127\n"
     ]
    },
    {
     "name": "stderr",
     "output_type": "stream",
     "text": [
      "Training:  22%|██▏       | 2154/10000 [02:10<05:58, 21.87it/s]"
     ]
    },
    {
     "name": "stdout",
     "output_type": "stream",
     "text": [
      "[Episode 2150] Max Q-value diff at t=0: 7.593384\n"
     ]
    },
    {
     "name": "stderr",
     "output_type": "stream",
     "text": [
      "Training:  22%|██▏       | 2205/10000 [02:12<05:10, 25.14it/s]"
     ]
    },
    {
     "name": "stdout",
     "output_type": "stream",
     "text": [
      "[Episode 2200] Max Q-value diff at t=0: 6.307922\n"
     ]
    },
    {
     "name": "stderr",
     "output_type": "stream",
     "text": [
      "Training:  23%|██▎       | 2253/10000 [02:16<08:28, 15.24it/s]"
     ]
    },
    {
     "name": "stdout",
     "output_type": "stream",
     "text": [
      "[Episode 2250] Max Q-value diff at t=0: 6.280334\n"
     ]
    },
    {
     "name": "stderr",
     "output_type": "stream",
     "text": [
      "Training:  23%|██▎       | 2308/10000 [02:18<03:47, 33.74it/s]"
     ]
    },
    {
     "name": "stdout",
     "output_type": "stream",
     "text": [
      "[Episode 2300] Max Q-value diff at t=0: 3.952576\n"
     ]
    },
    {
     "name": "stderr",
     "output_type": "stream",
     "text": [
      "Training:  24%|██▎       | 2352/10000 [02:20<11:26, 11.14it/s]"
     ]
    },
    {
     "name": "stdout",
     "output_type": "stream",
     "text": [
      "[Episode 2350] Max Q-value diff at t=0: 7.120239\n"
     ]
    },
    {
     "name": "stderr",
     "output_type": "stream",
     "text": [
      "Training:  24%|██▍       | 2401/10000 [02:25<12:11, 10.39it/s]"
     ]
    },
    {
     "name": "stdout",
     "output_type": "stream",
     "text": [
      "[Episode 2400] Max Q-value diff at t=0: 7.900146\n"
     ]
    },
    {
     "name": "stderr",
     "output_type": "stream",
     "text": [
      "Training:  25%|██▍       | 2452/10000 [02:31<11:33, 10.88it/s]"
     ]
    },
    {
     "name": "stdout",
     "output_type": "stream",
     "text": [
      "[Episode 2450] Max Q-value diff at t=0: 7.008789\n"
     ]
    },
    {
     "name": "stderr",
     "output_type": "stream",
     "text": [
      "Training:  25%|██▌       | 2503/10000 [02:36<12:22, 10.09it/s]"
     ]
    },
    {
     "name": "stdout",
     "output_type": "stream",
     "text": [
      "[Episode 2500] Max Q-value diff at t=0: 5.655457\n"
     ]
    },
    {
     "name": "stderr",
     "output_type": "stream",
     "text": [
      "Training:  26%|██▌       | 2552/10000 [02:42<15:15,  8.13it/s]"
     ]
    },
    {
     "name": "stdout",
     "output_type": "stream",
     "text": [
      "[Episode 2550] Max Q-value diff at t=0: 5.298096\n"
     ]
    },
    {
     "name": "stderr",
     "output_type": "stream",
     "text": [
      "Training:  26%|██▌       | 2602/10000 [02:47<16:26,  7.50it/s]"
     ]
    },
    {
     "name": "stdout",
     "output_type": "stream",
     "text": [
      "[Episode 2600] Max Q-value diff at t=0: 3.103027\n"
     ]
    },
    {
     "name": "stderr",
     "output_type": "stream",
     "text": [
      "Training:  27%|██▋       | 2653/10000 [02:52<10:53, 11.24it/s]"
     ]
    },
    {
     "name": "stdout",
     "output_type": "stream",
     "text": [
      "[Episode 2650] Max Q-value diff at t=0: 7.712830\n"
     ]
    },
    {
     "name": "stderr",
     "output_type": "stream",
     "text": [
      "Training:  27%|██▋       | 2702/10000 [02:56<11:22, 10.70it/s]"
     ]
    },
    {
     "name": "stdout",
     "output_type": "stream",
     "text": [
      "[Episode 2700] Max Q-value diff at t=0: 6.676575\n"
     ]
    },
    {
     "name": "stderr",
     "output_type": "stream",
     "text": [
      "Training:  28%|██▊       | 2752/10000 [03:01<10:47, 11.20it/s]"
     ]
    },
    {
     "name": "stdout",
     "output_type": "stream",
     "text": [
      "[Episode 2750] Max Q-value diff at t=0: 7.755493\n"
     ]
    },
    {
     "name": "stderr",
     "output_type": "stream",
     "text": [
      "Training:  28%|██▊       | 2802/10000 [03:05<11:45, 10.20it/s]"
     ]
    },
    {
     "name": "stdout",
     "output_type": "stream",
     "text": [
      "[Episode 2800] Max Q-value diff at t=0: 6.210327\n"
     ]
    },
    {
     "name": "stderr",
     "output_type": "stream",
     "text": [
      "Training:  29%|██▊       | 2852/10000 [03:11<14:35,  8.17it/s]"
     ]
    },
    {
     "name": "stdout",
     "output_type": "stream",
     "text": [
      "[Episode 2850] Max Q-value diff at t=0: 7.279602\n"
     ]
    },
    {
     "name": "stderr",
     "output_type": "stream",
     "text": [
      "Training:  29%|██▉       | 2903/10000 [03:16<11:09, 10.60it/s]"
     ]
    },
    {
     "name": "stdout",
     "output_type": "stream",
     "text": [
      "[Episode 2900] Max Q-value diff at t=0: 9.171753\n"
     ]
    },
    {
     "name": "stderr",
     "output_type": "stream",
     "text": [
      "Training:  30%|██▉       | 2951/10000 [03:21<11:58,  9.81it/s]"
     ]
    },
    {
     "name": "stdout",
     "output_type": "stream",
     "text": [
      "[Episode 2950] Max Q-value diff at t=0: 8.846069\n"
     ]
    },
    {
     "name": "stderr",
     "output_type": "stream",
     "text": [
      "Training:  30%|███       | 3002/10000 [03:27<13:13,  8.82it/s]"
     ]
    },
    {
     "name": "stdout",
     "output_type": "stream",
     "text": [
      "[Episode 3000] Max Q-value diff at t=0: 5.492310\n"
     ]
    },
    {
     "name": "stderr",
     "output_type": "stream",
     "text": [
      "Training:  31%|███       | 3058/10000 [03:30<03:21, 34.42it/s]"
     ]
    },
    {
     "name": "stdout",
     "output_type": "stream",
     "text": [
      "[Episode 3050] Max Q-value diff at t=0: 10.137634\n"
     ]
    },
    {
     "name": "stderr",
     "output_type": "stream",
     "text": [
      "Training:  31%|███       | 3105/10000 [03:32<04:56, 23.24it/s]"
     ]
    },
    {
     "name": "stdout",
     "output_type": "stream",
     "text": [
      "[Episode 3100] Max Q-value diff at t=0: 3.234314\n"
     ]
    },
    {
     "name": "stderr",
     "output_type": "stream",
     "text": [
      "Training:  32%|███▏      | 3153/10000 [03:37<11:12, 10.18it/s]"
     ]
    },
    {
     "name": "stdout",
     "output_type": "stream",
     "text": [
      "[Episode 3150] Max Q-value diff at t=0: 3.763916\n"
     ]
    },
    {
     "name": "stderr",
     "output_type": "stream",
     "text": [
      "Training:  32%|███▏      | 3205/10000 [03:40<03:39, 30.93it/s]"
     ]
    },
    {
     "name": "stdout",
     "output_type": "stream",
     "text": [
      "[Episode 3200] Max Q-value diff at t=0: 4.085693\n"
     ]
    },
    {
     "name": "stderr",
     "output_type": "stream",
     "text": [
      "Training:  33%|███▎      | 3252/10000 [03:45<13:06,  8.58it/s]"
     ]
    },
    {
     "name": "stdout",
     "output_type": "stream",
     "text": [
      "[Episode 3250] Max Q-value diff at t=0: 7.892395\n"
     ]
    },
    {
     "name": "stderr",
     "output_type": "stream",
     "text": [
      "Training:  33%|███▎      | 3305/10000 [03:50<06:56, 16.06it/s]"
     ]
    },
    {
     "name": "stdout",
     "output_type": "stream",
     "text": [
      "[Episode 3300] Max Q-value diff at t=0: 8.378479\n"
     ]
    },
    {
     "name": "stderr",
     "output_type": "stream",
     "text": [
      "Training:  34%|███▎      | 3351/10000 [03:55<11:02, 10.04it/s]"
     ]
    },
    {
     "name": "stdout",
     "output_type": "stream",
     "text": [
      "[Episode 3350] Max Q-value diff at t=0: 6.144165\n"
     ]
    },
    {
     "name": "stderr",
     "output_type": "stream",
     "text": [
      "Training:  34%|███▍      | 3402/10000 [04:01<11:52,  9.26it/s]"
     ]
    },
    {
     "name": "stdout",
     "output_type": "stream",
     "text": [
      "[Episode 3400] Max Q-value diff at t=0: 5.220520\n"
     ]
    },
    {
     "name": "stderr",
     "output_type": "stream",
     "text": [
      "Training:  35%|███▍      | 3453/10000 [04:06<10:11, 10.70it/s]"
     ]
    },
    {
     "name": "stdout",
     "output_type": "stream",
     "text": [
      "[Episode 3450] Max Q-value diff at t=0: 6.688416\n"
     ]
    },
    {
     "name": "stderr",
     "output_type": "stream",
     "text": [
      "Training:  35%|███▌      | 3506/10000 [04:10<04:01, 26.88it/s]"
     ]
    },
    {
     "name": "stdout",
     "output_type": "stream",
     "text": [
      "[Episode 3500] Max Q-value diff at t=0: 4.104431\n"
     ]
    },
    {
     "name": "stderr",
     "output_type": "stream",
     "text": [
      "Training:  36%|███▌      | 3552/10000 [04:14<13:27,  7.98it/s]"
     ]
    },
    {
     "name": "stdout",
     "output_type": "stream",
     "text": [
      "[Episode 3550] Max Q-value diff at t=0: 6.030090\n"
     ]
    },
    {
     "name": "stderr",
     "output_type": "stream",
     "text": [
      "Training:  36%|███▌      | 3606/10000 [04:19<04:41, 22.69it/s]"
     ]
    },
    {
     "name": "stdout",
     "output_type": "stream",
     "text": [
      "[Episode 3600] Max Q-value diff at t=0: 3.176086\n"
     ]
    },
    {
     "name": "stderr",
     "output_type": "stream",
     "text": [
      "Training:  37%|███▋      | 3654/10000 [04:21<04:54, 21.53it/s]"
     ]
    },
    {
     "name": "stdout",
     "output_type": "stream",
     "text": [
      "[Episode 3650] Max Q-value diff at t=0: 4.045349\n"
     ]
    },
    {
     "name": "stderr",
     "output_type": "stream",
     "text": [
      "Training:  37%|███▋      | 3705/10000 [04:23<04:44, 22.11it/s]"
     ]
    },
    {
     "name": "stdout",
     "output_type": "stream",
     "text": [
      "[Episode 3700] Max Q-value diff at t=0: 4.304077\n"
     ]
    },
    {
     "name": "stderr",
     "output_type": "stream",
     "text": [
      "Training:  38%|███▊      | 3753/10000 [04:26<05:31, 18.85it/s]"
     ]
    },
    {
     "name": "stdout",
     "output_type": "stream",
     "text": [
      "[Episode 3750] Max Q-value diff at t=0: 3.692932\n"
     ]
    },
    {
     "name": "stderr",
     "output_type": "stream",
     "text": [
      "Training:  38%|███▊      | 3802/10000 [04:31<11:06,  9.30it/s]"
     ]
    },
    {
     "name": "stdout",
     "output_type": "stream",
     "text": [
      "[Episode 3800] Max Q-value diff at t=0: 5.986938\n"
     ]
    },
    {
     "name": "stderr",
     "output_type": "stream",
     "text": [
      "Training:  39%|███▊      | 3854/10000 [04:34<04:12, 24.36it/s]"
     ]
    },
    {
     "name": "stdout",
     "output_type": "stream",
     "text": [
      "[Episode 3850] Max Q-value diff at t=0: 5.089294\n"
     ]
    },
    {
     "name": "stderr",
     "output_type": "stream",
     "text": [
      "Training:  39%|███▉      | 3908/10000 [04:36<02:48, 36.18it/s]"
     ]
    },
    {
     "name": "stdout",
     "output_type": "stream",
     "text": [
      "[Episode 3900] Max Q-value diff at t=0: 4.113953\n"
     ]
    },
    {
     "name": "stderr",
     "output_type": "stream",
     "text": [
      "Training:  40%|███▉      | 3952/10000 [04:37<02:48, 35.89it/s]"
     ]
    },
    {
     "name": "stdout",
     "output_type": "stream",
     "text": [
      "[Episode 3950] Max Q-value diff at t=0: 4.383301\n"
     ]
    },
    {
     "name": "stderr",
     "output_type": "stream",
     "text": [
      "Training:  40%|████      | 4003/10000 [04:42<08:25, 11.86it/s]"
     ]
    },
    {
     "name": "stdout",
     "output_type": "stream",
     "text": [
      "[Episode 4000] Max Q-value diff at t=0: 7.959961\n"
     ]
    },
    {
     "name": "stderr",
     "output_type": "stream",
     "text": [
      "Training:  41%|████      | 4051/10000 [04:46<09:27, 10.48it/s]"
     ]
    },
    {
     "name": "stdout",
     "output_type": "stream",
     "text": [
      "[Episode 4050] Max Q-value diff at t=0: 3.906738\n"
     ]
    },
    {
     "name": "stderr",
     "output_type": "stream",
     "text": [
      "Training:  41%|████      | 4102/10000 [04:50<08:31, 11.53it/s]"
     ]
    },
    {
     "name": "stdout",
     "output_type": "stream",
     "text": [
      "[Episode 4100] Max Q-value diff at t=0: 3.079590\n"
     ]
    },
    {
     "name": "stderr",
     "output_type": "stream",
     "text": [
      "Training:  42%|████▏     | 4154/10000 [04:55<06:32, 14.91it/s]"
     ]
    },
    {
     "name": "stdout",
     "output_type": "stream",
     "text": [
      "[Episode 4150] Max Q-value diff at t=0: 3.998901\n"
     ]
    },
    {
     "name": "stderr",
     "output_type": "stream",
     "text": [
      "Training:  42%|████▏     | 4202/10000 [04:59<08:04, 11.96it/s]"
     ]
    },
    {
     "name": "stdout",
     "output_type": "stream",
     "text": [
      "[Episode 4200] Max Q-value diff at t=0: 8.397949\n"
     ]
    },
    {
     "name": "stderr",
     "output_type": "stream",
     "text": [
      "Training:  43%|████▎     | 4256/10000 [05:03<03:31, 27.13it/s]"
     ]
    },
    {
     "name": "stdout",
     "output_type": "stream",
     "text": [
      "[Episode 4250] Max Q-value diff at t=0: 9.690979\n"
     ]
    },
    {
     "name": "stderr",
     "output_type": "stream",
     "text": [
      "Training:  43%|████▎     | 4308/10000 [05:05<02:36, 36.36it/s]"
     ]
    },
    {
     "name": "stdout",
     "output_type": "stream",
     "text": [
      "[Episode 4300] Max Q-value diff at t=0: 4.281006\n"
     ]
    },
    {
     "name": "stderr",
     "output_type": "stream",
     "text": [
      "Training:  44%|████▎     | 4356/10000 [05:06<02:47, 33.62it/s]"
     ]
    },
    {
     "name": "stdout",
     "output_type": "stream",
     "text": [
      "[Episode 4350] Max Q-value diff at t=0: 5.956055\n"
     ]
    },
    {
     "name": "stderr",
     "output_type": "stream",
     "text": [
      "Training:  44%|████▍     | 4404/10000 [05:07<02:40, 34.90it/s]"
     ]
    },
    {
     "name": "stdout",
     "output_type": "stream",
     "text": [
      "[Episode 4400] Max Q-value diff at t=0: 8.156738\n"
     ]
    },
    {
     "name": "stderr",
     "output_type": "stream",
     "text": [
      "Training:  45%|████▍     | 4453/10000 [05:12<08:50, 10.46it/s]"
     ]
    },
    {
     "name": "stdout",
     "output_type": "stream",
     "text": [
      "[Episode 4450] Max Q-value diff at t=0: 7.272522\n"
     ]
    },
    {
     "name": "stderr",
     "output_type": "stream",
     "text": [
      "Training:  45%|████▌     | 4501/10000 [05:17<07:06, 12.90it/s]"
     ]
    },
    {
     "name": "stdout",
     "output_type": "stream",
     "text": [
      "[Episode 4500] Max Q-value diff at t=0: 6.704529\n"
     ]
    },
    {
     "name": "stderr",
     "output_type": "stream",
     "text": [
      "Training:  46%|████▌     | 4553/10000 [05:22<08:31, 10.65it/s]"
     ]
    },
    {
     "name": "stdout",
     "output_type": "stream",
     "text": [
      "[Episode 4550] Max Q-value diff at t=0: 6.132568\n"
     ]
    },
    {
     "name": "stderr",
     "output_type": "stream",
     "text": [
      "Training:  46%|████▌     | 4603/10000 [05:28<08:24, 10.71it/s]"
     ]
    },
    {
     "name": "stdout",
     "output_type": "stream",
     "text": [
      "[Episode 4600] Max Q-value diff at t=0: 3.608887\n"
     ]
    },
    {
     "name": "stderr",
     "output_type": "stream",
     "text": [
      "Training:  47%|████▋     | 4652/10000 [05:33<07:24, 12.02it/s]"
     ]
    },
    {
     "name": "stdout",
     "output_type": "stream",
     "text": [
      "[Episode 4650] Max Q-value diff at t=0: 4.266235\n"
     ]
    },
    {
     "name": "stderr",
     "output_type": "stream",
     "text": [
      "Training:  47%|████▋     | 4703/10000 [05:36<06:11, 14.27it/s]"
     ]
    },
    {
     "name": "stdout",
     "output_type": "stream",
     "text": [
      "[Episode 4700] Max Q-value diff at t=0: 5.051514\n"
     ]
    },
    {
     "name": "stderr",
     "output_type": "stream",
     "text": [
      "Training:  48%|████▊     | 4753/10000 [05:41<06:13, 14.05it/s]"
     ]
    },
    {
     "name": "stdout",
     "output_type": "stream",
     "text": [
      "[Episode 4750] Max Q-value diff at t=0: 7.247253\n"
     ]
    },
    {
     "name": "stderr",
     "output_type": "stream",
     "text": [
      "Training:  48%|████▊     | 4803/10000 [05:45<07:16, 11.91it/s]"
     ]
    },
    {
     "name": "stdout",
     "output_type": "stream",
     "text": [
      "[Episode 4800] Max Q-value diff at t=0: 6.106018\n"
     ]
    },
    {
     "name": "stderr",
     "output_type": "stream",
     "text": [
      "Training:  49%|████▊     | 4856/10000 [05:47<02:50, 30.19it/s]"
     ]
    },
    {
     "name": "stdout",
     "output_type": "stream",
     "text": [
      "[Episode 4850] Max Q-value diff at t=0: 7.549316\n"
     ]
    },
    {
     "name": "stderr",
     "output_type": "stream",
     "text": [
      "Training:  49%|████▉     | 4902/10000 [05:51<06:10, 13.78it/s]"
     ]
    },
    {
     "name": "stdout",
     "output_type": "stream",
     "text": [
      "[Episode 4900] Max Q-value diff at t=0: 5.273438\n"
     ]
    },
    {
     "name": "stderr",
     "output_type": "stream",
     "text": [
      "Training:  50%|████▉     | 4953/10000 [05:55<06:58, 12.07it/s]"
     ]
    },
    {
     "name": "stdout",
     "output_type": "stream",
     "text": [
      "[Episode 4950] Max Q-value diff at t=0: 9.419983\n"
     ]
    },
    {
     "name": "stderr",
     "output_type": "stream",
     "text": [
      "Training:  50%|█████     | 5003/10000 [05:58<06:45, 12.32it/s]"
     ]
    },
    {
     "name": "stdout",
     "output_type": "stream",
     "text": [
      "[Episode 5000] Max Q-value diff at t=0: 7.232239\n"
     ]
    },
    {
     "name": "stderr",
     "output_type": "stream",
     "text": [
      "Training:  51%|█████     | 5053/10000 [06:02<06:11, 13.33it/s]"
     ]
    },
    {
     "name": "stdout",
     "output_type": "stream",
     "text": [
      "[Episode 5050] Max Q-value diff at t=0: 2.972534\n"
     ]
    },
    {
     "name": "stderr",
     "output_type": "stream",
     "text": [
      "Training:  51%|█████     | 5102/10000 [06:07<09:00,  9.06it/s]"
     ]
    },
    {
     "name": "stdout",
     "output_type": "stream",
     "text": [
      "[Episode 5100] Max Q-value diff at t=0: 5.218018\n"
     ]
    },
    {
     "name": "stderr",
     "output_type": "stream",
     "text": [
      "Training:  52%|█████▏    | 5152/10000 [06:11<09:27,  8.54it/s]"
     ]
    },
    {
     "name": "stdout",
     "output_type": "stream",
     "text": [
      "[Episode 5150] Max Q-value diff at t=0: 3.943390\n"
     ]
    },
    {
     "name": "stderr",
     "output_type": "stream",
     "text": [
      "Training:  52%|█████▏    | 5202/10000 [06:14<06:54, 11.58it/s]"
     ]
    },
    {
     "name": "stdout",
     "output_type": "stream",
     "text": [
      "[Episode 5200] Max Q-value diff at t=0: 5.190552\n"
     ]
    },
    {
     "name": "stderr",
     "output_type": "stream",
     "text": [
      "Training:  53%|█████▎    | 5252/10000 [06:19<07:30, 10.53it/s]"
     ]
    },
    {
     "name": "stdout",
     "output_type": "stream",
     "text": [
      "[Episode 5250] Max Q-value diff at t=0: 3.355896\n"
     ]
    },
    {
     "name": "stderr",
     "output_type": "stream",
     "text": [
      "Training:  53%|█████▎    | 5302/10000 [06:23<05:39, 13.84it/s]"
     ]
    },
    {
     "name": "stdout",
     "output_type": "stream",
     "text": [
      "[Episode 5300] Max Q-value diff at t=0: 3.735901\n"
     ]
    },
    {
     "name": "stderr",
     "output_type": "stream",
     "text": [
      "Training:  54%|█████▎    | 5352/10000 [06:27<06:20, 12.23it/s]"
     ]
    },
    {
     "name": "stdout",
     "output_type": "stream",
     "text": [
      "[Episode 5350] Max Q-value diff at t=0: 4.342407\n"
     ]
    },
    {
     "name": "stderr",
     "output_type": "stream",
     "text": [
      "Training:  54%|█████▍    | 5402/10000 [06:31<05:31, 13.86it/s]"
     ]
    },
    {
     "name": "stdout",
     "output_type": "stream",
     "text": [
      "[Episode 5400] Max Q-value diff at t=0: 6.597534\n"
     ]
    },
    {
     "name": "stderr",
     "output_type": "stream",
     "text": [
      "Training:  55%|█████▍    | 5452/10000 [06:35<05:50, 12.97it/s]"
     ]
    },
    {
     "name": "stdout",
     "output_type": "stream",
     "text": [
      "[Episode 5450] Max Q-value diff at t=0: 3.570251\n"
     ]
    },
    {
     "name": "stderr",
     "output_type": "stream",
     "text": [
      "Training:  55%|█████▌    | 5503/10000 [06:39<05:43, 13.08it/s]"
     ]
    },
    {
     "name": "stdout",
     "output_type": "stream",
     "text": [
      "[Episode 5500] Max Q-value diff at t=0: 4.434448\n"
     ]
    },
    {
     "name": "stderr",
     "output_type": "stream",
     "text": [
      "Training:  56%|█████▌    | 5558/10000 [06:41<01:59, 37.02it/s]"
     ]
    },
    {
     "name": "stdout",
     "output_type": "stream",
     "text": [
      "[Episode 5550] Max Q-value diff at t=0: 4.961121\n"
     ]
    },
    {
     "name": "stderr",
     "output_type": "stream",
     "text": [
      "Training:  56%|█████▌    | 5602/10000 [06:43<05:16, 13.88it/s]"
     ]
    },
    {
     "name": "stdout",
     "output_type": "stream",
     "text": [
      "[Episode 5600] Max Q-value diff at t=0: 9.438599\n"
     ]
    },
    {
     "name": "stderr",
     "output_type": "stream",
     "text": [
      "Training:  57%|█████▋    | 5652/10000 [06:47<06:07, 11.82it/s]"
     ]
    },
    {
     "name": "stdout",
     "output_type": "stream",
     "text": [
      "[Episode 5650] Max Q-value diff at t=0: 9.836426\n"
     ]
    },
    {
     "name": "stderr",
     "output_type": "stream",
     "text": [
      "Training:  57%|█████▋    | 5702/10000 [06:52<04:57, 14.47it/s]"
     ]
    },
    {
     "name": "stdout",
     "output_type": "stream",
     "text": [
      "[Episode 5700] Max Q-value diff at t=0: 5.262573\n"
     ]
    },
    {
     "name": "stderr",
     "output_type": "stream",
     "text": [
      "Training:  58%|█████▊    | 5753/10000 [06:56<05:39, 12.53it/s]"
     ]
    },
    {
     "name": "stdout",
     "output_type": "stream",
     "text": [
      "[Episode 5750] Max Q-value diff at t=0: 3.777100\n"
     ]
    },
    {
     "name": "stderr",
     "output_type": "stream",
     "text": [
      "Training:  58%|█████▊    | 5803/10000 [07:00<05:37, 12.44it/s]"
     ]
    },
    {
     "name": "stdout",
     "output_type": "stream",
     "text": [
      "[Episode 5800] Max Q-value diff at t=0: 4.715759\n"
     ]
    },
    {
     "name": "stderr",
     "output_type": "stream",
     "text": [
      "Training:  59%|█████▊    | 5854/10000 [07:05<04:34, 15.11it/s]"
     ]
    },
    {
     "name": "stdout",
     "output_type": "stream",
     "text": [
      "[Episode 5850] Max Q-value diff at t=0: 5.216736\n"
     ]
    },
    {
     "name": "stderr",
     "output_type": "stream",
     "text": [
      "Training:  59%|█████▉    | 5902/10000 [07:09<05:28, 12.49it/s]"
     ]
    },
    {
     "name": "stdout",
     "output_type": "stream",
     "text": [
      "[Episode 5900] Max Q-value diff at t=0: 7.575989\n"
     ]
    },
    {
     "name": "stderr",
     "output_type": "stream",
     "text": [
      "Training:  60%|█████▉    | 5954/10000 [07:13<04:30, 14.98it/s]"
     ]
    },
    {
     "name": "stdout",
     "output_type": "stream",
     "text": [
      "[Episode 5950] Max Q-value diff at t=0: 7.588684\n"
     ]
    },
    {
     "name": "stderr",
     "output_type": "stream",
     "text": [
      "Training:  60%|██████    | 6002/10000 [07:17<05:32, 12.03it/s]"
     ]
    },
    {
     "name": "stdout",
     "output_type": "stream",
     "text": [
      "[Episode 6000] Max Q-value diff at t=0: 4.361206\n"
     ]
    },
    {
     "name": "stderr",
     "output_type": "stream",
     "text": [
      "Training:  61%|██████    | 6052/10000 [07:23<08:07,  8.10it/s]"
     ]
    },
    {
     "name": "stdout",
     "output_type": "stream",
     "text": [
      "[Episode 6050] Max Q-value diff at t=0: 6.788086\n"
     ]
    },
    {
     "name": "stderr",
     "output_type": "stream",
     "text": [
      "Training:  61%|██████    | 6102/10000 [07:29<08:26,  7.70it/s]"
     ]
    },
    {
     "name": "stdout",
     "output_type": "stream",
     "text": [
      "[Episode 6100] Max Q-value diff at t=0: 6.885559\n"
     ]
    },
    {
     "name": "stderr",
     "output_type": "stream",
     "text": [
      "Training:  62%|██████▏   | 6153/10000 [07:33<04:45, 13.46it/s]"
     ]
    },
    {
     "name": "stdout",
     "output_type": "stream",
     "text": [
      "[Episode 6150] Max Q-value diff at t=0: 3.619202\n"
     ]
    },
    {
     "name": "stderr",
     "output_type": "stream",
     "text": [
      "Training:  62%|██████▏   | 6202/10000 [07:38<06:08, 10.30it/s]"
     ]
    },
    {
     "name": "stdout",
     "output_type": "stream",
     "text": [
      "[Episode 6200] Max Q-value diff at t=0: 4.666016\n"
     ]
    },
    {
     "name": "stderr",
     "output_type": "stream",
     "text": [
      "Training:  63%|██████▎   | 6256/10000 [07:42<03:14, 19.26it/s]"
     ]
    },
    {
     "name": "stdout",
     "output_type": "stream",
     "text": [
      "[Episode 6250] Max Q-value diff at t=0: 3.561462\n"
     ]
    },
    {
     "name": "stderr",
     "output_type": "stream",
     "text": [
      "Training:  63%|██████▎   | 6303/10000 [07:46<05:05, 12.11it/s]"
     ]
    },
    {
     "name": "stdout",
     "output_type": "stream",
     "text": [
      "[Episode 6300] Max Q-value diff at t=0: 4.047607\n"
     ]
    },
    {
     "name": "stderr",
     "output_type": "stream",
     "text": [
      "Training:  64%|██████▎   | 6352/10000 [07:51<06:00, 10.12it/s]"
     ]
    },
    {
     "name": "stdout",
     "output_type": "stream",
     "text": [
      "[Episode 6350] Max Q-value diff at t=0: 9.691345\n"
     ]
    },
    {
     "name": "stderr",
     "output_type": "stream",
     "text": [
      "Training:  64%|██████▍   | 6402/10000 [07:56<04:47, 12.50it/s]"
     ]
    },
    {
     "name": "stdout",
     "output_type": "stream",
     "text": [
      "[Episode 6400] Max Q-value diff at t=0: 4.427002\n"
     ]
    },
    {
     "name": "stderr",
     "output_type": "stream",
     "text": [
      "Training:  65%|██████▍   | 6452/10000 [08:00<04:58, 11.89it/s]"
     ]
    },
    {
     "name": "stdout",
     "output_type": "stream",
     "text": [
      "[Episode 6450] Max Q-value diff at t=0: 7.323730\n"
     ]
    },
    {
     "name": "stderr",
     "output_type": "stream",
     "text": [
      "Training:  65%|██████▌   | 6502/10000 [08:04<04:39, 12.51it/s]"
     ]
    },
    {
     "name": "stdout",
     "output_type": "stream",
     "text": [
      "[Episode 6500] Max Q-value diff at t=0: 5.243652\n"
     ]
    },
    {
     "name": "stderr",
     "output_type": "stream",
     "text": [
      "Training:  66%|██████▌   | 6553/10000 [08:08<04:17, 13.39it/s]"
     ]
    },
    {
     "name": "stdout",
     "output_type": "stream",
     "text": [
      "[Episode 6550] Max Q-value diff at t=0: 1.991699\n"
     ]
    },
    {
     "name": "stderr",
     "output_type": "stream",
     "text": [
      "Training:  66%|██████▌   | 6602/10000 [08:13<05:17, 10.70it/s]"
     ]
    },
    {
     "name": "stdout",
     "output_type": "stream",
     "text": [
      "[Episode 6600] Max Q-value diff at t=0: 3.965881\n"
     ]
    },
    {
     "name": "stderr",
     "output_type": "stream",
     "text": [
      "Training:  67%|██████▋   | 6652/10000 [08:17<06:21,  8.79it/s]"
     ]
    },
    {
     "name": "stdout",
     "output_type": "stream",
     "text": [
      "[Episode 6650] Max Q-value diff at t=0: 3.697388\n"
     ]
    },
    {
     "name": "stderr",
     "output_type": "stream",
     "text": [
      "Training:  67%|██████▋   | 6702/10000 [08:21<04:58, 11.06it/s]"
     ]
    },
    {
     "name": "stdout",
     "output_type": "stream",
     "text": [
      "[Episode 6700] Max Q-value diff at t=0: 3.925659\n"
     ]
    },
    {
     "name": "stderr",
     "output_type": "stream",
     "text": [
      "Training:  68%|██████▊   | 6752/10000 [08:26<04:18, 12.58it/s]"
     ]
    },
    {
     "name": "stdout",
     "output_type": "stream",
     "text": [
      "[Episode 6750] Max Q-value diff at t=0: 3.017395\n"
     ]
    },
    {
     "name": "stderr",
     "output_type": "stream",
     "text": [
      "Training:  68%|██████▊   | 6803/10000 [08:31<05:15, 10.12it/s]"
     ]
    },
    {
     "name": "stdout",
     "output_type": "stream",
     "text": [
      "[Episode 6800] Max Q-value diff at t=0: 5.600891\n"
     ]
    },
    {
     "name": "stderr",
     "output_type": "stream",
     "text": [
      "Training:  69%|██████▊   | 6852/10000 [08:36<04:43, 11.11it/s]"
     ]
    },
    {
     "name": "stdout",
     "output_type": "stream",
     "text": [
      "[Episode 6850] Max Q-value diff at t=0: 3.346436\n"
     ]
    },
    {
     "name": "stderr",
     "output_type": "stream",
     "text": [
      "Training:  69%|██████▉   | 6907/10000 [08:38<01:25, 36.19it/s]"
     ]
    },
    {
     "name": "stdout",
     "output_type": "stream",
     "text": [
      "[Episode 6900] Max Q-value diff at t=0: 3.581177\n"
     ]
    },
    {
     "name": "stderr",
     "output_type": "stream",
     "text": [
      "Training:  70%|██████▉   | 6955/10000 [08:40<01:21, 37.33it/s]"
     ]
    },
    {
     "name": "stdout",
     "output_type": "stream",
     "text": [
      "[Episode 6950] Max Q-value diff at t=0: 6.362610\n"
     ]
    },
    {
     "name": "stderr",
     "output_type": "stream",
     "text": [
      "Training:  70%|███████   | 7003/10000 [08:43<04:08, 12.04it/s]"
     ]
    },
    {
     "name": "stdout",
     "output_type": "stream",
     "text": [
      "[Episode 7000] Max Q-value diff at t=0: 7.587372\n"
     ]
    },
    {
     "name": "stderr",
     "output_type": "stream",
     "text": [
      "Training:  71%|███████   | 7052/10000 [08:48<05:07,  9.58it/s]"
     ]
    },
    {
     "name": "stdout",
     "output_type": "stream",
     "text": [
      "[Episode 7050] Max Q-value diff at t=0: 3.841309\n"
     ]
    },
    {
     "name": "stderr",
     "output_type": "stream",
     "text": [
      "Training:  71%|███████   | 7103/10000 [08:52<04:13, 11.41it/s]"
     ]
    },
    {
     "name": "stdout",
     "output_type": "stream",
     "text": [
      "[Episode 7100] Max Q-value diff at t=0: 3.417175\n"
     ]
    },
    {
     "name": "stderr",
     "output_type": "stream",
     "text": [
      "Training:  72%|███████▏  | 7155/10000 [08:56<02:30, 18.85it/s]"
     ]
    },
    {
     "name": "stdout",
     "output_type": "stream",
     "text": [
      "[Episode 7150] Max Q-value diff at t=0: 4.337036\n"
     ]
    },
    {
     "name": "stderr",
     "output_type": "stream",
     "text": [
      "Training:  72%|███████▏  | 7205/10000 [08:58<01:14, 37.31it/s]"
     ]
    },
    {
     "name": "stdout",
     "output_type": "stream",
     "text": [
      "[Episode 7200] Max Q-value diff at t=0: 3.744263\n"
     ]
    },
    {
     "name": "stderr",
     "output_type": "stream",
     "text": [
      "Training:  73%|███████▎  | 7252/10000 [09:00<03:23, 13.48it/s]"
     ]
    },
    {
     "name": "stdout",
     "output_type": "stream",
     "text": [
      "[Episode 7250] Max Q-value diff at t=0: 4.464203\n"
     ]
    },
    {
     "name": "stderr",
     "output_type": "stream",
     "text": [
      "Training:  73%|███████▎  | 7302/10000 [09:05<03:43, 12.07it/s]"
     ]
    },
    {
     "name": "stdout",
     "output_type": "stream",
     "text": [
      "[Episode 7300] Max Q-value diff at t=0: 8.900818\n"
     ]
    },
    {
     "name": "stderr",
     "output_type": "stream",
     "text": [
      "Training:  74%|███████▎  | 7352/10000 [09:09<03:40, 12.02it/s]"
     ]
    },
    {
     "name": "stdout",
     "output_type": "stream",
     "text": [
      "[Episode 7350] Max Q-value diff at t=0: 9.504150\n"
     ]
    },
    {
     "name": "stderr",
     "output_type": "stream",
     "text": [
      "Training:  74%|███████▍  | 7402/10000 [09:13<03:35, 12.07it/s]"
     ]
    },
    {
     "name": "stdout",
     "output_type": "stream",
     "text": [
      "[Episode 7400] Max Q-value diff at t=0: 5.194580\n"
     ]
    },
    {
     "name": "stderr",
     "output_type": "stream",
     "text": [
      "Training:  75%|███████▍  | 7452/10000 [09:17<03:57, 10.75it/s]"
     ]
    },
    {
     "name": "stdout",
     "output_type": "stream",
     "text": [
      "[Episode 7450] Max Q-value diff at t=0: 3.118713\n"
     ]
    },
    {
     "name": "stderr",
     "output_type": "stream",
     "text": [
      "Training:  75%|███████▌  | 7506/10000 [09:21<01:25, 29.08it/s]"
     ]
    },
    {
     "name": "stdout",
     "output_type": "stream",
     "text": [
      "[Episode 7500] Max Q-value diff at t=0: 4.353638\n"
     ]
    },
    {
     "name": "stderr",
     "output_type": "stream",
     "text": [
      "Training:  76%|███████▌  | 7555/10000 [09:23<01:36, 25.35it/s]"
     ]
    },
    {
     "name": "stdout",
     "output_type": "stream",
     "text": [
      "[Episode 7550] Max Q-value diff at t=0: 3.614746\n"
     ]
    },
    {
     "name": "stderr",
     "output_type": "stream",
     "text": [
      "Training:  76%|███████▌  | 7606/10000 [09:25<01:11, 33.51it/s]"
     ]
    },
    {
     "name": "stdout",
     "output_type": "stream",
     "text": [
      "[Episode 7600] Max Q-value diff at t=0: 6.854736\n"
     ]
    },
    {
     "name": "stderr",
     "output_type": "stream",
     "text": [
      "Training:  77%|███████▋  | 7653/10000 [09:30<04:08,  9.44it/s]"
     ]
    },
    {
     "name": "stdout",
     "output_type": "stream",
     "text": [
      "[Episode 7650] Max Q-value diff at t=0: 6.234802\n"
     ]
    },
    {
     "name": "stderr",
     "output_type": "stream",
     "text": [
      "Training:  77%|███████▋  | 7706/10000 [09:32<01:07, 33.80it/s]"
     ]
    },
    {
     "name": "stdout",
     "output_type": "stream",
     "text": [
      "[Episode 7700] Max Q-value diff at t=0: 6.112000\n"
     ]
    },
    {
     "name": "stderr",
     "output_type": "stream",
     "text": [
      "Training:  78%|███████▊  | 7752/10000 [09:36<03:14, 11.57it/s]"
     ]
    },
    {
     "name": "stdout",
     "output_type": "stream",
     "text": [
      "[Episode 7750] Max Q-value diff at t=0: 2.966919\n"
     ]
    },
    {
     "name": "stderr",
     "output_type": "stream",
     "text": [
      "Training:  78%|███████▊  | 7802/10000 [09:41<04:26,  8.26it/s]"
     ]
    },
    {
     "name": "stdout",
     "output_type": "stream",
     "text": [
      "[Episode 7800] Max Q-value diff at t=0: 4.418793\n"
     ]
    },
    {
     "name": "stderr",
     "output_type": "stream",
     "text": [
      "Training:  79%|███████▊  | 7853/10000 [09:46<03:15, 10.97it/s]"
     ]
    },
    {
     "name": "stdout",
     "output_type": "stream",
     "text": [
      "[Episode 7850] Max Q-value diff at t=0: 3.176697\n"
     ]
    },
    {
     "name": "stderr",
     "output_type": "stream",
     "text": [
      "Training:  79%|███████▉  | 7901/10000 [09:50<03:35,  9.72it/s]"
     ]
    },
    {
     "name": "stdout",
     "output_type": "stream",
     "text": [
      "[Episode 7900] Max Q-value diff at t=0: 4.759247\n"
     ]
    },
    {
     "name": "stderr",
     "output_type": "stream",
     "text": [
      "Training:  80%|███████▉  | 7952/10000 [09:55<02:58, 11.47it/s]"
     ]
    },
    {
     "name": "stdout",
     "output_type": "stream",
     "text": [
      "[Episode 7950] Max Q-value diff at t=0: 5.667297\n"
     ]
    },
    {
     "name": "stderr",
     "output_type": "stream",
     "text": [
      "Training:  80%|████████  | 8003/10000 [09:58<01:46, 18.72it/s]"
     ]
    },
    {
     "name": "stdout",
     "output_type": "stream",
     "text": [
      "[Episode 8000] Max Q-value diff at t=0: 5.538452\n"
     ]
    },
    {
     "name": "stderr",
     "output_type": "stream",
     "text": [
      "Training:  81%|████████  | 8052/10000 [10:03<03:04, 10.55it/s]"
     ]
    },
    {
     "name": "stdout",
     "output_type": "stream",
     "text": [
      "[Episode 8050] Max Q-value diff at t=0: 5.040619\n"
     ]
    },
    {
     "name": "stderr",
     "output_type": "stream",
     "text": [
      "Training:  81%|████████  | 8107/10000 [10:05<00:52, 35.73it/s]"
     ]
    },
    {
     "name": "stdout",
     "output_type": "stream",
     "text": [
      "[Episode 8100] Max Q-value diff at t=0: 3.344727\n"
     ]
    },
    {
     "name": "stderr",
     "output_type": "stream",
     "text": [
      "Training:  82%|████████▏ | 8155/10000 [10:06<00:54, 34.01it/s]"
     ]
    },
    {
     "name": "stdout",
     "output_type": "stream",
     "text": [
      "[Episode 8150] Max Q-value diff at t=0: 8.915100\n"
     ]
    },
    {
     "name": "stderr",
     "output_type": "stream",
     "text": [
      "Training:  82%|████████▏ | 8199/10000 [10:08<00:51, 35.26it/s]"
     ]
    },
    {
     "name": "stdout",
     "output_type": "stream",
     "text": [
      "[Episode 8200] Max Q-value diff at t=0: 6.341064\n"
     ]
    },
    {
     "name": "stderr",
     "output_type": "stream",
     "text": [
      "Training:  83%|████████▎ | 8253/10000 [10:13<02:30, 11.65it/s]"
     ]
    },
    {
     "name": "stdout",
     "output_type": "stream",
     "text": [
      "[Episode 8250] Max Q-value diff at t=0: 5.110107\n"
     ]
    },
    {
     "name": "stderr",
     "output_type": "stream",
     "text": [
      "Training:  83%|████████▎ | 8303/10000 [10:17<01:29, 18.92it/s]"
     ]
    },
    {
     "name": "stdout",
     "output_type": "stream",
     "text": [
      "[Episode 8300] Max Q-value diff at t=0: 6.129272\n"
     ]
    },
    {
     "name": "stderr",
     "output_type": "stream",
     "text": [
      "Training:  84%|████████▎ | 8356/10000 [10:19<00:48, 33.71it/s]"
     ]
    },
    {
     "name": "stdout",
     "output_type": "stream",
     "text": [
      "[Episode 8350] Max Q-value diff at t=0: 8.064026\n"
     ]
    },
    {
     "name": "stderr",
     "output_type": "stream",
     "text": [
      "Training:  84%|████████▍ | 8408/10000 [10:20<00:44, 36.08it/s]"
     ]
    },
    {
     "name": "stdout",
     "output_type": "stream",
     "text": [
      "[Episode 8400] Max Q-value diff at t=0: 10.140625\n"
     ]
    },
    {
     "name": "stderr",
     "output_type": "stream",
     "text": [
      "Training:  85%|████████▍ | 8458/10000 [10:24<01:11, 21.45it/s]"
     ]
    },
    {
     "name": "stdout",
     "output_type": "stream",
     "text": [
      "[Episode 8450] Max Q-value diff at t=0: 5.999878\n"
     ]
    },
    {
     "name": "stderr",
     "output_type": "stream",
     "text": [
      "Training:  85%|████████▌ | 8502/10000 [10:27<02:26, 10.22it/s]"
     ]
    },
    {
     "name": "stdout",
     "output_type": "stream",
     "text": [
      "[Episode 8500] Max Q-value diff at t=0: 9.558228\n"
     ]
    },
    {
     "name": "stderr",
     "output_type": "stream",
     "text": [
      "Training:  86%|████████▌ | 8552/10000 [10:31<01:36, 15.02it/s]"
     ]
    },
    {
     "name": "stdout",
     "output_type": "stream",
     "text": [
      "[Episode 8550] Max Q-value diff at t=0: 9.068176\n"
     ]
    },
    {
     "name": "stderr",
     "output_type": "stream",
     "text": [
      "Training:  86%|████████▌ | 8602/10000 [10:36<01:56, 12.02it/s]"
     ]
    },
    {
     "name": "stdout",
     "output_type": "stream",
     "text": [
      "[Episode 8600] Max Q-value diff at t=0: 15.129089\n"
     ]
    },
    {
     "name": "stderr",
     "output_type": "stream",
     "text": [
      "Training:  87%|████████▋ | 8654/10000 [10:40<01:14, 18.18it/s]"
     ]
    },
    {
     "name": "stdout",
     "output_type": "stream",
     "text": [
      "[Episode 8650] Max Q-value diff at t=0: 10.914429\n"
     ]
    },
    {
     "name": "stderr",
     "output_type": "stream",
     "text": [
      "Training:  87%|████████▋ | 8702/10000 [10:44<01:48, 11.92it/s]"
     ]
    },
    {
     "name": "stdout",
     "output_type": "stream",
     "text": [
      "[Episode 8700] Max Q-value diff at t=0: 4.499451\n"
     ]
    },
    {
     "name": "stderr",
     "output_type": "stream",
     "text": [
      "Training:  88%|████████▊ | 8753/10000 [10:49<01:50, 11.27it/s]"
     ]
    },
    {
     "name": "stdout",
     "output_type": "stream",
     "text": [
      "[Episode 8750] Max Q-value diff at t=0: 2.147400\n"
     ]
    },
    {
     "name": "stderr",
     "output_type": "stream",
     "text": [
      "Training:  88%|████████▊ | 8807/10000 [10:52<00:42, 27.77it/s]"
     ]
    },
    {
     "name": "stdout",
     "output_type": "stream",
     "text": [
      "[Episode 8800] Max Q-value diff at t=0: 5.945740\n"
     ]
    },
    {
     "name": "stderr",
     "output_type": "stream",
     "text": [
      "Training:  89%|████████▊ | 8857/10000 [10:54<00:47, 24.25it/s]"
     ]
    },
    {
     "name": "stdout",
     "output_type": "stream",
     "text": [
      "[Episode 8850] Max Q-value diff at t=0: 6.174866\n"
     ]
    },
    {
     "name": "stderr",
     "output_type": "stream",
     "text": [
      "Training:  89%|████████▉ | 8902/10000 [10:57<01:40, 10.95it/s]"
     ]
    },
    {
     "name": "stdout",
     "output_type": "stream",
     "text": [
      "[Episode 8900] Max Q-value diff at t=0: 5.178284\n"
     ]
    },
    {
     "name": "stderr",
     "output_type": "stream",
     "text": [
      "Training:  90%|████████▉ | 8952/10000 [11:00<01:28, 11.82it/s]"
     ]
    },
    {
     "name": "stdout",
     "output_type": "stream",
     "text": [
      "[Episode 8950] Max Q-value diff at t=0: 4.461792\n"
     ]
    },
    {
     "name": "stderr",
     "output_type": "stream",
     "text": [
      "Training:  90%|█████████ | 9002/10000 [11:05<01:24, 11.83it/s]"
     ]
    },
    {
     "name": "stdout",
     "output_type": "stream",
     "text": [
      "[Episode 9000] Max Q-value diff at t=0: 3.516357\n"
     ]
    },
    {
     "name": "stderr",
     "output_type": "stream",
     "text": [
      "Training:  91%|█████████ | 9052/10000 [11:10<01:36,  9.79it/s]"
     ]
    },
    {
     "name": "stdout",
     "output_type": "stream",
     "text": [
      "[Episode 9050] Max Q-value diff at t=0: 5.642578\n"
     ]
    },
    {
     "name": "stderr",
     "output_type": "stream",
     "text": [
      "Training:  91%|█████████ | 9102/10000 [11:15<01:37,  9.23it/s]"
     ]
    },
    {
     "name": "stdout",
     "output_type": "stream",
     "text": [
      "[Episode 9100] Max Q-value diff at t=0: 3.937378\n"
     ]
    },
    {
     "name": "stderr",
     "output_type": "stream",
     "text": [
      "Training:  92%|█████████▏| 9152/10000 [11:20<01:11, 11.85it/s]"
     ]
    },
    {
     "name": "stdout",
     "output_type": "stream",
     "text": [
      "[Episode 9150] Max Q-value diff at t=0: 3.710327\n"
     ]
    },
    {
     "name": "stderr",
     "output_type": "stream",
     "text": [
      "Training:  92%|█████████▏| 9203/10000 [11:24<01:06, 11.99it/s]"
     ]
    },
    {
     "name": "stdout",
     "output_type": "stream",
     "text": [
      "[Episode 9200] Max Q-value diff at t=0: 6.239197\n"
     ]
    },
    {
     "name": "stderr",
     "output_type": "stream",
     "text": [
      "Training:  93%|█████████▎| 9252/10000 [11:29<01:34,  7.91it/s]"
     ]
    },
    {
     "name": "stdout",
     "output_type": "stream",
     "text": [
      "[Episode 9250] Max Q-value diff at t=0: 4.112732\n"
     ]
    },
    {
     "name": "stderr",
     "output_type": "stream",
     "text": [
      "Training:  93%|█████████▎| 9302/10000 [11:33<01:08, 10.23it/s]"
     ]
    },
    {
     "name": "stdout",
     "output_type": "stream",
     "text": [
      "[Episode 9300] Max Q-value diff at t=0: 5.181335\n"
     ]
    },
    {
     "name": "stderr",
     "output_type": "stream",
     "text": [
      "Training:  94%|█████████▎| 9352/10000 [11:38<01:16,  8.47it/s]"
     ]
    },
    {
     "name": "stdout",
     "output_type": "stream",
     "text": [
      "[Episode 9350] Max Q-value diff at t=0: 7.232971\n"
     ]
    },
    {
     "name": "stderr",
     "output_type": "stream",
     "text": [
      "Training:  94%|█████████▍| 9403/10000 [11:43<00:51, 11.54it/s]"
     ]
    },
    {
     "name": "stdout",
     "output_type": "stream",
     "text": [
      "[Episode 9400] Max Q-value diff at t=0: 7.411316\n"
     ]
    },
    {
     "name": "stderr",
     "output_type": "stream",
     "text": [
      "Training:  95%|█████████▍| 9455/10000 [11:47<00:24, 22.24it/s]"
     ]
    },
    {
     "name": "stdout",
     "output_type": "stream",
     "text": [
      "[Episode 9450] Max Q-value diff at t=0: 3.519348\n"
     ]
    },
    {
     "name": "stderr",
     "output_type": "stream",
     "text": [
      "Training:  95%|█████████▌| 9501/10000 [11:48<00:13, 35.82it/s]"
     ]
    },
    {
     "name": "stdout",
     "output_type": "stream",
     "text": [
      "[Episode 9500] Max Q-value diff at t=0: 4.671021\n"
     ]
    },
    {
     "name": "stderr",
     "output_type": "stream",
     "text": [
      "Training:  96%|█████████▌| 9553/10000 [11:51<00:30, 14.65it/s]"
     ]
    },
    {
     "name": "stdout",
     "output_type": "stream",
     "text": [
      "[Episode 9550] Max Q-value diff at t=0: 4.994629\n"
     ]
    },
    {
     "name": "stderr",
     "output_type": "stream",
     "text": [
      "Training:  96%|█████████▌| 9605/10000 [11:53<00:11, 35.27it/s]"
     ]
    },
    {
     "name": "stdout",
     "output_type": "stream",
     "text": [
      "[Episode 9600] Max Q-value diff at t=0: 10.086670\n"
     ]
    },
    {
     "name": "stderr",
     "output_type": "stream",
     "text": [
      "Training:  97%|█████████▋| 9651/10000 [11:55<00:19, 17.71it/s]"
     ]
    },
    {
     "name": "stdout",
     "output_type": "stream",
     "text": [
      "[Episode 9650] Max Q-value diff at t=0: 7.104492\n"
     ]
    },
    {
     "name": "stderr",
     "output_type": "stream",
     "text": [
      "Training:  97%|█████████▋| 9704/10000 [11:59<00:21, 13.70it/s]"
     ]
    },
    {
     "name": "stdout",
     "output_type": "stream",
     "text": [
      "[Episode 9700] Max Q-value diff at t=0: 3.858521\n"
     ]
    },
    {
     "name": "stderr",
     "output_type": "stream",
     "text": [
      "Training:  98%|█████████▊| 9752/10000 [12:03<00:20, 12.01it/s]"
     ]
    },
    {
     "name": "stdout",
     "output_type": "stream",
     "text": [
      "[Episode 9750] Max Q-value diff at t=0: 4.041412\n"
     ]
    },
    {
     "name": "stderr",
     "output_type": "stream",
     "text": [
      "Training:  98%|█████████▊| 9804/10000 [12:07<00:12, 15.83it/s]"
     ]
    },
    {
     "name": "stdout",
     "output_type": "stream",
     "text": [
      "[Episode 9800] Max Q-value diff at t=0: 4.537964\n"
     ]
    },
    {
     "name": "stderr",
     "output_type": "stream",
     "text": [
      "Training:  99%|█████████▊| 9857/10000 [12:10<00:04, 31.89it/s]"
     ]
    },
    {
     "name": "stdout",
     "output_type": "stream",
     "text": [
      "[Episode 9850] Max Q-value diff at t=0: 2.071472\n"
     ]
    },
    {
     "name": "stderr",
     "output_type": "stream",
     "text": [
      "Training:  99%|█████████▉| 9901/10000 [12:12<00:03, 31.34it/s]"
     ]
    },
    {
     "name": "stdout",
     "output_type": "stream",
     "text": [
      "[Episode 9900] Max Q-value diff at t=0: 4.667908\n"
     ]
    },
    {
     "name": "stderr",
     "output_type": "stream",
     "text": [
      "Training: 100%|█████████▉| 9952/10000 [12:16<00:05,  8.84it/s]"
     ]
    },
    {
     "name": "stdout",
     "output_type": "stream",
     "text": [
      "[Episode 9950] Max Q-value diff at t=0: 3.840088\n"
     ]
    },
    {
     "name": "stderr",
     "output_type": "stream",
     "text": [
      "Training: 100%|██████████| 10000/10000 [12:20<00:00, 13.50it/s]\n"
     ]
    },
    {
     "name": "stdout",
     "output_type": "stream",
     "text": [
      "Training complete\n"
     ]
    },
    {
     "data": {
      "image/png": "[encoded data removed]",
      "text/plain": [
       "<Figure size 600x400 with 1 Axes>"
      ]
     },
     "metadata": {},
     "output_type": "display_data"
    },
    {
     "name": "stdout",
     "output_type": "stream",
     "text": [
      "\n",
      "Time | Inv | Demand | Action\n",
      "------------------------------------\n",
      "   0 |    0 |      5 |      9\n",
      "   1 |    4 |      6 |      9\n",
      "   2 |    7 |      8 |      9\n",
      "   3 |    8 |      3 |      9\n",
      "   4 |   14 |      5 |      9\n",
      "   5 |   18 |      0 |      9\n",
      "   6 |   27 |      8 |      9\n",
      "   7 |   28 |      4 |      9\n",
      "   8 |   33 |      4 |      9\n",
      "   9 |   38 |      3 |      9\n",
      "  10 |   44 |      1 |      9\n",
      "  11 |   50 |      4 |      9\n",
      "  12 |   50 |      0 |      9\n",
      "  13 |   50 |      0 |      9\n",
      "  14 |   50 |      6 |      9\n",
      "  15 |   50 |      8 |      9\n",
      "  16 |   50 |      0 |      9\n",
      "  17 |   50 |      5 |      9\n",
      "  18 |   50 |      9 |      9\n",
      "  19 |   50 |      9 |      9\n",
      "  20 |   50 |      2 |      9\n",
      "  21 |   50 |     10 |      9\n",
      "  22 |   49 |      2 |      9\n",
      "  23 |   50 |      7 |      9\n",
      "  24 |   50 |      0 |      9\n",
      "  25 |   50 |      7 |      9\n",
      "  26 |   50 |      5 |      9\n",
      "  27 |   50 |      3 |      9\n",
      "  28 |   50 |      2 |      9\n",
      "  29 |   50 |      2 |      9\n",
      "  30 |   50 |      4 |      9\n",
      "  31 |   50 |      9 |      9\n",
      "  32 |   50 |      1 |      9\n",
      "  33 |   50 |      8 |      9\n",
      "  34 |   50 |      2 |      9\n",
      "  35 |   50 |      4 |      9\n",
      "  36 |   50 |      8 |      9\n",
      "  37 |   50 |      4 |      9\n",
      "  38 |   50 |      5 |      9\n",
      "  39 |   50 |      1 |      9\n",
      "  40 |   50 |      4 |      9\n",
      "  41 |   50 |      8 |      9\n",
      "  42 |   50 |      8 |      9\n",
      "  43 |   50 |      9 |      9\n",
      "  44 |   50 |     10 |      9\n",
      "  45 |   49 |      4 |      9\n",
      "  46 |   50 |      4 |      9\n",
      "  47 |   50 |      9 |      9\n",
      "  48 |   50 |      6 |      9\n",
      "  49 |   50 |      1 |      9\n",
      "GIF saved as vf_evolution_ar_21.gif\n"
     ]
    },
    {
     "name": "stderr",
     "output_type": "stream",
     "text": [
      "/tmp/ipykernel_8151/6845966.py:222: DeprecationWarning: Starting with ImageIO v3 the behavior of this function will switch to that of iio.v3.imread. To keep the current behavior (and make this warning disappear) use `import imageio.v2 as imageio` or call `imageio.v2.imread` directly.\n",
      "  w.append_data(imageio.imread(f\"frames/{t:03d}.png\"))\n"
     ]
    }
   ],
   "source": [
    "import os, random, imageio, shutil\n",
    "from collections import deque\n",
    "\n",
    "import numpy as np\n",
    "import torch\n",
    "import torch.nn as nn\n",
    "import torch.optim as optim\n",
    "import matplotlib.pyplot as plt\n",
    "from tqdm import trange\n",
    "\n",
    "# -----------------------\n",
    "# 1) ENVIRONMENT\n",
    "# -----------------------\n",
    "class InventoryEnv:\n",
    "    def __init__(self, min_inv=-50, max_inv=50, T=50):\n",
    "        self.min_inv = min_inv\n",
    "        self.max_inv = max_inv\n",
    "        self.T       = T\n",
    "        self.reset()\n",
    "\n",
    "    def reset(self):\n",
    "        self.s = random.randint(self.min_inv, self.max_inv)\n",
    "        self.t = 0\n",
    "        return np.array([self.s, self.t], dtype=np.float32)\n",
    "\n",
    "    def step(self, a):\n",
    "        w = random.randint(0, 10)\n",
    "        s2 = self.s + a - w\n",
    "        s2 = max(self.min_inv, min(self.max_inv, s2))\n",
    "\n",
    "        p, a_cost, b_cost = 1, 1, 2\n",
    "        order_cost = p * a\n",
    "        inv_cost   = a_cost * s2 if s2 >= 0 else b_cost * (-s2)\n",
    "        cost       = order_cost + inv_cost\n",
    "        r = cost\n",
    "\n",
    "        self.t += 1\n",
    "        done = (self.t >= self.T)\n",
    "        self.s = s2\n",
    "        obs = np.array([self.s, self.t if not done else 0], dtype=np.float32)\n",
    "        return obs, r, done\n",
    "\n",
    "# -----------------------\n",
    "# 2) Q-NETWORK\n",
    "# -----------------------\n",
    "class DQN(nn.Module):\n",
    "    def __init__(self, state_dim, num_actions):\n",
    "        super().__init__()\n",
    "        self.net = nn.Sequential(\n",
    "            nn.Linear(state_dim, 128),\n",
    "            nn.ReLU(),\n",
    "            nn.Linear(128, 128),\n",
    "            nn.ReLU(),\n",
    "            nn.Linear(128, num_actions)\n",
    "        )\n",
    "    def forward(self, x):\n",
    "        return self.net(x)\n",
    "\n",
    "# -----------------------\n",
    "# 3) REPLAY BUFFER\n",
    "# -----------------------\n",
    "class ReplayBuffer:\n",
    "    def __init__(self, cap): self.buf = deque(maxlen=cap)\n",
    "    def push(self, *args):    self.buf.append(tuple(args))\n",
    "    def sample(self, k):\n",
    "        batch = random.sample(self.buf, k)\n",
    "        return zip(*batch)\n",
    "    def __len__(self): return len(self.buf)\n",
    "\n",
    "# -----------------------\n",
    "# 4) HYPERPARAMETERS\n",
    "# -----------------------\n",
    "num_actions      = 10\n",
    "state_dim        = 2\n",
    "T                = 50\n",
    "min_inv, max_inv = -50, 50\n",
    "gamma            = 1.0\n",
    "eps_start        = 0.9\n",
    "eps_end          = 0.05\n",
    "eps_decay        = 5000\n",
    "buffer_cap       = 50_000\n",
    "batch_size       = 32\n",
    "lr               = 1e-3\n",
    "target_update    = 10\n",
    "episodes         = 10000\n",
    "\n",
    "# -----------------------\n",
    "# 5) SETUP\n",
    "# -----------------------\n",
    "device     = torch.device(\"cuda\" if torch.cuda.is_available() else \"cpu\")\n",
    "print(device)\n",
    "env        = InventoryEnv(min_inv, max_inv, T)\n",
    "policy_net = DQN(state_dim, num_actions).to(device)\n",
    "target_net = DQN(state_dim, num_actions).to(device)\n",
    "target_net.load_state_dict(policy_net.state_dict())\n",
    "opt        = optim.Adam(policy_net.parameters(), lr=lr)\n",
    "buf        = ReplayBuffer(buffer_cap)\n",
    "\n",
    "step_count = 0\n",
    "eps        = eps_start\n",
    "\n",
    "# For Q-value convergence check\n",
    "q_convergence = []\n",
    "prev_q_snapshot = None\n",
    "check_convergence_interval = 50\n",
    "\n",
    "# -----------------------\n",
    "# 6) TRAIN\n",
    "# -----------------------\n",
    "for ep in trange(episodes, desc=\"Training\"):\n",
    "    obs = env.reset()\n",
    "    done= False\n",
    "    while not done:\n",
    "        if random.random() < eps:\n",
    "            a = random.randrange(num_actions)\n",
    "        else:\n",
    "            st = torch.FloatTensor(obs).unsqueeze(0).to(device)\n",
    "            qv = policy_net(st)\n",
    "            a  = int(qv.argmin(dim=1).item())\n",
    "\n",
    "        obs2, r, done = env.step(a)\n",
    "        buf.push(obs, a, r, obs2, done)\n",
    "        obs = obs2\n",
    "\n",
    "        if len(buf) >= batch_size:\n",
    "            s_batch, a_batch, r_batch, s2_batch, d_batch = buf.sample(batch_size)\n",
    "            s_v  = torch.FloatTensor(s_batch).to(device)\n",
    "            a_v  = torch.LongTensor(a_batch).to(device)\n",
    "            r_v  = torch.FloatTensor(r_batch).to(device)\n",
    "            s2_v = torch.FloatTensor(s2_batch).to(device)\n",
    "            d_v  = torch.FloatTensor(d_batch).to(device)\n",
    "\n",
    "            q_vals = policy_net(s_v).gather(1, a_v.unsqueeze(-1)).squeeze(-1)\n",
    "            with torch.no_grad():\n",
    "                q2 = target_net(s2_v)\n",
    "                q2_min = q2.min(dim=1)[0]\n",
    "                target = r_v + gamma * q2_min * (1 - d_v)\n",
    "\n",
    "            loss = nn.MSELoss()(q_vals, target)\n",
    "            opt.zero_grad(); loss.backward(); opt.step()\n",
    "\n",
    "            step_count += 1\n",
    "            if step_count % target_update == 0:\n",
    "                target_net.load_state_dict(policy_net.state_dict())\n",
    "\n",
    "    # Don't decay ε\n",
    "    eps = eps\n",
    "\n",
    "    # Check Q-value convergence\n",
    "    if ep % check_convergence_interval == 0:\n",
    "        with torch.no_grad():\n",
    "            q_snapshot = []\n",
    "            for i, s in enumerate(range(min_inv, max_inv+1)):\n",
    "                st = torch.FloatTensor([[s, 0]]).to(device)\n",
    "                qs = policy_net(st).cpu().numpy()[0]\n",
    "                q_snapshot.append(qs)\n",
    "            q_snapshot = np.array(q_snapshot)\n",
    "\n",
    "        if prev_q_snapshot is not None:\n",
    "            diff = np.abs(prev_q_snapshot - q_snapshot)\n",
    "            max_diff = np.max(diff)\n",
    "            q_convergence.append(max_diff)\n",
    "            print(f\"[Episode {ep}] Max Q-value diff at t=0: {max_diff:.6f}\")\n",
    "        prev_q_snapshot = q_snapshot\n",
    "\n",
    "print(\"Training complete\")\n",
    "\n",
    "# -----------------------\n",
    "# Plot Q-value convergence\n",
    "# -----------------------\n",
    "if q_convergence:\n",
    "    plt.figure(figsize=(6, 4))\n",
    "    plt.plot(np.arange(len(q_convergence)) * check_convergence_interval, q_convergence, marker='o')\n",
    "    plt.xlabel(\"Episode\")\n",
    "    plt.ylabel(\"Max ΔQ at t=0\")\n",
    "    plt.title(\"Q-value Convergence\")\n",
    "    plt.grid()\n",
    "    plt.tight_layout()\n",
    "    plt.show()\n",
    "\n",
    "# -----------------------\n",
    "# 7) EXTRACT Q-TABLE & V(s,t)\n",
    "# -----------------------\n",
    "policy_net.eval()\n",
    "num_states = max_inv - min_inv + 1\n",
    "Q_tab  = np.zeros((T, num_states, num_actions), dtype=np.float32)\n",
    "V_tab  = np.zeros((T, num_states), dtype=np.float32)\n",
    "pi_tab = np.zeros((T, num_states), dtype=int)\n",
    "\n",
    "with torch.no_grad():\n",
    "    for t in range(T):\n",
    "        for i, s in enumerate(range(min_inv, max_inv+1)):\n",
    "            st = torch.FloatTensor([[s, t]]).to(device)\n",
    "            qs = policy_net(st).cpu().numpy()[0]\n",
    "            Q_tab[t, i] = qs\n",
    "            a_opt = int(np.argmin(qs))\n",
    "            pi_tab[t, i] = a_opt\n",
    "            V_tab[t, i] = qs[a_opt]\n",
    "\n",
    "# -----------------------\n",
    "# 9) ROLLOUT DEMO\n",
    "# -----------------------\n",
    "print(\"\\nTime | Inv | Demand | Action\")\n",
    "print(\"------------------------------------\")\n",
    "s = 0\n",
    "for t in range(T):\n",
    "    w = random.randint(0,10)\n",
    "    a = pi_tab[t, s-min_inv]\n",
    "    print(f\"{t:4d} | {s:4d} | {w:6d} | {a:6d}\")\n",
    "    s = max(min_inv, min(max_inv, s + a - w))\n",
    "\n",
    "# -----------------------\n",
    "# 11) GIF of V(s) over t\n",
    "# -----------------------\n",
    "states = np.arange(min_inv, max_inv+1)\n",
    "os.makedirs(\"frames\", exist_ok=True)\n",
    "for t in range(T):\n",
    "    plt.figure(figsize=(4,3))\n",
    "    plt.plot(states, V_tab[t], marker='o')\n",
    "    plt.title(f\"t={t}\"); plt.tight_layout()\n",
    "    fn = f\"frames/{t:03d}.png\"\n",
    "    plt.savefig(fn); plt.close()\n",
    "\n",
    "with imageio.get_writer(\"vf_evolution_ar_22.gif\", mode=\"I\", duration=0.1) as w:\n",
    "    for t in range(T):\n",
    "        w.append_data(imageio.imread(f\"frames/{t:03d}.png\"))\n",
    "\n",
    "shutil.rmtree(\"frames\")\n",
    "\n",
    "print(\"GIF saved as vf_evolution_ar_22.gif\")"
   ]
  },
  {
   "cell_type": "code",
   "execution_count": 22,
   "metadata": {},
   "outputs": [
    {
     "name": "stderr",
     "output_type": "stream",
     "text": [
      "/tmp/ipykernel_37148/3707170877.py:12: DeprecationWarning: Starting with ImageIO v3 the behavior of this function will switch to that of iio.v3.imread. To keep the current behavior (and make this warning disappear) use `import imageio.v2 as imageio` or call `imageio.v2.imread` directly.\n",
      "  w.append_data(imageio.imread(f\"frames/{t:03d}.png\"))\n"
     ]
    },
    {
     "name": "stdout",
     "output_type": "stream",
     "text": [
      "GIF saved as vf_evolution_ar_14.gif\n"
     ]
    }
   ],
   "source": [
    "states = np.arange(min_inv, max_inv+1)\n",
    "os.makedirs(\"frames\", exist_ok=True)\n",
    "for t in range(T):\n",
    "    plt.figure(figsize=(4,3))\n",
    "    plt.plot(states, V_tab[t], marker='o')\n",
    "    plt.title(f\"t={t}\"); plt.tight_layout()\n",
    "    fn = f\"frames/{t:03d}.png\"\n",
    "    plt.savefig(fn); plt.close()\n",
    "\n",
    "with imageio.get_writer(\"vf_evolution_ar_14.gif\", mode=\"I\", duration=0.1) as w:\n",
    "    for t in range(T):\n",
    "        w.append_data(imageio.imread(f\"frames/{t:03d}.png\"))\n",
    "\n",
    "shutil.rmtree(\"frames\")\n",
    "\n",
    "print(\"GIF saved as vf_evolution_ar_14.gif\")"
   ]
  },
  {
   "cell_type": "markdown",
   "metadata": {},
   "source": [
    "Without replay bufferr"
   ]
  },
  {
   "cell_type": "code",
   "execution_count": null,
   "metadata": {},
   "outputs": [
    {
     "name": "stdout",
     "output_type": "stream",
     "text": [
      "cuda\n"
     ]
    },
    {
     "name": "stderr",
     "output_type": "stream",
     "text": [
      "Training:   0%|          | 0/10000 [00:00<?, ?it/s]"
     ]
    },
    {
     "name": "stderr",
     "output_type": "stream",
     "text": [
      "/home/swaroop/Downloads/ENTER/lib/python3.12/site-packages/torch/nn/modules/loss.py:610: UserWarning: Using a target size (torch.Size([1])) that is different to the input size (torch.Size([])). This will likely lead to incorrect results due to broadcasting. Please ensure they have the same size.\n",
      "  return F.mse_loss(input, target, reduction=self.reduction)\n",
      "Training:   1%|          | 56/10000 [00:04<05:26, 30.48it/s]"
     ]
    },
    {
     "name": "stdout",
     "output_type": "stream",
     "text": [
      "[Ep 50] max ΔQ(t=0) = 877.788696\n"
     ]
    },
    {
     "name": "stderr",
     "output_type": "stream",
     "text": [
      "Training:   1%|          | 104/10000 [00:06<04:56, 33.36it/s]"
     ]
    },
    {
     "name": "stdout",
     "output_type": "stream",
     "text": [
      "[Ep 100] max ΔQ(t=0) = 210.984985\n"
     ]
    },
    {
     "name": "stderr",
     "output_type": "stream",
     "text": [
      "Training:   2%|▏         | 156/10000 [00:10<07:26, 22.06it/s]"
     ]
    },
    {
     "name": "stdout",
     "output_type": "stream",
     "text": [
      "[Ep 150] max ΔQ(t=0) = 169.820557\n"
     ]
    },
    {
     "name": "stderr",
     "output_type": "stream",
     "text": [
      "Training:   2%|▏         | 204/10000 [00:11<04:51, 33.56it/s]"
     ]
    },
    {
     "name": "stdout",
     "output_type": "stream",
     "text": [
      "[Ep 200] max ΔQ(t=0) = 342.622925\n"
     ]
    },
    {
     "name": "stderr",
     "output_type": "stream",
     "text": [
      "Training:   3%|▎         | 252/10000 [00:15<22:48,  7.13it/s]"
     ]
    },
    {
     "name": "stdout",
     "output_type": "stream",
     "text": [
      "[Ep 250] max ΔQ(t=0) = 262.266907\n"
     ]
    },
    {
     "name": "stderr",
     "output_type": "stream",
     "text": [
      "Training:   3%|▎         | 302/10000 [00:22<17:23,  9.30it/s]"
     ]
    },
    {
     "name": "stdout",
     "output_type": "stream",
     "text": [
      "[Ep 300] max ΔQ(t=0) = 224.435913\n"
     ]
    },
    {
     "name": "stderr",
     "output_type": "stream",
     "text": [
      "Training:   4%|▎         | 352/10000 [00:29<21:47,  7.38it/s]"
     ]
    },
    {
     "name": "stdout",
     "output_type": "stream",
     "text": [
      "[Ep 350] max ΔQ(t=0) = 309.589722\n"
     ]
    },
    {
     "name": "stderr",
     "output_type": "stream",
     "text": [
      "Training:   4%|▍         | 402/10000 [00:35<17:38,  9.07it/s]"
     ]
    },
    {
     "name": "stdout",
     "output_type": "stream",
     "text": [
      "[Ep 400] max ΔQ(t=0) = 325.359375\n"
     ]
    },
    {
     "name": "stderr",
     "output_type": "stream",
     "text": [
      "Training:   5%|▍         | 453/10000 [00:40<15:18, 10.39it/s]"
     ]
    },
    {
     "name": "stdout",
     "output_type": "stream",
     "text": [
      "[Ep 450] max ΔQ(t=0) = 147.186157\n"
     ]
    },
    {
     "name": "stderr",
     "output_type": "stream",
     "text": [
      "Training:   5%|▌         | 502/10000 [00:45<16:01,  9.88it/s]"
     ]
    },
    {
     "name": "stdout",
     "output_type": "stream",
     "text": [
      "[Ep 500] max ΔQ(t=0) = 174.911438\n"
     ]
    },
    {
     "name": "stderr",
     "output_type": "stream",
     "text": [
      "Training:   6%|▌         | 552/10000 [00:51<20:19,  7.74it/s]"
     ]
    },
    {
     "name": "stdout",
     "output_type": "stream",
     "text": [
      "[Ep 550] max ΔQ(t=0) = 211.367249\n"
     ]
    },
    {
     "name": "stderr",
     "output_type": "stream",
     "text": [
      "Training:   6%|▌         | 602/10000 [00:56<19:09,  8.17it/s]"
     ]
    },
    {
     "name": "stdout",
     "output_type": "stream",
     "text": [
      "[Ep 600] max ΔQ(t=0) = 246.520691\n"
     ]
    },
    {
     "name": "stderr",
     "output_type": "stream",
     "text": [
      "Training:   7%|▋         | 655/10000 [01:01<07:32, 20.67it/s]"
     ]
    },
    {
     "name": "stdout",
     "output_type": "stream",
     "text": [
      "[Ep 650] max ΔQ(t=0) = 225.969727\n"
     ]
    },
    {
     "name": "stderr",
     "output_type": "stream",
     "text": [
      "Training:   7%|▋         | 702/10000 [01:06<17:56,  8.64it/s]"
     ]
    },
    {
     "name": "stdout",
     "output_type": "stream",
     "text": [
      "[Ep 700] max ΔQ(t=0) = 354.913818\n"
     ]
    },
    {
     "name": "stderr",
     "output_type": "stream",
     "text": [
      "Training:   8%|▊         | 753/10000 [01:11<14:28, 10.64it/s]"
     ]
    },
    {
     "name": "stdout",
     "output_type": "stream",
     "text": [
      "[Ep 750] max ΔQ(t=0) = 262.705994\n"
     ]
    },
    {
     "name": "stderr",
     "output_type": "stream",
     "text": [
      "Training:   8%|▊         | 802/10000 [01:15<15:51,  9.67it/s]"
     ]
    },
    {
     "name": "stdout",
     "output_type": "stream",
     "text": [
      "[Ep 800] max ΔQ(t=0) = 194.499207\n"
     ]
    },
    {
     "name": "stderr",
     "output_type": "stream",
     "text": [
      "Training:   9%|▊         | 852/10000 [01:20<14:30, 10.51it/s]"
     ]
    },
    {
     "name": "stdout",
     "output_type": "stream",
     "text": [
      "[Ep 850] max ΔQ(t=0) = 210.813721\n"
     ]
    },
    {
     "name": "stderr",
     "output_type": "stream",
     "text": [
      "Training:   9%|▉         | 903/10000 [01:25<15:34,  9.74it/s]"
     ]
    },
    {
     "name": "stdout",
     "output_type": "stream",
     "text": [
      "[Ep 900] max ΔQ(t=0) = 103.779114\n"
     ]
    },
    {
     "name": "stderr",
     "output_type": "stream",
     "text": [
      "Training:  10%|▉         | 952/10000 [01:31<15:40,  9.62it/s]"
     ]
    },
    {
     "name": "stdout",
     "output_type": "stream",
     "text": [
      "[Ep 950] max ΔQ(t=0) = 220.007568\n"
     ]
    },
    {
     "name": "stderr",
     "output_type": "stream",
     "text": [
      "Training:  10%|█         | 1002/10000 [01:36<17:26,  8.60it/s]"
     ]
    },
    {
     "name": "stdout",
     "output_type": "stream",
     "text": [
      "[Ep 1000] max ΔQ(t=0) = 167.995483\n"
     ]
    },
    {
     "name": "stderr",
     "output_type": "stream",
     "text": [
      "Training:  11%|█         | 1052/10000 [01:42<16:00,  9.31it/s]"
     ]
    },
    {
     "name": "stdout",
     "output_type": "stream",
     "text": [
      "[Ep 1050] max ΔQ(t=0) = 219.232971\n"
     ]
    },
    {
     "name": "stderr",
     "output_type": "stream",
     "text": [
      "Training:  11%|█         | 1102/10000 [01:47<17:07,  8.66it/s]"
     ]
    },
    {
     "name": "stdout",
     "output_type": "stream",
     "text": [
      "[Ep 1100] max ΔQ(t=0) = 250.654846\n"
     ]
    },
    {
     "name": "stderr",
     "output_type": "stream",
     "text": [
      "Training:  12%|█▏        | 1152/10000 [01:53<16:00,  9.21it/s]"
     ]
    },
    {
     "name": "stdout",
     "output_type": "stream",
     "text": [
      "[Ep 1150] max ΔQ(t=0) = 254.921265\n"
     ]
    },
    {
     "name": "stderr",
     "output_type": "stream",
     "text": [
      "Training:  12%|█▏        | 1202/10000 [01:57<15:20,  9.56it/s]"
     ]
    },
    {
     "name": "stdout",
     "output_type": "stream",
     "text": [
      "[Ep 1200] max ΔQ(t=0) = 400.028198\n"
     ]
    },
    {
     "name": "stderr",
     "output_type": "stream",
     "text": [
      "Training:  13%|█▎        | 1252/10000 [02:03<16:29,  8.84it/s]"
     ]
    },
    {
     "name": "stdout",
     "output_type": "stream",
     "text": [
      "[Ep 1250] max ΔQ(t=0) = 350.880981\n"
     ]
    },
    {
     "name": "stderr",
     "output_type": "stream",
     "text": [
      "Training:  13%|█▎        | 1302/10000 [02:09<16:02,  9.03it/s]"
     ]
    },
    {
     "name": "stdout",
     "output_type": "stream",
     "text": [
      "[Ep 1300] max ΔQ(t=0) = 82.346558\n"
     ]
    },
    {
     "name": "stderr",
     "output_type": "stream",
     "text": [
      "Training:  14%|█▎        | 1352/10000 [02:14<16:38,  8.66it/s]"
     ]
    },
    {
     "name": "stdout",
     "output_type": "stream",
     "text": [
      "[Ep 1350] max ΔQ(t=0) = 356.950073\n"
     ]
    },
    {
     "name": "stderr",
     "output_type": "stream",
     "text": [
      "Training:  14%|█▍        | 1407/10000 [02:16<04:22, 32.72it/s]"
     ]
    },
    {
     "name": "stdout",
     "output_type": "stream",
     "text": [
      "[Ep 1400] max ΔQ(t=0) = 285.795410\n"
     ]
    },
    {
     "name": "stderr",
     "output_type": "stream",
     "text": [
      "Training:  15%|█▍        | 1455/10000 [02:18<04:20, 32.84it/s]"
     ]
    },
    {
     "name": "stdout",
     "output_type": "stream",
     "text": [
      "[Ep 1450] max ΔQ(t=0) = 196.520752\n"
     ]
    },
    {
     "name": "stderr",
     "output_type": "stream",
     "text": [
      "Training:  15%|█▌        | 1507/10000 [02:19<04:21, 32.53it/s]"
     ]
    },
    {
     "name": "stdout",
     "output_type": "stream",
     "text": [
      "[Ep 1500] max ΔQ(t=0) = 133.402466\n"
     ]
    },
    {
     "name": "stderr",
     "output_type": "stream",
     "text": [
      "Training:  16%|█▌        | 1555/10000 [02:21<04:27, 31.59it/s]"
     ]
    },
    {
     "name": "stdout",
     "output_type": "stream",
     "text": [
      "[Ep 1550] max ΔQ(t=0) = 181.249512\n"
     ]
    },
    {
     "name": "stderr",
     "output_type": "stream",
     "text": [
      "Training:  16%|█▌        | 1607/10000 [02:22<04:23, 31.86it/s]"
     ]
    },
    {
     "name": "stdout",
     "output_type": "stream",
     "text": [
      "[Ep 1600] max ΔQ(t=0) = 84.108887\n"
     ]
    },
    {
     "name": "stderr",
     "output_type": "stream",
     "text": [
      "Training:  17%|█▋        | 1651/10000 [02:25<16:46,  8.30it/s]"
     ]
    },
    {
     "name": "stdout",
     "output_type": "stream",
     "text": [
      "[Ep 1650] max ΔQ(t=0) = 149.550476\n"
     ]
    },
    {
     "name": "stderr",
     "output_type": "stream",
     "text": [
      "Training:  17%|█▋        | 1703/10000 [02:33<16:44,  8.26it/s]"
     ]
    },
    {
     "name": "stdout",
     "output_type": "stream",
     "text": [
      "[Ep 1700] max ΔQ(t=0) = 193.241211\n"
     ]
    },
    {
     "name": "stderr",
     "output_type": "stream",
     "text": [
      "Training:  18%|█▊        | 1752/10000 [02:38<13:44, 10.00it/s]"
     ]
    },
    {
     "name": "stdout",
     "output_type": "stream",
     "text": [
      "[Ep 1750] max ΔQ(t=0) = 185.224121\n"
     ]
    },
    {
     "name": "stderr",
     "output_type": "stream",
     "text": [
      "Training:  18%|█▊        | 1802/10000 [02:44<18:36,  7.34it/s]"
     ]
    },
    {
     "name": "stdout",
     "output_type": "stream",
     "text": [
      "[Ep 1800] max ΔQ(t=0) = 267.742554\n"
     ]
    },
    {
     "name": "stderr",
     "output_type": "stream",
     "text": [
      "Training:  19%|█▊        | 1852/10000 [02:50<15:09,  8.95it/s]"
     ]
    },
    {
     "name": "stdout",
     "output_type": "stream",
     "text": [
      "[Ep 1850] max ΔQ(t=0) = 143.187378\n"
     ]
    },
    {
     "name": "stderr",
     "output_type": "stream",
     "text": [
      "Training:  19%|█▉        | 1902/10000 [02:55<12:46, 10.57it/s]"
     ]
    },
    {
     "name": "stdout",
     "output_type": "stream",
     "text": [
      "[Ep 1900] max ΔQ(t=0) = 120.260132\n"
     ]
    },
    {
     "name": "stderr",
     "output_type": "stream",
     "text": [
      "Training:  20%|█▉        | 1952/10000 [03:00<13:57,  9.61it/s]"
     ]
    },
    {
     "name": "stdout",
     "output_type": "stream",
     "text": [
      "[Ep 1950] max ΔQ(t=0) = 69.363495\n"
     ]
    },
    {
     "name": "stderr",
     "output_type": "stream",
     "text": [
      "Training:  20%|██        | 2003/10000 [03:07<15:22,  8.67it/s]"
     ]
    },
    {
     "name": "stdout",
     "output_type": "stream",
     "text": [
      "[Ep 2000] max ΔQ(t=0) = 145.066986\n"
     ]
    },
    {
     "name": "stderr",
     "output_type": "stream",
     "text": [
      "Training:  21%|██        | 2052/10000 [03:12<15:11,  8.72it/s]"
     ]
    },
    {
     "name": "stdout",
     "output_type": "stream",
     "text": [
      "[Ep 2050] max ΔQ(t=0) = 138.820618\n"
     ]
    },
    {
     "name": "stderr",
     "output_type": "stream",
     "text": [
      "Training:  21%|██        | 2102/10000 [03:18<14:04,  9.35it/s]"
     ]
    },
    {
     "name": "stdout",
     "output_type": "stream",
     "text": [
      "[Ep 2100] max ΔQ(t=0) = 297.251099\n"
     ]
    },
    {
     "name": "stderr",
     "output_type": "stream",
     "text": [
      "Training:  22%|██▏       | 2153/10000 [03:23<12:26, 10.52it/s]"
     ]
    },
    {
     "name": "stdout",
     "output_type": "stream",
     "text": [
      "[Ep 2150] max ΔQ(t=0) = 153.482056\n"
     ]
    },
    {
     "name": "stderr",
     "output_type": "stream",
     "text": [
      "Training:  22%|██▏       | 2203/10000 [03:28<12:33, 10.35it/s]"
     ]
    },
    {
     "name": "stdout",
     "output_type": "stream",
     "text": [
      "[Ep 2200] max ΔQ(t=0) = 123.056274\n"
     ]
    },
    {
     "name": "stderr",
     "output_type": "stream",
     "text": [
      "Training:  23%|██▎       | 2251/10000 [03:32<12:40, 10.19it/s]"
     ]
    },
    {
     "name": "stdout",
     "output_type": "stream",
     "text": [
      "[Ep 2250] max ΔQ(t=0) = 136.029541\n"
     ]
    },
    {
     "name": "stderr",
     "output_type": "stream",
     "text": [
      "Training:  23%|██▎       | 2302/10000 [03:38<18:36,  6.90it/s]"
     ]
    },
    {
     "name": "stdout",
     "output_type": "stream",
     "text": [
      "[Ep 2300] max ΔQ(t=0) = 128.098572\n"
     ]
    },
    {
     "name": "stderr",
     "output_type": "stream",
     "text": [
      "Training:  24%|██▎       | 2356/10000 [03:44<04:45, 26.74it/s]"
     ]
    },
    {
     "name": "stdout",
     "output_type": "stream",
     "text": [
      "[Ep 2350] max ΔQ(t=0) = 51.139343\n"
     ]
    },
    {
     "name": "stderr",
     "output_type": "stream",
     "text": [
      "Training:  24%|██▍       | 2404/10000 [03:45<04:08, 30.57it/s]"
     ]
    },
    {
     "name": "stdout",
     "output_type": "stream",
     "text": [
      "[Ep 2400] max ΔQ(t=0) = 171.192200\n"
     ]
    },
    {
     "name": "stderr",
     "output_type": "stream",
     "text": [
      "Training:  25%|██▍       | 2455/10000 [03:47<04:42, 26.67it/s]"
     ]
    },
    {
     "name": "stdout",
     "output_type": "stream",
     "text": [
      "[Ep 2450] max ΔQ(t=0) = 134.510376\n"
     ]
    },
    {
     "name": "stderr",
     "output_type": "stream",
     "text": [
      "Training:  25%|██▌       | 2503/10000 [03:49<05:50, 21.39it/s]"
     ]
    },
    {
     "name": "stdout",
     "output_type": "stream",
     "text": [
      "[Ep 2500] max ΔQ(t=0) = 85.319336\n"
     ]
    },
    {
     "name": "stderr",
     "output_type": "stream",
     "text": [
      "Training:  26%|██▌       | 2555/10000 [03:51<03:47, 32.75it/s]"
     ]
    },
    {
     "name": "stdout",
     "output_type": "stream",
     "text": [
      "[Ep 2550] max ΔQ(t=0) = 94.274536\n"
     ]
    },
    {
     "name": "stderr",
     "output_type": "stream",
     "text": [
      "Training:  26%|██▌       | 2607/10000 [03:52<03:42, 33.20it/s]"
     ]
    },
    {
     "name": "stdout",
     "output_type": "stream",
     "text": [
      "[Ep 2600] max ΔQ(t=0) = 157.291016\n"
     ]
    },
    {
     "name": "stderr",
     "output_type": "stream",
     "text": [
      "Training:  27%|██▋       | 2655/10000 [03:54<04:20, 28.15it/s]"
     ]
    },
    {
     "name": "stdout",
     "output_type": "stream",
     "text": [
      "[Ep 2650] max ΔQ(t=0) = 46.970886\n"
     ]
    },
    {
     "name": "stderr",
     "output_type": "stream",
     "text": [
      "Training:  27%|██▋       | 2703/10000 [03:59<10:45, 11.30it/s]"
     ]
    },
    {
     "name": "stdout",
     "output_type": "stream",
     "text": [
      "[Ep 2700] max ΔQ(t=0) = 55.058655\n"
     ]
    },
    {
     "name": "stderr",
     "output_type": "stream",
     "text": [
      "Training:  28%|██▊       | 2753/10000 [04:03<10:33, 11.44it/s]"
     ]
    },
    {
     "name": "stdout",
     "output_type": "stream",
     "text": [
      "[Ep 2750] max ΔQ(t=0) = 112.859680\n"
     ]
    },
    {
     "name": "stderr",
     "output_type": "stream",
     "text": [
      "Training:  28%|██▊       | 2803/10000 [04:07<10:30, 11.41it/s]"
     ]
    },
    {
     "name": "stdout",
     "output_type": "stream",
     "text": [
      "[Ep 2800] max ΔQ(t=0) = 303.745178\n"
     ]
    },
    {
     "name": "stderr",
     "output_type": "stream",
     "text": [
      "Training:  29%|██▊       | 2853/10000 [04:12<10:05, 11.80it/s]"
     ]
    },
    {
     "name": "stdout",
     "output_type": "stream",
     "text": [
      "[Ep 2850] max ΔQ(t=0) = 127.509033\n"
     ]
    },
    {
     "name": "stderr",
     "output_type": "stream",
     "text": [
      "Training:  29%|██▉       | 2904/10000 [04:14<03:41, 32.08it/s]"
     ]
    },
    {
     "name": "stdout",
     "output_type": "stream",
     "text": [
      "[Ep 2900] max ΔQ(t=0) = 118.104492\n"
     ]
    },
    {
     "name": "stderr",
     "output_type": "stream",
     "text": [
      "Training:  30%|██▉       | 2955/10000 [04:16<04:05, 28.71it/s]"
     ]
    },
    {
     "name": "stdout",
     "output_type": "stream",
     "text": [
      "[Ep 2950] max ΔQ(t=0) = 226.201233\n"
     ]
    },
    {
     "name": "stderr",
     "output_type": "stream",
     "text": [
      "Training:  30%|███       | 3006/10000 [04:19<04:22, 26.63it/s]"
     ]
    },
    {
     "name": "stdout",
     "output_type": "stream",
     "text": [
      "[Ep 3000] max ΔQ(t=0) = 133.346436\n"
     ]
    },
    {
     "name": "stderr",
     "output_type": "stream",
     "text": [
      "Training:  31%|███       | 3057/10000 [04:21<03:53, 29.75it/s]"
     ]
    },
    {
     "name": "stdout",
     "output_type": "stream",
     "text": [
      "[Ep 3050] max ΔQ(t=0) = 253.221558\n"
     ]
    },
    {
     "name": "stderr",
     "output_type": "stream",
     "text": [
      "Training:  31%|███       | 3105/10000 [04:23<03:27, 33.25it/s]"
     ]
    },
    {
     "name": "stdout",
     "output_type": "stream",
     "text": [
      "[Ep 3100] max ΔQ(t=0) = 236.550537\n"
     ]
    },
    {
     "name": "stderr",
     "output_type": "stream",
     "text": [
      "Training:  32%|███▏      | 3157/10000 [04:24<03:26, 33.15it/s]"
     ]
    },
    {
     "name": "stdout",
     "output_type": "stream",
     "text": [
      "[Ep 3150] max ΔQ(t=0) = 201.351196\n"
     ]
    },
    {
     "name": "stderr",
     "output_type": "stream",
     "text": [
      "Training:  32%|███▏      | 3205/10000 [04:26<03:26, 32.88it/s]"
     ]
    },
    {
     "name": "stdout",
     "output_type": "stream",
     "text": [
      "[Ep 3200] max ΔQ(t=0) = 154.089722\n"
     ]
    },
    {
     "name": "stderr",
     "output_type": "stream",
     "text": [
      "Training:  33%|███▎      | 3253/10000 [04:30<06:30, 17.28it/s]"
     ]
    },
    {
     "name": "stdout",
     "output_type": "stream",
     "text": [
      "[Ep 3250] max ΔQ(t=0) = 93.920532\n"
     ]
    },
    {
     "name": "stderr",
     "output_type": "stream",
     "text": [
      "Training:  33%|███▎      | 3306/10000 [04:32<03:25, 32.56it/s]"
     ]
    },
    {
     "name": "stdout",
     "output_type": "stream",
     "text": [
      "[Ep 3300] max ΔQ(t=0) = 106.000977\n"
     ]
    },
    {
     "name": "stderr",
     "output_type": "stream",
     "text": [
      "Training:  34%|███▎      | 3355/10000 [04:33<04:37, 23.92it/s]"
     ]
    },
    {
     "name": "stdout",
     "output_type": "stream",
     "text": [
      "[Ep 3350] max ΔQ(t=0) = 87.014038\n"
     ]
    },
    {
     "name": "stderr",
     "output_type": "stream",
     "text": [
      "Training:  34%|███▍      | 3403/10000 [04:36<05:08, 21.41it/s]"
     ]
    },
    {
     "name": "stdout",
     "output_type": "stream",
     "text": [
      "[Ep 3400] max ΔQ(t=0) = 122.486877\n"
     ]
    },
    {
     "name": "stderr",
     "output_type": "stream",
     "text": [
      "Training:  35%|███▍      | 3452/10000 [04:38<08:03, 13.54it/s]"
     ]
    },
    {
     "name": "stdout",
     "output_type": "stream",
     "text": [
      "[Ep 3450] max ΔQ(t=0) = 166.052979\n"
     ]
    },
    {
     "name": "stderr",
     "output_type": "stream",
     "text": [
      "Training:  35%|███▌      | 3506/10000 [04:42<03:39, 29.59it/s]"
     ]
    },
    {
     "name": "stdout",
     "output_type": "stream",
     "text": [
      "[Ep 3500] max ΔQ(t=0) = 277.479187\n"
     ]
    },
    {
     "name": "stderr",
     "output_type": "stream",
     "text": [
      "Training:  36%|███▌      | 3554/10000 [04:43<03:20, 32.15it/s]"
     ]
    },
    {
     "name": "stdout",
     "output_type": "stream",
     "text": [
      "[Ep 3550] max ΔQ(t=0) = 317.364380\n"
     ]
    },
    {
     "name": "stderr",
     "output_type": "stream",
     "text": [
      "Training:  36%|███▌      | 3606/10000 [04:45<03:14, 32.87it/s]"
     ]
    },
    {
     "name": "stdout",
     "output_type": "stream",
     "text": [
      "[Ep 3600] max ΔQ(t=0) = 220.000061\n"
     ]
    },
    {
     "name": "stderr",
     "output_type": "stream",
     "text": [
      "Training:  37%|███▋      | 3651/10000 [04:47<10:45,  9.84it/s]"
     ]
    },
    {
     "name": "stdout",
     "output_type": "stream",
     "text": [
      "[Ep 3650] max ΔQ(t=0) = 136.732727\n"
     ]
    },
    {
     "name": "stderr",
     "output_type": "stream",
     "text": [
      "Training:  37%|███▋      | 3702/10000 [04:55<16:41,  6.29it/s]"
     ]
    },
    {
     "name": "stdout",
     "output_type": "stream",
     "text": [
      "[Ep 3700] max ΔQ(t=0) = 135.396240\n"
     ]
    },
    {
     "name": "stderr",
     "output_type": "stream",
     "text": [
      "Training:  38%|███▊      | 3752/10000 [05:03<16:27,  6.32it/s]"
     ]
    },
    {
     "name": "stdout",
     "output_type": "stream",
     "text": [
      "[Ep 3750] max ΔQ(t=0) = 323.950073\n"
     ]
    },
    {
     "name": "stderr",
     "output_type": "stream",
     "text": [
      "Training:  38%|███▊      | 3802/10000 [05:10<16:20,  6.32it/s]"
     ]
    },
    {
     "name": "stdout",
     "output_type": "stream",
     "text": [
      "[Ep 3800] max ΔQ(t=0) = 202.295288\n"
     ]
    },
    {
     "name": "stderr",
     "output_type": "stream",
     "text": [
      "Training:  39%|███▊      | 3852/10000 [05:18<16:18,  6.28it/s]"
     ]
    },
    {
     "name": "stdout",
     "output_type": "stream",
     "text": [
      "[Ep 3850] max ΔQ(t=0) = 222.665527\n"
     ]
    },
    {
     "name": "stderr",
     "output_type": "stream",
     "text": [
      "Training:  39%|███▉      | 3905/10000 [05:24<05:05, 19.94it/s]"
     ]
    },
    {
     "name": "stdout",
     "output_type": "stream",
     "text": [
      "[Ep 3900] max ΔQ(t=0) = 178.439514\n"
     ]
    },
    {
     "name": "stderr",
     "output_type": "stream",
     "text": [
      "Training:  40%|███▉      | 3957/10000 [05:26<03:18, 30.43it/s]"
     ]
    },
    {
     "name": "stdout",
     "output_type": "stream",
     "text": [
      "[Ep 3950] max ΔQ(t=0) = 48.161255\n"
     ]
    },
    {
     "name": "stderr",
     "output_type": "stream",
     "text": [
      "Training:  40%|████      | 4004/10000 [05:27<03:57, 25.22it/s]"
     ]
    },
    {
     "name": "stdout",
     "output_type": "stream",
     "text": [
      "[Ep 4000] max ΔQ(t=0) = 150.476074\n"
     ]
    },
    {
     "name": "stderr",
     "output_type": "stream",
     "text": [
      "Training:  41%|████      | 4053/10000 [05:33<09:18, 10.65it/s]"
     ]
    },
    {
     "name": "stdout",
     "output_type": "stream",
     "text": [
      "[Ep 4050] max ΔQ(t=0) = 218.578369\n"
     ]
    },
    {
     "name": "stderr",
     "output_type": "stream",
     "text": [
      "Training:  41%|████      | 4103/10000 [05:38<08:54, 11.03it/s]"
     ]
    },
    {
     "name": "stdout",
     "output_type": "stream",
     "text": [
      "[Ep 4100] max ΔQ(t=0) = 186.370605\n"
     ]
    },
    {
     "name": "stderr",
     "output_type": "stream",
     "text": [
      "Training:  42%|████▏     | 4153/10000 [05:42<08:45, 11.12it/s]"
     ]
    },
    {
     "name": "stdout",
     "output_type": "stream",
     "text": [
      "[Ep 4150] max ΔQ(t=0) = 275.730713\n"
     ]
    },
    {
     "name": "stderr",
     "output_type": "stream",
     "text": [
      "Training:  42%|████▏     | 4203/10000 [05:47<08:34, 11.27it/s]"
     ]
    },
    {
     "name": "stdout",
     "output_type": "stream",
     "text": [
      "[Ep 4200] max ΔQ(t=0) = 149.237854\n"
     ]
    },
    {
     "name": "stderr",
     "output_type": "stream",
     "text": [
      "Training:  43%|████▎     | 4253/10000 [05:51<08:35, 11.14it/s]"
     ]
    },
    {
     "name": "stdout",
     "output_type": "stream",
     "text": [
      "[Ep 4250] max ΔQ(t=0) = 58.094177\n"
     ]
    },
    {
     "name": "stderr",
     "output_type": "stream",
     "text": [
      "Training:  43%|████▎     | 4303/10000 [05:56<08:26, 11.25it/s]"
     ]
    },
    {
     "name": "stdout",
     "output_type": "stream",
     "text": [
      "[Ep 4300] max ΔQ(t=0) = 116.138000\n"
     ]
    },
    {
     "name": "stderr",
     "output_type": "stream",
     "text": [
      "Training:  44%|████▎     | 4353/10000 [06:00<08:10, 11.51it/s]"
     ]
    },
    {
     "name": "stdout",
     "output_type": "stream",
     "text": [
      "[Ep 4350] max ΔQ(t=0) = 49.460693\n"
     ]
    },
    {
     "name": "stderr",
     "output_type": "stream",
     "text": [
      "Training:  44%|████▍     | 4403/10000 [06:05<08:25, 11.06it/s]"
     ]
    },
    {
     "name": "stdout",
     "output_type": "stream",
     "text": [
      "[Ep 4400] max ΔQ(t=0) = 155.662537\n"
     ]
    },
    {
     "name": "stderr",
     "output_type": "stream",
     "text": [
      "Training:  45%|████▍     | 4452/10000 [06:10<10:54,  8.47it/s]"
     ]
    },
    {
     "name": "stdout",
     "output_type": "stream",
     "text": [
      "[Ep 4450] max ΔQ(t=0) = 384.030457\n"
     ]
    },
    {
     "name": "stderr",
     "output_type": "stream",
     "text": [
      "Training:  45%|████▌     | 4501/10000 [06:15<13:57,  6.57it/s]"
     ]
    },
    {
     "name": "stdout",
     "output_type": "stream",
     "text": [
      "[Ep 4500] max ΔQ(t=0) = 244.965332\n"
     ]
    },
    {
     "name": "stderr",
     "output_type": "stream",
     "text": [
      "Training:  46%|████▌     | 4552/10000 [06:20<08:38, 10.51it/s]"
     ]
    },
    {
     "name": "stdout",
     "output_type": "stream",
     "text": [
      "[Ep 4550] max ΔQ(t=0) = 88.553711\n"
     ]
    },
    {
     "name": "stderr",
     "output_type": "stream",
     "text": [
      "Training:  46%|████▌     | 4602/10000 [06:24<08:08, 11.06it/s]"
     ]
    },
    {
     "name": "stdout",
     "output_type": "stream",
     "text": [
      "[Ep 4600] max ΔQ(t=0) = 237.946472\n"
     ]
    },
    {
     "name": "stderr",
     "output_type": "stream",
     "text": [
      "Training:  47%|████▋     | 4652/10000 [06:29<08:07, 10.97it/s]"
     ]
    },
    {
     "name": "stdout",
     "output_type": "stream",
     "text": [
      "[Ep 4650] max ΔQ(t=0) = 196.540283\n"
     ]
    },
    {
     "name": "stderr",
     "output_type": "stream",
     "text": [
      "Training:  47%|████▋     | 4702/10000 [06:33<07:57, 11.11it/s]"
     ]
    },
    {
     "name": "stdout",
     "output_type": "stream",
     "text": [
      "[Ep 4700] max ΔQ(t=0) = 191.445557\n"
     ]
    },
    {
     "name": "stderr",
     "output_type": "stream",
     "text": [
      "Training:  48%|████▊     | 4752/10000 [06:38<07:47, 11.23it/s]"
     ]
    },
    {
     "name": "stdout",
     "output_type": "stream",
     "text": [
      "[Ep 4750] max ΔQ(t=0) = 169.119812\n"
     ]
    },
    {
     "name": "stderr",
     "output_type": "stream",
     "text": [
      "Training:  48%|████▊     | 4802/10000 [06:42<07:47, 11.11it/s]"
     ]
    },
    {
     "name": "stdout",
     "output_type": "stream",
     "text": [
      "[Ep 4800] max ΔQ(t=0) = 67.877014\n"
     ]
    },
    {
     "name": "stderr",
     "output_type": "stream",
     "text": [
      "Training:  49%|████▊     | 4852/10000 [06:47<08:17, 10.35it/s]"
     ]
    },
    {
     "name": "stdout",
     "output_type": "stream",
     "text": [
      "[Ep 4850] max ΔQ(t=0) = 87.932983\n"
     ]
    },
    {
     "name": "stderr",
     "output_type": "stream",
     "text": [
      "Training:  49%|████▉     | 4902/10000 [06:52<07:54, 10.75it/s]"
     ]
    },
    {
     "name": "stdout",
     "output_type": "stream",
     "text": [
      "[Ep 4900] max ΔQ(t=0) = 118.128906\n"
     ]
    },
    {
     "name": "stderr",
     "output_type": "stream",
     "text": [
      "Training:  50%|████▉     | 4952/10000 [06:56<07:36, 11.06it/s]"
     ]
    },
    {
     "name": "stdout",
     "output_type": "stream",
     "text": [
      "[Ep 4950] max ΔQ(t=0) = 95.736755\n"
     ]
    },
    {
     "name": "stderr",
     "output_type": "stream",
     "text": [
      "Training:  50%|█████     | 5002/10000 [07:01<07:23, 11.26it/s]"
     ]
    },
    {
     "name": "stdout",
     "output_type": "stream",
     "text": [
      "[Ep 5000] max ΔQ(t=0) = 108.251465\n"
     ]
    },
    {
     "name": "stderr",
     "output_type": "stream",
     "text": [
      "Training:  51%|█████     | 5052/10000 [07:05<07:25, 11.10it/s]"
     ]
    },
    {
     "name": "stdout",
     "output_type": "stream",
     "text": [
      "[Ep 5050] max ΔQ(t=0) = 164.301758\n"
     ]
    },
    {
     "name": "stderr",
     "output_type": "stream",
     "text": [
      "Training:  51%|█████     | 5107/10000 [07:09<02:57, 27.64it/s]"
     ]
    },
    {
     "name": "stdout",
     "output_type": "stream",
     "text": [
      "[Ep 5100] max ΔQ(t=0) = 89.390808\n"
     ]
    },
    {
     "name": "stderr",
     "output_type": "stream",
     "text": [
      "Training:  52%|█████▏    | 5152/10000 [07:12<07:17, 11.09it/s]"
     ]
    },
    {
     "name": "stdout",
     "output_type": "stream",
     "text": [
      "[Ep 5150] max ΔQ(t=0) = 115.405334\n"
     ]
    },
    {
     "name": "stderr",
     "output_type": "stream",
     "text": [
      "Training:  52%|█████▏    | 5202/10000 [07:16<07:10, 11.13it/s]"
     ]
    },
    {
     "name": "stdout",
     "output_type": "stream",
     "text": [
      "[Ep 5200] max ΔQ(t=0) = 187.370483\n"
     ]
    },
    {
     "name": "stderr",
     "output_type": "stream",
     "text": [
      "Training:  53%|█████▎    | 5252/10000 [07:21<07:11, 11.01it/s]"
     ]
    },
    {
     "name": "stdout",
     "output_type": "stream",
     "text": [
      "[Ep 5250] max ΔQ(t=0) = 330.186096\n"
     ]
    },
    {
     "name": "stderr",
     "output_type": "stream",
     "text": [
      "Training:  53%|█████▎    | 5302/10000 [07:26<09:11,  8.51it/s]"
     ]
    },
    {
     "name": "stdout",
     "output_type": "stream",
     "text": [
      "[Ep 5300] max ΔQ(t=0) = 152.041809\n"
     ]
    },
    {
     "name": "stderr",
     "output_type": "stream",
     "text": [
      "Training:  54%|█████▎    | 5351/10000 [07:31<07:42, 10.04it/s]"
     ]
    },
    {
     "name": "stdout",
     "output_type": "stream",
     "text": [
      "[Ep 5350] max ΔQ(t=0) = 132.597412\n"
     ]
    },
    {
     "name": "stderr",
     "output_type": "stream",
     "text": [
      "Training:  54%|█████▍    | 5405/10000 [07:35<03:52, 19.78it/s]"
     ]
    },
    {
     "name": "stdout",
     "output_type": "stream",
     "text": [
      "[Ep 5400] max ΔQ(t=0) = 111.691895\n"
     ]
    },
    {
     "name": "stderr",
     "output_type": "stream",
     "text": [
      "Training:  55%|█████▍    | 5457/10000 [07:37<02:56, 25.79it/s]"
     ]
    },
    {
     "name": "stdout",
     "output_type": "stream",
     "text": [
      "[Ep 5450] max ΔQ(t=0) = 147.581970\n"
     ]
    },
    {
     "name": "stderr",
     "output_type": "stream",
     "text": [
      "Training:  55%|█████▌    | 5505/10000 [07:39<02:41, 27.90it/s]"
     ]
    },
    {
     "name": "stdout",
     "output_type": "stream",
     "text": [
      "[Ep 5500] max ΔQ(t=0) = 392.676514\n"
     ]
    },
    {
     "name": "stderr",
     "output_type": "stream",
     "text": [
      "Training:  56%|█████▌    | 5555/10000 [07:41<02:52, 25.73it/s]"
     ]
    },
    {
     "name": "stdout",
     "output_type": "stream",
     "text": [
      "[Ep 5550] max ΔQ(t=0) = 412.664246\n"
     ]
    },
    {
     "name": "stderr",
     "output_type": "stream",
     "text": [
      "Training:  56%|█████▌    | 5603/10000 [07:46<06:22, 11.49it/s]"
     ]
    },
    {
     "name": "stdout",
     "output_type": "stream",
     "text": [
      "[Ep 5600] max ΔQ(t=0) = 133.387756\n"
     ]
    },
    {
     "name": "stderr",
     "output_type": "stream",
     "text": [
      "Training:  57%|█████▋    | 5652/10000 [07:49<06:57, 10.41it/s]"
     ]
    },
    {
     "name": "stdout",
     "output_type": "stream",
     "text": [
      "[Ep 5650] max ΔQ(t=0) = 132.959778\n"
     ]
    },
    {
     "name": "stderr",
     "output_type": "stream",
     "text": [
      "Training:  57%|█████▋    | 5703/10000 [07:55<06:51, 10.44it/s]"
     ]
    },
    {
     "name": "stdout",
     "output_type": "stream",
     "text": [
      "[Ep 5700] max ΔQ(t=0) = 136.576904\n"
     ]
    },
    {
     "name": "stderr",
     "output_type": "stream",
     "text": [
      "Training:  58%|█████▊    | 5752/10000 [07:59<06:41, 10.58it/s]"
     ]
    },
    {
     "name": "stdout",
     "output_type": "stream",
     "text": [
      "[Ep 5750] max ΔQ(t=0) = 89.033142\n"
     ]
    },
    {
     "name": "stderr",
     "output_type": "stream",
     "text": [
      "Training:  58%|█████▊    | 5803/10000 [08:05<06:32, 10.68it/s]"
     ]
    },
    {
     "name": "stdout",
     "output_type": "stream",
     "text": [
      "[Ep 5800] max ΔQ(t=0) = 110.477234\n"
     ]
    },
    {
     "name": "stderr",
     "output_type": "stream",
     "text": [
      "Training:  59%|█████▊    | 5853/10000 [08:09<06:32, 10.58it/s]"
     ]
    },
    {
     "name": "stdout",
     "output_type": "stream",
     "text": [
      "[Ep 5850] max ΔQ(t=0) = 63.717102\n"
     ]
    },
    {
     "name": "stderr",
     "output_type": "stream",
     "text": [
      "Training:  59%|█████▉    | 5902/10000 [08:14<06:26, 10.61it/s]"
     ]
    },
    {
     "name": "stdout",
     "output_type": "stream",
     "text": [
      "[Ep 5900] max ΔQ(t=0) = 246.231873\n"
     ]
    },
    {
     "name": "stderr",
     "output_type": "stream",
     "text": [
      "Training:  60%|█████▉    | 5952/10000 [08:19<06:26, 10.47it/s]"
     ]
    },
    {
     "name": "stdout",
     "output_type": "stream",
     "text": [
      "[Ep 5950] max ΔQ(t=0) = 153.299438\n"
     ]
    },
    {
     "name": "stderr",
     "output_type": "stream",
     "text": [
      "Training:  60%|██████    | 6003/10000 [08:24<06:16, 10.63it/s]"
     ]
    },
    {
     "name": "stdout",
     "output_type": "stream",
     "text": [
      "[Ep 6000] max ΔQ(t=0) = 109.137512\n"
     ]
    },
    {
     "name": "stderr",
     "output_type": "stream",
     "text": [
      "Training:  61%|██████    | 6052/10000 [08:29<06:11, 10.62it/s]"
     ]
    },
    {
     "name": "stdout",
     "output_type": "stream",
     "text": [
      "[Ep 6050] max ΔQ(t=0) = 405.109131\n"
     ]
    },
    {
     "name": "stderr",
     "output_type": "stream",
     "text": [
      "Training:  61%|██████    | 6102/10000 [08:34<06:06, 10.62it/s]"
     ]
    },
    {
     "name": "stdout",
     "output_type": "stream",
     "text": [
      "[Ep 6100] max ΔQ(t=0) = 556.946899\n"
     ]
    },
    {
     "name": "stderr",
     "output_type": "stream",
     "text": [
      "Training:  62%|██████▏   | 6153/10000 [08:39<05:41, 11.27it/s]"
     ]
    },
    {
     "name": "stdout",
     "output_type": "stream",
     "text": [
      "[Ep 6150] max ΔQ(t=0) = 92.129944\n"
     ]
    },
    {
     "name": "stderr",
     "output_type": "stream",
     "text": [
      "Training:  62%|██████▏   | 6206/10000 [08:43<02:29, 25.43it/s]"
     ]
    },
    {
     "name": "stdout",
     "output_type": "stream",
     "text": [
      "[Ep 6200] max ΔQ(t=0) = 233.161377\n"
     ]
    },
    {
     "name": "stderr",
     "output_type": "stream",
     "text": [
      "Training:  63%|██████▎   | 6254/10000 [08:45<02:00, 31.09it/s]"
     ]
    },
    {
     "name": "stdout",
     "output_type": "stream",
     "text": [
      "[Ep 6250] max ΔQ(t=0) = 73.444336\n"
     ]
    },
    {
     "name": "stderr",
     "output_type": "stream",
     "text": [
      "Training:  63%|██████▎   | 6302/10000 [08:49<06:02, 10.20it/s]"
     ]
    },
    {
     "name": "stdout",
     "output_type": "stream",
     "text": [
      "[Ep 6300] max ΔQ(t=0) = 138.846680\n"
     ]
    },
    {
     "name": "stderr",
     "output_type": "stream",
     "text": [
      "Training:  64%|██████▎   | 6352/10000 [08:55<06:29,  9.36it/s]"
     ]
    },
    {
     "name": "stdout",
     "output_type": "stream",
     "text": [
      "[Ep 6350] max ΔQ(t=0) = 100.331726\n"
     ]
    },
    {
     "name": "stderr",
     "output_type": "stream",
     "text": [
      "Training:  64%|██████▍   | 6402/10000 [09:01<06:55,  8.65it/s]"
     ]
    },
    {
     "name": "stdout",
     "output_type": "stream",
     "text": [
      "[Ep 6400] max ΔQ(t=0) = 332.358215\n"
     ]
    },
    {
     "name": "stderr",
     "output_type": "stream",
     "text": [
      "Training:  65%|██████▍   | 6454/10000 [09:07<04:09, 14.21it/s]"
     ]
    },
    {
     "name": "stdout",
     "output_type": "stream",
     "text": [
      "[Ep 6450] max ΔQ(t=0) = 113.841797\n"
     ]
    },
    {
     "name": "stderr",
     "output_type": "stream",
     "text": [
      "Training:  65%|██████▌   | 6504/10000 [09:09<01:50, 31.53it/s]"
     ]
    },
    {
     "name": "stdout",
     "output_type": "stream",
     "text": [
      "[Ep 6500] max ΔQ(t=0) = 301.518433\n"
     ]
    },
    {
     "name": "stderr",
     "output_type": "stream",
     "text": [
      "Training:  66%|██████▌   | 6556/10000 [09:10<01:49, 31.59it/s]"
     ]
    },
    {
     "name": "stdout",
     "output_type": "stream",
     "text": [
      "[Ep 6550] max ΔQ(t=0) = 163.540222\n"
     ]
    },
    {
     "name": "stderr",
     "output_type": "stream",
     "text": [
      "Training:  66%|██████▌   | 6604/10000 [09:12<02:15, 25.01it/s]"
     ]
    },
    {
     "name": "stdout",
     "output_type": "stream",
     "text": [
      "[Ep 6600] max ΔQ(t=0) = 121.095825\n"
     ]
    },
    {
     "name": "stderr",
     "output_type": "stream",
     "text": [
      "Training:  67%|██████▋   | 6652/10000 [09:16<05:13, 10.66it/s]"
     ]
    },
    {
     "name": "stdout",
     "output_type": "stream",
     "text": [
      "[Ep 6650] max ΔQ(t=0) = 184.946899\n"
     ]
    },
    {
     "name": "stderr",
     "output_type": "stream",
     "text": [
      "Training:  67%|██████▋   | 6702/10000 [09:21<05:00, 10.97it/s]"
     ]
    },
    {
     "name": "stdout",
     "output_type": "stream",
     "text": [
      "[Ep 6700] max ΔQ(t=0) = 220.698303\n"
     ]
    },
    {
     "name": "stderr",
     "output_type": "stream",
     "text": [
      "Training:  68%|██████▊   | 6752/10000 [09:25<04:52, 11.09it/s]"
     ]
    },
    {
     "name": "stdout",
     "output_type": "stream",
     "text": [
      "[Ep 6750] max ΔQ(t=0) = 150.638367\n"
     ]
    },
    {
     "name": "stderr",
     "output_type": "stream",
     "text": [
      "Training:  68%|██████▊   | 6801/10000 [09:28<03:07, 17.06it/s]"
     ]
    },
    {
     "name": "stdout",
     "output_type": "stream",
     "text": [
      "[Ep 6800] max ΔQ(t=0) = 183.087830\n"
     ]
    },
    {
     "name": "stderr",
     "output_type": "stream",
     "text": [
      "Training:  69%|██████▊   | 6852/10000 [09:33<05:04, 10.33it/s]"
     ]
    },
    {
     "name": "stdout",
     "output_type": "stream",
     "text": [
      "[Ep 6850] max ΔQ(t=0) = 197.239380\n"
     ]
    },
    {
     "name": "stderr",
     "output_type": "stream",
     "text": [
      "Training:  69%|██████▉   | 6902/10000 [09:38<04:44, 10.89it/s]"
     ]
    },
    {
     "name": "stdout",
     "output_type": "stream",
     "text": [
      "[Ep 6900] max ΔQ(t=0) = 272.802124\n"
     ]
    },
    {
     "name": "stderr",
     "output_type": "stream",
     "text": [
      "Training:  70%|██████▉   | 6952/10000 [09:42<04:41, 10.81it/s]"
     ]
    },
    {
     "name": "stdout",
     "output_type": "stream",
     "text": [
      "[Ep 6950] max ΔQ(t=0) = 50.132141\n"
     ]
    },
    {
     "name": "stderr",
     "output_type": "stream",
     "text": [
      "Training:  70%|███████   | 7002/10000 [09:47<04:36, 10.84it/s]"
     ]
    },
    {
     "name": "stdout",
     "output_type": "stream",
     "text": [
      "[Ep 7000] max ΔQ(t=0) = 114.569275\n"
     ]
    },
    {
     "name": "stderr",
     "output_type": "stream",
     "text": [
      "Training:  71%|███████   | 7052/10000 [09:51<04:30, 10.89it/s]"
     ]
    },
    {
     "name": "stdout",
     "output_type": "stream",
     "text": [
      "[Ep 7050] max ΔQ(t=0) = 50.201355\n"
     ]
    },
    {
     "name": "stderr",
     "output_type": "stream",
     "text": [
      "Training:  71%|███████   | 7102/10000 [09:57<07:25,  6.51it/s]"
     ]
    },
    {
     "name": "stdout",
     "output_type": "stream",
     "text": [
      "[Ep 7100] max ΔQ(t=0) = 62.358887\n"
     ]
    },
    {
     "name": "stderr",
     "output_type": "stream",
     "text": [
      "Training:  72%|███████▏  | 7152/10000 [10:03<07:28,  6.35it/s]"
     ]
    },
    {
     "name": "stdout",
     "output_type": "stream",
     "text": [
      "[Ep 7150] max ΔQ(t=0) = 152.122192\n"
     ]
    },
    {
     "name": "stderr",
     "output_type": "stream",
     "text": [
      "Training:  72%|███████▏  | 7202/10000 [10:10<05:27,  8.54it/s]"
     ]
    },
    {
     "name": "stdout",
     "output_type": "stream",
     "text": [
      "[Ep 7200] max ΔQ(t=0) = 147.856934\n"
     ]
    },
    {
     "name": "stderr",
     "output_type": "stream",
     "text": [
      "Training:  73%|███████▎  | 7252/10000 [10:16<05:19,  8.60it/s]"
     ]
    },
    {
     "name": "stdout",
     "output_type": "stream",
     "text": [
      "[Ep 7250] max ΔQ(t=0) = 217.646851\n"
     ]
    },
    {
     "name": "stderr",
     "output_type": "stream",
     "text": [
      "Training:  73%|███████▎  | 7303/10000 [10:21<04:14, 10.61it/s]"
     ]
    },
    {
     "name": "stdout",
     "output_type": "stream",
     "text": [
      "[Ep 7300] max ΔQ(t=0) = 96.866394\n"
     ]
    },
    {
     "name": "stderr",
     "output_type": "stream",
     "text": [
      "Training:  74%|███████▎  | 7353/10000 [10:26<04:05, 10.80it/s]"
     ]
    },
    {
     "name": "stdout",
     "output_type": "stream",
     "text": [
      "[Ep 7350] max ΔQ(t=0) = 44.180023\n"
     ]
    },
    {
     "name": "stderr",
     "output_type": "stream",
     "text": [
      "Training:  74%|███████▍  | 7403/10000 [10:30<04:04, 10.62it/s]"
     ]
    },
    {
     "name": "stdout",
     "output_type": "stream",
     "text": [
      "[Ep 7400] max ΔQ(t=0) = 99.267517\n"
     ]
    },
    {
     "name": "stderr",
     "output_type": "stream",
     "text": [
      "Training:  75%|███████▍  | 7453/10000 [10:35<03:17, 12.90it/s]"
     ]
    },
    {
     "name": "stdout",
     "output_type": "stream",
     "text": [
      "[Ep 7450] max ΔQ(t=0) = 181.401367\n"
     ]
    },
    {
     "name": "stderr",
     "output_type": "stream",
     "text": [
      "Training:  75%|███████▌  | 7507/10000 [10:37<01:25, 29.30it/s]"
     ]
    },
    {
     "name": "stdout",
     "output_type": "stream",
     "text": [
      "[Ep 7500] max ΔQ(t=0) = 105.305969\n"
     ]
    },
    {
     "name": "stderr",
     "output_type": "stream",
     "text": [
      "Training:  76%|███████▌  | 7555/10000 [10:38<01:20, 30.50it/s]"
     ]
    },
    {
     "name": "stdout",
     "output_type": "stream",
     "text": [
      "[Ep 7550] max ΔQ(t=0) = 168.123901\n"
     ]
    },
    {
     "name": "stderr",
     "output_type": "stream",
     "text": [
      "Training:  76%|███████▌  | 7602/10000 [10:42<05:23,  7.42it/s]"
     ]
    },
    {
     "name": "stdout",
     "output_type": "stream",
     "text": [
      "[Ep 7600] max ΔQ(t=0) = 151.944397\n"
     ]
    },
    {
     "name": "stderr",
     "output_type": "stream",
     "text": [
      "Training:  77%|███████▋  | 7652/10000 [10:47<03:41, 10.58it/s]"
     ]
    },
    {
     "name": "stdout",
     "output_type": "stream",
     "text": [
      "[Ep 7650] max ΔQ(t=0) = 192.053162\n"
     ]
    },
    {
     "name": "stderr",
     "output_type": "stream",
     "text": [
      "Training:  77%|███████▋  | 7702/10000 [10:52<03:37, 10.55it/s]"
     ]
    },
    {
     "name": "stdout",
     "output_type": "stream",
     "text": [
      "[Ep 7700] max ΔQ(t=0) = 120.313721\n"
     ]
    },
    {
     "name": "stderr",
     "output_type": "stream",
     "text": [
      "Training:  78%|███████▊  | 7753/10000 [10:56<02:39, 14.05it/s]"
     ]
    },
    {
     "name": "stdout",
     "output_type": "stream",
     "text": [
      "[Ep 7750] max ΔQ(t=0) = 181.381653\n"
     ]
    },
    {
     "name": "stderr",
     "output_type": "stream",
     "text": [
      "Training:  78%|███████▊  | 7802/10000 [11:01<03:25, 10.68it/s]"
     ]
    },
    {
     "name": "stdout",
     "output_type": "stream",
     "text": [
      "[Ep 7800] max ΔQ(t=0) = 113.129456\n"
     ]
    },
    {
     "name": "stderr",
     "output_type": "stream",
     "text": [
      "Training:  79%|███████▊  | 7853/10000 [11:03<01:16, 28.09it/s]"
     ]
    },
    {
     "name": "stdout",
     "output_type": "stream",
     "text": [
      "[Ep 7850] max ΔQ(t=0) = 85.148560\n"
     ]
    },
    {
     "name": "stderr",
     "output_type": "stream",
     "text": [
      "Training:  79%|███████▉  | 7905/10000 [11:05<01:06, 31.68it/s]"
     ]
    },
    {
     "name": "stdout",
     "output_type": "stream",
     "text": [
      "[Ep 7900] max ΔQ(t=0) = 116.961975\n"
     ]
    },
    {
     "name": "stderr",
     "output_type": "stream",
     "text": [
      "Training:  80%|███████▉  | 7953/10000 [11:07<01:42, 20.07it/s]"
     ]
    },
    {
     "name": "stdout",
     "output_type": "stream",
     "text": [
      "[Ep 7950] max ΔQ(t=0) = 63.447571\n"
     ]
    },
    {
     "name": "stderr",
     "output_type": "stream",
     "text": [
      "Training:  80%|████████  | 8006/10000 [11:11<01:29, 22.24it/s]"
     ]
    },
    {
     "name": "stdout",
     "output_type": "stream",
     "text": [
      "[Ep 8000] max ΔQ(t=0) = 98.042114\n"
     ]
    },
    {
     "name": "stderr",
     "output_type": "stream",
     "text": [
      "Training:  81%|████████  | 8054/10000 [11:12<01:17, 25.24it/s]"
     ]
    },
    {
     "name": "stdout",
     "output_type": "stream",
     "text": [
      "[Ep 8050] max ΔQ(t=0) = 211.454773\n"
     ]
    },
    {
     "name": "stderr",
     "output_type": "stream",
     "text": [
      "Training:  81%|████████  | 8103/10000 [11:16<01:53, 16.69it/s]"
     ]
    },
    {
     "name": "stdout",
     "output_type": "stream",
     "text": [
      "[Ep 8100] max ΔQ(t=0) = 54.948547\n"
     ]
    },
    {
     "name": "stderr",
     "output_type": "stream",
     "text": [
      "Training:  82%|████████▏ | 8153/10000 [11:20<03:00, 10.26it/s]"
     ]
    },
    {
     "name": "stdout",
     "output_type": "stream",
     "text": [
      "[Ep 8150] max ΔQ(t=0) = 104.090454\n"
     ]
    },
    {
     "name": "stderr",
     "output_type": "stream",
     "text": [
      "Training:  82%|████████▏ | 8203/10000 [11:25<02:45, 10.84it/s]"
     ]
    },
    {
     "name": "stdout",
     "output_type": "stream",
     "text": [
      "[Ep 8200] max ΔQ(t=0) = 140.164307\n"
     ]
    },
    {
     "name": "stderr",
     "output_type": "stream",
     "text": [
      "Training:  83%|████████▎ | 8253/10000 [11:29<02:39, 10.92it/s]"
     ]
    },
    {
     "name": "stdout",
     "output_type": "stream",
     "text": [
      "[Ep 8250] max ΔQ(t=0) = 162.836548\n"
     ]
    },
    {
     "name": "stderr",
     "output_type": "stream",
     "text": [
      "Training:  83%|████████▎ | 8301/10000 [11:32<01:21, 20.90it/s]"
     ]
    },
    {
     "name": "stdout",
     "output_type": "stream",
     "text": [
      "[Ep 8300] max ΔQ(t=0) = 215.776733\n"
     ]
    },
    {
     "name": "stderr",
     "output_type": "stream",
     "text": [
      "Training:  84%|████████▎ | 8352/10000 [11:37<02:36, 10.54it/s]"
     ]
    },
    {
     "name": "stdout",
     "output_type": "stream",
     "text": [
      "[Ep 8350] max ΔQ(t=0) = 176.652100\n"
     ]
    },
    {
     "name": "stderr",
     "output_type": "stream",
     "text": [
      "Training:  84%|████████▍ | 8402/10000 [11:41<02:39, 10.01it/s]"
     ]
    },
    {
     "name": "stdout",
     "output_type": "stream",
     "text": [
      "[Ep 8400] max ΔQ(t=0) = 97.018982\n"
     ]
    },
    {
     "name": "stderr",
     "output_type": "stream",
     "text": [
      "Training:  85%|████████▍ | 8455/10000 [11:46<01:13, 21.03it/s]"
     ]
    },
    {
     "name": "stdout",
     "output_type": "stream",
     "text": [
      "[Ep 8450] max ΔQ(t=0) = 154.302002\n"
     ]
    },
    {
     "name": "stderr",
     "output_type": "stream",
     "text": [
      "Training:  85%|████████▌ | 8503/10000 [11:50<02:20, 10.67it/s]"
     ]
    },
    {
     "name": "stdout",
     "output_type": "stream",
     "text": [
      "[Ep 8500] max ΔQ(t=0) = 260.376953\n"
     ]
    },
    {
     "name": "stderr",
     "output_type": "stream",
     "text": [
      "Training:  86%|████████▌ | 8553/10000 [11:55<02:15, 10.64it/s]"
     ]
    },
    {
     "name": "stdout",
     "output_type": "stream",
     "text": [
      "[Ep 8550] max ΔQ(t=0) = 151.230774\n"
     ]
    },
    {
     "name": "stderr",
     "output_type": "stream",
     "text": [
      "Training:  86%|████████▌ | 8603/10000 [11:59<01:51, 12.53it/s]"
     ]
    },
    {
     "name": "stdout",
     "output_type": "stream",
     "text": [
      "[Ep 8600] max ΔQ(t=0) = 97.613647\n"
     ]
    },
    {
     "name": "stderr",
     "output_type": "stream",
     "text": [
      "Training:  87%|████████▋ | 8657/10000 [12:01<00:47, 28.13it/s]"
     ]
    },
    {
     "name": "stdout",
     "output_type": "stream",
     "text": [
      "[Ep 8650] max ΔQ(t=0) = 112.677368\n"
     ]
    },
    {
     "name": "stderr",
     "output_type": "stream",
     "text": [
      "Training:  87%|████████▋ | 8707/10000 [12:03<00:42, 30.26it/s]"
     ]
    },
    {
     "name": "stdout",
     "output_type": "stream",
     "text": [
      "[Ep 8700] max ΔQ(t=0) = 217.751587\n"
     ]
    },
    {
     "name": "stderr",
     "output_type": "stream",
     "text": [
      "Training:  88%|████████▊ | 8755/10000 [12:05<00:41, 29.88it/s]"
     ]
    },
    {
     "name": "stdout",
     "output_type": "stream",
     "text": [
      "[Ep 8750] max ΔQ(t=0) = 113.108276\n"
     ]
    },
    {
     "name": "stderr",
     "output_type": "stream",
     "text": [
      "Training:  88%|████████▊ | 8802/10000 [12:08<02:35,  7.71it/s]"
     ]
    },
    {
     "name": "stdout",
     "output_type": "stream",
     "text": [
      "[Ep 8800] max ΔQ(t=0) = 121.898254\n"
     ]
    },
    {
     "name": "stderr",
     "output_type": "stream",
     "text": [
      "Training:  89%|████████▊ | 8857/10000 [12:14<00:53, 21.48it/s]"
     ]
    },
    {
     "name": "stdout",
     "output_type": "stream",
     "text": [
      "[Ep 8850] max ΔQ(t=0) = 143.608398\n"
     ]
    },
    {
     "name": "stderr",
     "output_type": "stream",
     "text": [
      "Training:  89%|████████▉ | 8904/10000 [12:16<00:35, 30.70it/s]"
     ]
    },
    {
     "name": "stdout",
     "output_type": "stream",
     "text": [
      "[Ep 8900] max ΔQ(t=0) = 100.312500\n"
     ]
    },
    {
     "name": "stderr",
     "output_type": "stream",
     "text": [
      "Training:  90%|████████▉ | 8956/10000 [12:17<00:32, 31.97it/s]"
     ]
    },
    {
     "name": "stdout",
     "output_type": "stream",
     "text": [
      "[Ep 8950] max ΔQ(t=0) = 92.961304\n"
     ]
    },
    {
     "name": "stderr",
     "output_type": "stream",
     "text": [
      "Training:  90%|█████████ | 9002/10000 [12:21<02:41,  6.18it/s]"
     ]
    },
    {
     "name": "stdout",
     "output_type": "stream",
     "text": [
      "[Ep 9000] max ΔQ(t=0) = 80.197754\n"
     ]
    },
    {
     "name": "stderr",
     "output_type": "stream",
     "text": [
      "Training:  91%|█████████ | 9053/10000 [12:26<01:31, 10.36it/s]"
     ]
    },
    {
     "name": "stdout",
     "output_type": "stream",
     "text": [
      "[Ep 9050] max ΔQ(t=0) = 105.970398\n"
     ]
    },
    {
     "name": "stderr",
     "output_type": "stream",
     "text": [
      "Training:  91%|█████████ | 9103/10000 [12:31<01:22, 10.84it/s]"
     ]
    },
    {
     "name": "stdout",
     "output_type": "stream",
     "text": [
      "[Ep 9100] max ΔQ(t=0) = 71.631958\n"
     ]
    },
    {
     "name": "stderr",
     "output_type": "stream",
     "text": [
      "Training:  92%|█████████▏| 9153/10000 [12:36<01:19, 10.59it/s]"
     ]
    },
    {
     "name": "stdout",
     "output_type": "stream",
     "text": [
      "[Ep 9150] max ΔQ(t=0) = 144.931091\n"
     ]
    },
    {
     "name": "stderr",
     "output_type": "stream",
     "text": [
      "Training:  92%|█████████▏| 9203/10000 [12:40<01:13, 10.78it/s]"
     ]
    },
    {
     "name": "stdout",
     "output_type": "stream",
     "text": [
      "[Ep 9200] max ΔQ(t=0) = 72.744507\n"
     ]
    },
    {
     "name": "stderr",
     "output_type": "stream",
     "text": [
      "Training:  93%|█████████▎| 9253/10000 [12:45<01:08, 10.93it/s]"
     ]
    },
    {
     "name": "stdout",
     "output_type": "stream",
     "text": [
      "[Ep 9250] max ΔQ(t=0) = 134.682312\n"
     ]
    },
    {
     "name": "stderr",
     "output_type": "stream",
     "text": [
      "Training:  93%|█████████▎| 9303/10000 [12:50<01:05, 10.57it/s]"
     ]
    },
    {
     "name": "stdout",
     "output_type": "stream",
     "text": [
      "[Ep 9300] max ΔQ(t=0) = 153.067688\n"
     ]
    },
    {
     "name": "stderr",
     "output_type": "stream",
     "text": [
      "Training:  94%|█████████▎| 9353/10000 [12:54<00:57, 11.35it/s]"
     ]
    },
    {
     "name": "stdout",
     "output_type": "stream",
     "text": [
      "[Ep 9350] max ΔQ(t=0) = 165.928162\n"
     ]
    },
    {
     "name": "stderr",
     "output_type": "stream",
     "text": [
      "Training:  94%|█████████▍| 9406/10000 [12:58<00:24, 24.66it/s]"
     ]
    },
    {
     "name": "stdout",
     "output_type": "stream",
     "text": [
      "[Ep 9400] max ΔQ(t=0) = 113.878601\n"
     ]
    },
    {
     "name": "stderr",
     "output_type": "stream",
     "text": [
      "Training:  95%|█████████▍| 9455/10000 [13:01<00:18, 28.77it/s]"
     ]
    },
    {
     "name": "stdout",
     "output_type": "stream",
     "text": [
      "[Ep 9450] max ΔQ(t=0) = 91.028687\n"
     ]
    },
    {
     "name": "stderr",
     "output_type": "stream",
     "text": [
      "Training:  95%|█████████▌| 9504/10000 [13:02<00:17, 28.23it/s]"
     ]
    },
    {
     "name": "stdout",
     "output_type": "stream",
     "text": [
      "[Ep 9500] max ΔQ(t=0) = 135.294250\n"
     ]
    },
    {
     "name": "stderr",
     "output_type": "stream",
     "text": [
      "Training:  96%|█████████▌| 9554/10000 [13:05<00:27, 16.12it/s]"
     ]
    },
    {
     "name": "stdout",
     "output_type": "stream",
     "text": [
      "[Ep 9550] max ΔQ(t=0) = 284.007446\n"
     ]
    },
    {
     "name": "stderr",
     "output_type": "stream",
     "text": [
      "Training:  96%|█████████▌| 9606/10000 [13:06<00:12, 31.26it/s]"
     ]
    },
    {
     "name": "stdout",
     "output_type": "stream",
     "text": [
      "[Ep 9600] max ΔQ(t=0) = 235.325256\n"
     ]
    },
    {
     "name": "stderr",
     "output_type": "stream",
     "text": [
      "Training:  97%|█████████▋| 9656/10000 [13:10<00:14, 23.66it/s]"
     ]
    },
    {
     "name": "stdout",
     "output_type": "stream",
     "text": [
      "[Ep 9650] max ΔQ(t=0) = 298.107056\n"
     ]
    },
    {
     "name": "stderr",
     "output_type": "stream",
     "text": [
      "Training:  97%|█████████▋| 9704/10000 [13:12<00:12, 24.59it/s]"
     ]
    },
    {
     "name": "stdout",
     "output_type": "stream",
     "text": [
      "[Ep 9700] max ΔQ(t=0) = 314.370850\n"
     ]
    },
    {
     "name": "stderr",
     "output_type": "stream",
     "text": [
      "Training:  98%|█████████▊| 9756/10000 [13:14<00:08, 30.23it/s]"
     ]
    },
    {
     "name": "stdout",
     "output_type": "stream",
     "text": [
      "[Ep 9750] max ΔQ(t=0) = 113.836426\n"
     ]
    },
    {
     "name": "stderr",
     "output_type": "stream",
     "text": [
      "Training:  98%|█████████▊| 9802/10000 [13:18<00:18, 10.78it/s]"
     ]
    },
    {
     "name": "stdout",
     "output_type": "stream",
     "text": [
      "[Ep 9800] max ΔQ(t=0) = 214.064087\n"
     ]
    },
    {
     "name": "stderr",
     "output_type": "stream",
     "text": [
      "Training:  99%|█████████▊| 9855/10000 [13:21<00:04, 29.10it/s]"
     ]
    },
    {
     "name": "stdout",
     "output_type": "stream",
     "text": [
      "[Ep 9850] max ΔQ(t=0) = 202.825073\n"
     ]
    },
    {
     "name": "stderr",
     "output_type": "stream",
     "text": [
      "Training:  99%|█████████▉| 9906/10000 [13:22<00:02, 31.56it/s]"
     ]
    },
    {
     "name": "stdout",
     "output_type": "stream",
     "text": [
      "[Ep 9900] max ΔQ(t=0) = 198.285217\n"
     ]
    },
    {
     "name": "stderr",
     "output_type": "stream",
     "text": [
      "Training: 100%|█████████▉| 9954/10000 [13:24<00:01, 32.00it/s]"
     ]
    },
    {
     "name": "stdout",
     "output_type": "stream",
     "text": [
      "[Ep 9950] max ΔQ(t=0) = 107.952881\n"
     ]
    },
    {
     "name": "stderr",
     "output_type": "stream",
     "text": [
      "Training: 100%|██████████| 10000/10000 [13:26<00:00, 12.40it/s]"
     ]
    },
    {
     "name": "stdout",
     "output_type": "stream",
     "text": [
      "✅ Training complete\n"
     ]
    },
    {
     "name": "stderr",
     "output_type": "stream",
     "text": [
      "\n"
     ]
    },
    {
     "data": {
      "image/png": "[encoded data removed]",
      "text/plain": [
       "<Figure size 600x400 with 1 Axes>"
      ]
     },
     "metadata": {},
     "output_type": "display_data"
    },
    {
     "name": "stdout",
     "output_type": "stream",
     "text": [
      "\n",
      "Period | σ_t\n",
      "---------------\n",
      "     0 |   17\n",
      "     1 |   24\n",
      "     2 |   31\n",
      "     3 |   33\n",
      "     4 |   34\n",
      "     5 |   33\n",
      "     6 |   32\n",
      "     7 |   28\n",
      "     8 |   23\n",
      "     9 |   18\n",
      "    10 |   14\n",
      "    11 |   14\n",
      "    12 |   14\n",
      "    13 |   14\n",
      "    14 |   13\n",
      "    15 |   13\n",
      "    16 |   13\n",
      "    17 |   13\n",
      "    18 |   13\n",
      "    19 |   13\n",
      " ...\n",
      "\n",
      "Time | Inv | σ_t | Demand | Action\n",
      "------------------------------------\n",
      "   0 |    0 |   17 |      4 |      9\n",
      "   1 |    5 |   24 |      4 |      1\n",
      "   2 |    2 |   31 |      9 |      4\n",
      "   3 |   -3 |   33 |      7 |      9\n",
      "   4 |   -1 |   34 |      0 |      4\n",
      "   5 |    3 |   33 |      7 |      4\n",
      "   6 |    0 |   32 |     10 |      4\n",
      "   7 |   -6 |   28 |      0 |      9\n",
      "   8 |    3 |   23 |      7 |      4\n",
      "   9 |    0 |   18 |      8 |      4\n",
      "  10 |   -4 |   14 |      1 |      7\n",
      "  11 |    2 |   14 |      1 |      4\n",
      "  12 |    5 |   14 |      3 |      2\n",
      "  13 |    4 |   14 |      1 |      2\n",
      "  14 |    5 |   13 |      0 |      2\n",
      "  15 |    7 |   13 |      8 |      1\n",
      "  16 |    0 |   13 |     10 |      4\n",
      "  17 |   -6 |   13 |      7 |      7\n",
      "  18 |   -6 |   13 |      9 |      7\n",
      "  19 |   -8 |   13 |      6 |      9\n",
      "  20 |   -5 |   13 |      6 |      7\n",
      "  21 |   -4 |   13 |      1 |      7\n",
      "  22 |    2 |   13 |     10 |      2\n",
      "  23 |   -6 |   12 |     10 |      7\n",
      "  24 |   -9 |   12 |      7 |      9\n",
      "  25 |   -7 |   12 |      8 |      9\n",
      "  26 |   -6 |   12 |      7 |      7\n",
      "  27 |   -6 |   12 |     10 |      7\n",
      "  28 |   -9 |   12 |      3 |      9\n",
      "  29 |   -3 |   11 |      6 |      7\n",
      "  30 |   -2 |   11 |      0 |      4\n",
      "  31 |    2 |   11 |      7 |      1\n",
      "  32 |   -4 |   11 |      0 |      7\n",
      "  33 |    3 |   11 |      7 |      1\n",
      "  34 |   -3 |   10 |      7 |      4\n",
      "  35 |   -6 |   10 |      7 |      9\n",
      "  36 |   -4 |   10 |      0 |      7\n",
      "  37 |    3 |   10 |      0 |      1\n",
      "  38 |    4 |   10 |      3 |      1\n",
      "  39 |    2 |   10 |      0 |      1\n",
      "  40 |    3 |   11 |      6 |      1\n",
      "  41 |   -2 |   11 |      6 |      1\n",
      "  42 |   -7 |   12 |      7 |      7\n",
      "  43 |   -7 |   12 |      1 |      7\n",
      "  44 |   -1 |   13 |      3 |      1\n",
      "  45 |   -3 |   13 |      0 |      1\n",
      "  46 |   -2 |   14 |      4 |      1\n",
      "  47 |   -5 |   14 |      4 |      4\n",
      "  48 |   -5 |   15 |      0 |      4\n",
      "  49 |   -1 |   15 |      1 |      1\n",
      "GIF saved as vf_evolution_no_buffer.gif\n"
     ]
    },
    {
     "name": "stderr",
     "output_type": "stream",
     "text": [
      "/tmp/ipykernel_8151/3044253966.py:234: DeprecationWarning: Starting with ImageIO v3 the behavior of this function will switch to that of iio.v3.imread. To keep the current behavior (and make this warning disappear) use `import imageio.v2 as imageio` or call `imageio.v2.imread` directly.\n",
      "  writer.append_data(imageio.imread(f\"frames/{t:03d}.png\"))\n"
     ]
    }
   ],
   "source": [
    "import os, random, imageio, shutil\n",
    "import numpy as np\n",
    "import torch\n",
    "import torch.nn as nn\n",
    "import torch.optim as optim\n",
    "import matplotlib.pyplot as plt\n",
    "from tqdm import trange\n",
    "\n",
    "# -----------------------\n",
    "# 1) ENVIRONMENT\n",
    "# -----------------------\n",
    "class InventoryEnv:\n",
    "    def __init__(self, min_inv=-50, max_inv=50, T=50):\n",
    "        self.min_inv = min_inv\n",
    "        self.max_inv = max_inv\n",
    "        self.T       = T\n",
    "        self.reset()\n",
    "\n",
    "    def reset(self):\n",
    "        self.s = random.randint(self.min_inv, self.max_inv)\n",
    "        self.t = 0\n",
    "        return np.array([self.s, self.t], dtype=np.float32)\n",
    "\n",
    "    def step(self, a):\n",
    "        w = random.randint(0, 10)\n",
    "        s2 = self.s + a - w\n",
    "        s2 = max(self.min_inv, min(self.max_inv, s2))\n",
    "\n",
    "        # cost structure\n",
    "        p, a_cost, b_cost = 1, 1, 2\n",
    "        order_cost = p * a\n",
    "        inv_cost   = a_cost * s2 if s2 >= 0 else b_cost * (-s2)\n",
    "        cost       = order_cost + inv_cost\n",
    "\n",
    "        self.t += 1\n",
    "        done = (self.t >= self.T)\n",
    "        self.s = s2\n",
    "        obs2 = np.array([self.s, self.t if not done else 0], dtype=np.float32)\n",
    "        return obs2, cost, done  # cost=r\n",
    "\n",
    "# -----------------------\n",
    "# 2) Q-NETWORK\n",
    "# -----------------------\n",
    "class DQN(nn.Module):\n",
    "    def __init__(self, state_dim, num_actions):\n",
    "        super().__init__()\n",
    "        self.net = nn.Sequential(\n",
    "            nn.Linear(state_dim, 128), nn.ReLU(),\n",
    "            nn.Linear(128, 128),       nn.ReLU(),\n",
    "            nn.Linear(128, num_actions)\n",
    "        )\n",
    "    def forward(self, x):\n",
    "        return self.net(x)\n",
    "\n",
    "# -----------------------\n",
    "# 3) HYPERPARAMETERS\n",
    "# -----------------------\n",
    "num_actions      = 10\n",
    "state_dim        = 2\n",
    "T                = 50\n",
    "min_inv, max_inv = -50, 50\n",
    "gamma            = 1.0\n",
    "eps_start        = 0.9\n",
    "eps_end          = 0.05\n",
    "eps_decay        = 5000\n",
    "lr               = 1e-3\n",
    "target_update    = 10    # steps between target_net sync\n",
    "episodes         = 10000\n",
    "\n",
    "# -----------------------\n",
    "# 4) SETUP\n",
    "# -----------------------\n",
    "device      = torch.device(\"cuda\" if torch.cuda.is_available() else \"cpu\")\n",
    "print(device)\n",
    "env         = InventoryEnv(min_inv, max_inv, T)\n",
    "policy_net  = DQN(state_dim, num_actions).to(device)\n",
    "target_net  = DQN(state_dim, num_actions).to(device)\n",
    "target_net.load_state_dict(policy_net.state_dict())\n",
    "opt         = optim.Adam(policy_net.parameters(), lr=lr)\n",
    "mse_loss    = nn.MSELoss()\n",
    "\n",
    "step_count      = 0\n",
    "eps             = eps_start\n",
    "\n",
    "# for Q-value convergence\n",
    "q_convergence            = []\n",
    "prev_q_snapshot          = None\n",
    "check_convergence_every  = 50\n",
    "\n",
    "# -----------------------\n",
    "# 5) TRAIN (online)\n",
    "# -----------------------\n",
    "for ep in trange(episodes, desc=\"Training\"):\n",
    "    obs, done = env.reset(), False\n",
    "    while not done:\n",
    "        # ε-greedy: pick action that minimizes Q\n",
    "        if random.random() < eps:\n",
    "            a = random.randrange(num_actions)\n",
    "        else:\n",
    "            st = torch.tensor(obs, dtype=torch.float32, device=device).unsqueeze(0)\n",
    "            qv = policy_net(st)\n",
    "            a  = int(qv.argmin(dim=1).item())\n",
    "\n",
    "        # step\n",
    "        obs2, cost, done = env.step(a)\n",
    "        # build tensors\n",
    "        st_v   = torch.tensor(obs, dtype=torch.float32, device=device).unsqueeze(0)\n",
    "        st2_v  = torch.tensor(obs2, dtype=torch.float32, device=device).unsqueeze(0)\n",
    "        cost_v = torch.tensor([cost], dtype=torch.float32, device=device)\n",
    "\n",
    "        # current Q(s,a)\n",
    "        q_vals = policy_net(st_v)\n",
    "        q_s_a  = q_vals[0, a]\n",
    "\n",
    "        # compute TD target: cost + γ·min_a' Q_target(s2,a') if not done\n",
    "        with torch.no_grad():\n",
    "            q2     = target_net(st2_v)\n",
    "            q2_min = q2.min(dim=1)[0]\n",
    "            target = cost_v + gamma * q2_min * (0.0 if done else 1.0)\n",
    "\n",
    "        # loss & backward\n",
    "        loss = mse_loss(q_s_a, target)\n",
    "        opt.zero_grad()\n",
    "        loss.backward()\n",
    "        opt.step()\n",
    "\n",
    "        obs = obs2\n",
    "        step_count += 1\n",
    "\n",
    "        # sync target\n",
    "        if step_count % target_update == 0:\n",
    "            target_net.load_state_dict(policy_net.state_dict())\n",
    "\n",
    "    # ε-decay\n",
    "    eps = max(eps_end, eps_start * np.exp(-ep/eps_decay))\n",
    "\n",
    "    # Q-value convergence check\n",
    "    if ep % check_convergence_every == 0:\n",
    "        with torch.no_grad():\n",
    "            snapshot = []\n",
    "            for s in range(min_inv, max_inv+1):\n",
    "                st = torch.tensor([s, 0], dtype=torch.float32, device=device).unsqueeze(0)\n",
    "                qs = policy_net(st)[0].cpu().numpy()\n",
    "                snapshot.append(qs)\n",
    "            snapshot = np.array(snapshot)\n",
    "        if prev_q_snapshot is not None:\n",
    "            diff = np.max(np.abs(snapshot - prev_q_snapshot))\n",
    "            q_convergence.append(diff)\n",
    "            print(f\"[Ep {ep}] max ΔQ(t=0) = {diff:.6f}\")\n",
    "        prev_q_snapshot = snapshot\n",
    "\n",
    "print(\"✅ Training complete\")\n",
    "\n",
    "# -----------------------\n",
    "# Plot Q-value convergence\n",
    "# -----------------------\n",
    "if q_convergence:\n",
    "    plt.figure(figsize=(6,4))\n",
    "    plt.plot(np.arange(len(q_convergence))*check_convergence_every, q_convergence, marker='o')\n",
    "    plt.xlabel(\"Episode\")\n",
    "    plt.ylabel(\"Max ΔQ at t=0\")\n",
    "    plt.title(\"Q-value Convergence\")\n",
    "    plt.grid(True)\n",
    "    plt.show()\n",
    "\n",
    "# -----------------------\n",
    "# 6) EXTRACT Q-TABLE & POLICY\n",
    "# -----------------------\n",
    "policy_net.eval()\n",
    "num_states = max_inv - min_inv + 1\n",
    "Q_tab      = np.zeros((T, num_states, num_actions), dtype=np.float32)\n",
    "V_tab      = np.zeros((T, num_states), dtype=np.float32)\n",
    "pi_tab     = np.zeros((T, num_states), dtype=int)\n",
    "\n",
    "with torch.no_grad():\n",
    "    for t in range(T):\n",
    "        for i, s in enumerate(range(min_inv, max_inv+1)):\n",
    "            st = torch.tensor([s, t], dtype=torch.float32, device=device).unsqueeze(0)\n",
    "            qs = policy_net(st)[0].cpu().numpy()\n",
    "            Q_tab[t, i]  = qs\n",
    "            pi_tab[t, i] = int(np.argmin(qs))\n",
    "            V_tab[t, i]  = np.min(qs)\n",
    "\n",
    "# -----------------------\n",
    "# 7) Compute Base-Stock σ_t\n",
    "# -----------------------\n",
    "sigma = []\n",
    "for t in range(T):\n",
    "    row = pi_tab[t]\n",
    "    th  = max_inv\n",
    "    for i, a in enumerate(row):\n",
    "        s = i + min_inv\n",
    "        if a == 0:      # action 0 = “no order”\n",
    "            th = s\n",
    "            break\n",
    "    sigma.append(th)\n",
    "\n",
    "print(\"\\nPeriod | σ_t\")\n",
    "print(\"---------------\")\n",
    "for t, z in enumerate(sigma[:20]):\n",
    "    print(f\"{t:6d} | {z:4d}\")\n",
    "print(\" ...\")\n",
    "\n",
    "# -----------------------\n",
    "# 8) Rollout Demo\n",
    "# -----------------------\n",
    "print(\"\\nTime | Inv | σ_t | Demand | Action\")\n",
    "print(\"------------------------------------\")\n",
    "s = 0\n",
    "for t in range(T):\n",
    "    w = random.randint(0,10)\n",
    "    a = pi_tab[t, s - min_inv]\n",
    "    print(f\"{t:4d} | {s:4d} | {sigma[t]:4d} | {w:6d} | {a:6d}\")\n",
    "    s = max(min_inv, min(max_inv, s + a - w))\n",
    "\n",
    "# -----------------------\n",
    "# 9) GIF of V(s) evolution\n",
    "# -----------------------\n",
    "os.makedirs(\"frames\", exist_ok=True)\n",
    "states = np.arange(min_inv, max_inv+1)\n",
    "for t in range(T):\n",
    "    plt.figure(figsize=(4,3))\n",
    "    plt.plot(states, V_tab[t], marker='o')\n",
    "    plt.title(f\"t={t}\")\n",
    "    plt.xlabel(\"Inventory\")\n",
    "    plt.ylabel(\"V(s,t)\")\n",
    "    plt.grid(True)\n",
    "    fn = f\"frames/{t:03d}.png\"\n",
    "    plt.savefig(fn)\n",
    "    plt.close()\n",
    "\n",
    "with imageio.get_writer(\"vf_evolution_no_buffer.gif\", mode=\"I\", duration=0.1) as writer:\n",
    "    for t in range(T):\n",
    "        writer.append_data(imageio.imread(f\"frames/{t:03d}.png\"))\n",
    "shutil.rmtree(\"frames\")\n",
    "\n",
    "print(\"GIF saved as vf_evolution_no_buffer.gif\")\n"
   ]
  },
  {
   "cell_type": "code",
   "execution_count": null,
   "metadata": {},
   "outputs": [],
   "source": []
  }
 ],
 "metadata": {
  "kernelspec": {
   "display_name": "base",
   "language": "python",
   "name": "python3"
  },
  "language_info": {
   "codemirror_mode": {
    "name": "ipython",
    "version": 3
   },
   "file_extension": ".py",
   "mimetype": "text/x-python",
   "name": "python",
   "nbconvert_exporter": "python",
   "pygments_lexer": "ipython3",
   "version": "3.12.7"
  }
 },
 "nbformat": 4,
 "nbformat_minor": 2
}
